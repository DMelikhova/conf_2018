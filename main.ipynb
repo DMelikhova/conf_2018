{
 "cells": [
  {
   "cell_type": "markdown",
   "metadata": {},
   "source": [
    "### Прочитали fasta формат"
   ]
  },
  {
   "cell_type": "code",
   "execution_count": 1,
   "metadata": {
    "collapsed": true
   },
   "outputs": [],
   "source": [
    "from Bio.Blast import NCBIWWW\n",
    "from Bio import SeqIO\n",
    "record = SeqIO.read(\"sequence.fasta\", format=\"fasta\")\n"
   ]
  },
  {
   "cell_type": "code",
   "execution_count": 37,
   "metadata": {},
   "outputs": [
    {
     "data": {
      "text/plain": [
       "Seq('MASFQSFGIPGQLEVIKKALDHVRVGVVITDPALEDNPIVYVNQGFVQMTGYET...DIT', SingleLetterAlphabet())"
      ]
     },
     "execution_count": 37,
     "metadata": {},
     "output_type": "execute_result"
    }
   ],
   "source": [
    "record.seq[0:127]"
   ]
  },
  {
   "cell_type": "markdown",
   "metadata": {},
   "source": [
    "### Рассмотрим результат BLAST поиска"
   ]
  },
  {
   "cell_type": "code",
   "execution_count": 173,
   "metadata": {
    "collapsed": true
   },
   "outputs": [],
   "source": [
    "result_handle = open('W8ZR3WEN015-Alignment.xml')"
   ]
  },
  {
   "cell_type": "code",
   "execution_count": 174,
   "metadata": {
    "collapsed": true
   },
   "outputs": [],
   "source": [
    "from Bio.Blast import NCBIXML\n",
    "blast_records = NCBIXML.parse(result_handle)"
   ]
  },
  {
   "cell_type": "code",
   "execution_count": 175,
   "metadata": {
    "collapsed": true
   },
   "outputs": [],
   "source": [
    "good_almns = {}\n",
    "for blast_record in blast_records:\n",
    "    for alignment in blast_record.alignments:\n",
    "        for hsp in alignment.hsps:\n",
    "            titles = alignment.title.split('>')\n",
    "            for title in titles:\n",
    "                t = title.split('|')\n",
    "                ss =['517848989']\n",
    "                for s in ss:\n",
    "                    if t[1] == s:\n",
    "                        print(\"****Alignment****\")\n",
    "                        print(\"sequence:\", alignment.title)\n",
    "               \n"
   ]
  },
  {
   "cell_type": "markdown",
   "metadata": {},
   "source": [
    "Варианты, которые получлсь у меня и совпали со статьей 504822023, 505222758, "
   ]
  },
  {
   "cell_type": "code",
   "execution_count": 1,
   "metadata": {
    "collapsed": true
   },
   "outputs": [],
   "source": [
    "good_almns"
   ]
  },
  {
   "cell_type": "code",
   "execution_count": 2,
   "metadata": {},
   "outputs": [
    {
     "data": {
      "text/plain": [
       "'for blast_record in blast_records:\\n    for alignment in blast_record.alignments:\\n        for hsp in alignment.hsps:\\n            print(\"****Alignment****\")\\n            print(\"sequence:\", alignment.title)\\n            print(hsp.query_start, hsp.query_end, sep = \\' \\')\\n            print(hsp.query[0:75] + \\'...\\')'"
      ]
     },
     "execution_count": 2,
     "metadata": {},
     "output_type": "execute_result"
    }
   ],
   "source": [
    "\"\"\"for blast_record in blast_records:\n",
    "    for alignment in blast_record.alignments:\n",
    "        for hsp in alignment.hsps:\n",
    "            print(\"****Alignment****\")\n",
    "            print(\"sequence:\", alignment.title)\n",
    "            print(hsp.query_start, hsp.query_end, sep = ' ')\n",
    "            print(hsp.query[0:75] + '...')\"\"\""
   ]
  },
  {
   "cell_type": "markdown",
   "metadata": {},
   "source": [
    "### Скачивание OneKP"
   ]
  },
  {
   "cell_type": "code",
   "execution_count": 4,
   "metadata": {
    "collapsed": true
   },
   "outputs": [],
   "source": [
    "from bs4 import BeautifulSoup   # Для обработки HTML\n",
    "import requests # для получения кода страницы"
   ]
  },
  {
   "cell_type": "markdown",
   "metadata": {},
   "source": [
    "Пропарсила страницу нашла нужные ссылки"
   ]
  },
  {
   "cell_type": "code",
   "execution_count": 5,
   "metadata": {
    "collapsed": true
   },
   "outputs": [],
   "source": [
    "data = requests.get('http://www.onekp.com/public_data.html')"
   ]
  },
  {
   "cell_type": "code",
   "execution_count": 9,
   "metadata": {
    "collapsed": true
   },
   "outputs": [],
   "source": [
    "soup = BeautifulSoup(data.text, 'html.parser')"
   ]
  },
  {
   "cell_type": "code",
   "execution_count": 1,
   "metadata": {
    "collapsed": true
   },
   "outputs": [],
   "source": [
    "print(soup.prettify())"
   ]
  },
  {
   "cell_type": "markdown",
   "metadata": {},
   "source": [
    "Получим все ссылки"
   ]
  },
  {
   "cell_type": "code",
   "execution_count": 28,
   "metadata": {
    "collapsed": true
   },
   "outputs": [],
   "source": [
    "s= []\n",
    "for string in soup.find_all('a'):\n",
    "    s.append(string.get('href'))"
   ]
  },
  {
   "cell_type": "markdown",
   "metadata": {},
   "source": [
    "Будем обращаться для скачивания по необходимым ссылкам"
   ]
  },
  {
   "cell_type": "code",
   "execution_count": 57,
   "metadata": {
    "collapsed": true
   },
   "outputs": [],
   "source": [
    "import urllib"
   ]
  },
  {
   "cell_type": "code",
   "execution_count": 55,
   "metadata": {
    "collapsed": true
   },
   "outputs": [],
   "source": [
    "res = [elem if elem.find(\"Trans-assembly\")!=-1 else None for elem in s]"
   ]
  },
  {
   "cell_type": "markdown",
   "metadata": {},
   "source": [
    "Попытка (удачная) скачать файл"
   ]
  },
  {
   "cell_type": "code",
   "execution_count": 59,
   "metadata": {},
   "outputs": [
    {
     "data": {
      "text/plain": [
       "('URDJ.bz2', <http.client.HTTPMessage at 0x7f476baf3e10>)"
      ]
     },
     "execution_count": 59,
     "metadata": {},
     "output_type": "execute_result"
    }
   ],
   "source": [
    "url = 'http://206.12.96.204/onekp/URDJ-SOAPdenovo-Trans-assembly.fa.bz2'\n",
    "urllib.request.urlretrieve(url, \"URDJ.bz2\")"
   ]
  },
  {
   "cell_type": "markdown",
   "metadata": {},
   "source": [
    "### Разделение файла с белками из Interpro"
   ]
  },
  {
   "cell_type": "code",
   "execution_count": 3,
   "metadata": {
    "collapsed": true
   },
   "outputs": [],
   "source": [
    "with open('proteins-matched_interpro.txt', 'r') as file:\n",
    "    n = 0\n",
    "    s_1, s_2, s_3, s_4 = [], [], [], []\n",
    "    for line in file:\n",
    "        if line.startswith('>'):\n",
    "            n += 1\n",
    "        if n <= 98328:\n",
    "            s_1.append(line)\n",
    "        elif 98328 < n <= 98328*2:\n",
    "            s_2.append(line)\n",
    "        elif 98328 * 2 < n <= 98328*3:\n",
    "            s_3.append(line)\n",
    "        else:\n",
    "            s_4.append(line)\n",
    "            \n",
    "            "
   ]
  },
  {
   "cell_type": "code",
   "execution_count": 4,
   "metadata": {
    "collapsed": true
   },
   "outputs": [],
   "source": [
    "with open('protein_1.txt','w') as file:\n",
    "    file.write(''.join(s_1))\n",
    "with open('protein_2.txt','w') as file:\n",
    "    file.write(''.join(s_2))\n",
    "with open('protein_3.txt','w') as file:\n",
    "    file.write(''.join(s_3))\n",
    "with open('protein_4.txt','w') as file:\n",
    "    file.write(''.join(s_4))"
   ]
  },
  {
   "cell_type": "markdown",
   "metadata": {},
   "source": [
    "### Парсинг файлов mast и meme "
   ]
  },
  {
   "cell_type": "code",
   "execution_count": 121,
   "metadata": {
    "collapsed": true
   },
   "outputs": [],
   "source": [
    "from bs4 import BeautifulSoup\n",
    "with open(\"Without_Cys/mast_interpro_4_cl.xml\",\"r\") as f:\n",
    "    contents = f.read()\n",
    "soup = BeautifulSoup(contents,'xml')\n",
    "#print(soup.prettify())"
   ]
  },
  {
   "cell_type": "code",
   "execution_count": 100,
   "metadata": {
    "collapsed": true
   },
   "outputs": [],
   "source": [
    "motifs = soup.motifs.findAll('motif')"
   ]
  },
  {
   "cell_type": "code",
   "execution_count": 101,
   "metadata": {
    "collapsed": true
   },
   "outputs": [],
   "source": [
    "length = [motif['length'] for motif in motifs]"
   ]
  },
  {
   "cell_type": "code",
   "execution_count": 102,
   "metadata": {},
   "outputs": [
    {
     "data": {
      "text/plain": [
       "['35', '31', '29']"
      ]
     },
     "execution_count": 102,
     "metadata": {},
     "output_type": "execute_result"
    }
   ],
   "source": [
    "length"
   ]
  },
  {
   "cell_type": "markdown",
   "metadata": {},
   "source": [
    "На 40 месте  в мотиве стоит **С** на который и нужно проверить или для Cysless на 24 месте не должен стоять."
   ]
  },
  {
   "cell_type": "code",
   "execution_count": 122,
   "metadata": {
    "collapsed": true
   },
   "outputs": [],
   "source": [
    "sequences = soup.sequences.findAll('sequence')"
   ]
  },
  {
   "cell_type": "code",
   "execution_count": 104,
   "metadata": {
    "collapsed": true
   },
   "outputs": [],
   "source": [
    "import re\n",
    "reg = re.compile('[^a-zA-Z ]')"
   ]
  },
  {
   "cell_type": "markdown",
   "metadata": {},
   "source": [
    "Нашли все имена таких сиквенсов и также запсали данные о них в формати xml"
   ]
  },
  {
   "cell_type": "code",
   "execution_count": 123,
   "metadata": {
    "collapsed": true
   },
   "outputs": [],
   "source": [
    "Cys_seq_names = set()\n",
    "Cys_seq = set()\n",
    "for seq in sequences:\n",
    "    for seg in seq.find_all('seg'):\n",
    "        if bool(seg.find(idx = '0')) == True:\n",
    "            if reg.sub('', seg.data.string)[int(seg.find(idx = '0')['pos']) - int(seg['start']) + 23] != 'C':\n",
    "                Cys_seq_names.add(seq['name'])\n",
    "                Cys_seq.add(seq)"
   ]
  },
  {
   "cell_type": "code",
   "execution_count": 59,
   "metadata": {
    "collapsed": true
   },
   "outputs": [],
   "source": [
    "with open('Without_Cys/Cysless_sequences_4.xml', 'w') as f:\n",
    "    for i in Cys_seq:\n",
    "        f.write(str(i) + '\\n')"
   ]
  },
  {
   "cell_type": "markdown",
   "metadata": {},
   "source": [
    "Все отсеившееся по нашему выбору сиквенсы запишем в отдельный файл"
   ]
  },
  {
   "cell_type": "code",
   "execution_count": 124,
   "metadata": {
    "collapsed": true
   },
   "outputs": [],
   "source": [
    "with open('protein_4.txt', 'r') as f:\n",
    "    fasta = {}\n",
    "    for line in map(lambda st: st.rstrip('\\n'), f):\n",
    "        if line.startswith('>'):\n",
    "            name = line\n",
    "        else:\n",
    "            fasta.setdefault(name, []).append(line)"
   ]
  },
  {
   "cell_type": "code",
   "execution_count": 125,
   "metadata": {
    "collapsed": true
   },
   "outputs": [],
   "source": [
    "new_file = []\n",
    "for name in Cys_seq_names:\n",
    "    new_file.append('>' + name + '\\n')\n",
    "    for s in fasta.get('>' + name):\n",
    "        new_file.append(s + '\\n')"
   ]
  },
  {
   "cell_type": "code",
   "execution_count": 126,
   "metadata": {
    "collapsed": true
   },
   "outputs": [],
   "source": [
    "with open('Cysless_proteins_4.fasta', 'w') as f:\n",
    "    f.write(''.join(new_file))"
   ]
  },
  {
   "cell_type": "markdown",
   "metadata": {
    "collapsed": true
   },
   "source": [
    "### Парсинг результатов pfam "
   ]
  },
  {
   "cell_type": "markdown",
   "metadata": {},
   "source": [
    "Сначала вручную удаляем информацию с *#* кроме последнего, с наименованием величин.  "
   ]
  },
  {
   "cell_type": "code",
   "execution_count": 83,
   "metadata": {
    "collapsed": true
   },
   "outputs": [],
   "source": [
    "import pandas as pd"
   ]
  },
  {
   "cell_type": "code",
   "execution_count": 90,
   "metadata": {},
   "outputs": [],
   "source": [
    "columns = []\n",
    "d = []\n",
    "with open('pfam.txt', 'r') as f:\n",
    "    for line in f:\n",
    "        if line.startswith('<'):\n",
    "            columns = line.split('> <')\n",
    "        else:\n",
    "            d.append(line.split())\n",
    "columns[0] = columns[0].strip('<')\n",
    "columns[-1] = columns[-1].strip('>\\n')"
   ]
  },
  {
   "cell_type": "code",
   "execution_count": 97,
   "metadata": {},
   "outputs": [],
   "source": [
    "data = pd.DataFrame(d, columns=columns)"
   ]
  },
  {
   "cell_type": "code",
   "execution_count": 98,
   "metadata": {},
   "outputs": [
    {
     "data": {
      "text/html": [
       "<div>\n",
       "<style scoped>\n",
       "    .dataframe tbody tr th:only-of-type {\n",
       "        vertical-align: middle;\n",
       "    }\n",
       "\n",
       "    .dataframe tbody tr th {\n",
       "        vertical-align: top;\n",
       "    }\n",
       "\n",
       "    .dataframe thead th {\n",
       "        text-align: right;\n",
       "    }\n",
       "</style>\n",
       "<table border=\"1\" class=\"dataframe\">\n",
       "  <thead>\n",
       "    <tr style=\"text-align: right;\">\n",
       "      <th></th>\n",
       "      <th>seq id</th>\n",
       "      <th>alignment start</th>\n",
       "      <th>alignment end</th>\n",
       "      <th>envelope start</th>\n",
       "      <th>envelope end</th>\n",
       "      <th>hmm acc</th>\n",
       "      <th>hmm name</th>\n",
       "      <th>type</th>\n",
       "      <th>hmm start</th>\n",
       "      <th>hmm end</th>\n",
       "      <th>hmm length</th>\n",
       "      <th>bit score</th>\n",
       "      <th>E-value</th>\n",
       "      <th>significance</th>\n",
       "      <th>clan</th>\n",
       "    </tr>\n",
       "  </thead>\n",
       "  <tbody>\n",
       "    <tr>\n",
       "      <th>0</th>\n",
       "      <td>A0A0H2XCS3</td>\n",
       "      <td>13</td>\n",
       "      <td>75</td>\n",
       "      <td>13</td>\n",
       "      <td>120</td>\n",
       "      <td>PF08446.11</td>\n",
       "      <td>PAS_2</td>\n",
       "      <td>Domain</td>\n",
       "      <td>1</td>\n",
       "      <td>63</td>\n",
       "      <td>107</td>\n",
       "      <td>48.1</td>\n",
       "      <td>1.6e-12</td>\n",
       "      <td>1</td>\n",
       "      <td>CL0183</td>\n",
       "    </tr>\n",
       "    <tr>\n",
       "      <th>1</th>\n",
       "      <td>A0A0H2XCS3</td>\n",
       "      <td>148</td>\n",
       "      <td>305</td>\n",
       "      <td>145</td>\n",
       "      <td>308</td>\n",
       "      <td>PF01590.26</td>\n",
       "      <td>GAF</td>\n",
       "      <td>Domain</td>\n",
       "      <td>5</td>\n",
       "      <td>130</td>\n",
       "      <td>133</td>\n",
       "      <td>67.0</td>\n",
       "      <td>2.5e-18</td>\n",
       "      <td>1</td>\n",
       "      <td>CL0161</td>\n",
       "    </tr>\n",
       "    <tr>\n",
       "      <th>2</th>\n",
       "      <td>A0A0H2XCS3</td>\n",
       "      <td>325</td>\n",
       "      <td>510</td>\n",
       "      <td>323</td>\n",
       "      <td>512</td>\n",
       "      <td>PF00360.20</td>\n",
       "      <td>PHY</td>\n",
       "      <td>Family</td>\n",
       "      <td>3</td>\n",
       "      <td>181</td>\n",
       "      <td>183</td>\n",
       "      <td>180.3</td>\n",
       "      <td>2.2e-53</td>\n",
       "      <td>1</td>\n",
       "      <td>CL0161</td>\n",
       "    </tr>\n",
       "    <tr>\n",
       "      <th>3</th>\n",
       "      <td>A0A0H2XCS3</td>\n",
       "      <td>539</td>\n",
       "      <td>632</td>\n",
       "      <td>528</td>\n",
       "      <td>632</td>\n",
       "      <td>PF13426.7</td>\n",
       "      <td>PAS_9</td>\n",
       "      <td>Domain</td>\n",
       "      <td>8</td>\n",
       "      <td>101</td>\n",
       "      <td>104</td>\n",
       "      <td>26.9</td>\n",
       "      <td>4.4e-06</td>\n",
       "      <td>1</td>\n",
       "      <td>CL0183</td>\n",
       "    </tr>\n",
       "  </tbody>\n",
       "</table>\n",
       "</div>"
      ],
      "text/plain": [
       "       seq id alignment start alignment end envelope start envelope end  \\\n",
       "0  A0A0H2XCS3              13            75             13          120   \n",
       "1  A0A0H2XCS3             148           305            145          308   \n",
       "2  A0A0H2XCS3             325           510            323          512   \n",
       "3  A0A0H2XCS3             539           632            528          632   \n",
       "\n",
       "      hmm acc hmm name    type hmm start hmm end hmm length bit score  \\\n",
       "0  PF08446.11    PAS_2  Domain         1      63        107      48.1   \n",
       "1  PF01590.26      GAF  Domain         5     130        133      67.0   \n",
       "2  PF00360.20      PHY  Family         3     181        183     180.3   \n",
       "3   PF13426.7    PAS_9  Domain         8     101        104      26.9   \n",
       "\n",
       "   E-value significance    clan  \n",
       "0  1.6e-12            1  CL0183  \n",
       "1  2.5e-18            1  CL0161  \n",
       "2  2.2e-53            1  CL0161  \n",
       "3  4.4e-06            1  CL0183  "
      ]
     },
     "execution_count": 98,
     "metadata": {},
     "output_type": "execute_result"
    }
   ],
   "source": [
    "data"
   ]
  },
  {
   "cell_type": "code",
   "execution_count": null,
   "metadata": {
    "collapsed": true
   },
   "outputs": [],
   "source": []
  }
 ],
 "metadata": {
  "kernelspec": {
   "display_name": "Python 3",
   "language": "python",
   "name": "python3"
  },
  "language_info": {
   "codemirror_mode": {
    "name": "ipython",
    "version": 3
   },
   "file_extension": ".py",
   "mimetype": "text/x-python",
   "name": "python",
   "nbconvert_exporter": "python",
   "pygments_lexer": "ipython3",
   "version": "3.5.2"
  }
 },
 "nbformat": 4,
 "nbformat_minor": 2
}
