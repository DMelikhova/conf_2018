{
 "cells": [
  {
   "cell_type": "markdown",
   "metadata": {},
   "source": [
    "### Прочитали fasta формат"
   ]
  },
  {
   "cell_type": "code",
   "execution_count": 1,
   "metadata": {
    "collapsed": true
   },
   "outputs": [],
   "source": [
    "from Bio.Blast import NCBIWWW\n",
    "from Bio import SeqIO\n",
    "record = SeqIO.read(\"sequence.fasta\", format=\"fasta\")\n"
   ]
  },
  {
   "cell_type": "code",
   "execution_count": 37,
   "metadata": {},
   "outputs": [
    {
     "data": {
      "text/plain": [
       "Seq('MASFQSFGIPGQLEVIKKALDHVRVGVVITDPALEDNPIVYVNQGFVQMTGYET...DIT', SingleLetterAlphabet())"
      ]
     },
     "execution_count": 37,
     "metadata": {},
     "output_type": "execute_result"
    }
   ],
   "source": [
    "record.seq[0:127]"
   ]
  },
  {
   "cell_type": "markdown",
   "metadata": {},
   "source": [
    "### Рассмотрим результат BLAST поиска"
   ]
  },
  {
   "cell_type": "code",
   "execution_count": 173,
   "metadata": {
    "collapsed": true
   },
   "outputs": [],
   "source": [
    "result_handle = open('W8ZR3WEN015-Alignment.xml')"
   ]
  },
  {
   "cell_type": "code",
   "execution_count": 174,
   "metadata": {
    "collapsed": true
   },
   "outputs": [],
   "source": [
    "from Bio.Blast import NCBIXML\n",
    "blast_records = NCBIXML.parse(result_handle)"
   ]
  },
  {
   "cell_type": "code",
   "execution_count": 175,
   "metadata": {
    "collapsed": true
   },
   "outputs": [],
   "source": [
    "good_almns = {}\n",
    "for blast_record in blast_records:\n",
    "    for alignment in blast_record.alignments:\n",
    "        for hsp in alignment.hsps:\n",
    "            titles = alignment.title.split('>')\n",
    "            for title in titles:\n",
    "                t = title.split('|')\n",
    "                ss =['517848989']\n",
    "                for s in ss:\n",
    "                    if t[1] == s:\n",
    "                        print(\"****Alignment****\")\n",
    "                        print(\"sequence:\", alignment.title)\n",
    "               \n"
   ]
  },
  {
   "cell_type": "markdown",
   "metadata": {},
   "source": [
    "Варианты, которые получлсь у меня и совпали со статьей 504822023, 505222758, "
   ]
  },
  {
   "cell_type": "code",
   "execution_count": 1,
   "metadata": {
    "collapsed": true
   },
   "outputs": [],
   "source": [
    "good_almns"
   ]
  },
  {
   "cell_type": "code",
   "execution_count": 2,
   "metadata": {},
   "outputs": [
    {
     "data": {
      "text/plain": [
       "'for blast_record in blast_records:\\n    for alignment in blast_record.alignments:\\n        for hsp in alignment.hsps:\\n            print(\"****Alignment****\")\\n            print(\"sequence:\", alignment.title)\\n            print(hsp.query_start, hsp.query_end, sep = \\' \\')\\n            print(hsp.query[0:75] + \\'...\\')'"
      ]
     },
     "execution_count": 2,
     "metadata": {},
     "output_type": "execute_result"
    }
   ],
   "source": [
    "\"\"\"for blast_record in blast_records:\n",
    "    for alignment in blast_record.alignments:\n",
    "        for hsp in alignment.hsps:\n",
    "            print(\"****Alignment****\")\n",
    "            print(\"sequence:\", alignment.title)\n",
    "            print(hsp.query_start, hsp.query_end, sep = ' ')\n",
    "            print(hsp.query[0:75] + '...')\"\"\""
   ]
  },
  {
   "cell_type": "markdown",
   "metadata": {},
   "source": [
    "### Скачивание OneKP"
   ]
  },
  {
   "cell_type": "code",
   "execution_count": 4,
   "metadata": {
    "collapsed": true
   },
   "outputs": [],
   "source": [
    "from bs4 import BeautifulSoup   # Для обработки HTML\n",
    "import requests # для получения кода страницы"
   ]
  },
  {
   "cell_type": "markdown",
   "metadata": {},
   "source": [
    "Пропарсила страницу нашла нужные ссылки"
   ]
  },
  {
   "cell_type": "code",
   "execution_count": 5,
   "metadata": {
    "collapsed": true
   },
   "outputs": [],
   "source": [
    "data = requests.get('http://www.onekp.com/public_data.html')"
   ]
  },
  {
   "cell_type": "code",
   "execution_count": 9,
   "metadata": {
    "collapsed": true
   },
   "outputs": [],
   "source": [
    "soup = BeautifulSoup(data.text, 'html.parser')"
   ]
  },
  {
   "cell_type": "code",
   "execution_count": 1,
   "metadata": {
    "collapsed": true
   },
   "outputs": [],
   "source": [
    "print(soup.prettify())"
   ]
  },
  {
   "cell_type": "markdown",
   "metadata": {},
   "source": [
    "Получим все ссылки"
   ]
  },
  {
   "cell_type": "code",
   "execution_count": 28,
   "metadata": {
    "collapsed": true
   },
   "outputs": [],
   "source": [
    "s= []\n",
    "for string in soup.find_all('a'):\n",
    "    s.append(string.get('href'))"
   ]
  },
  {
   "cell_type": "markdown",
   "metadata": {},
   "source": [
    "Будем обращаться для скачивания по необходимым ссылкам"
   ]
  },
  {
   "cell_type": "code",
   "execution_count": 57,
   "metadata": {
    "collapsed": true
   },
   "outputs": [],
   "source": [
    "import urllib"
   ]
  },
  {
   "cell_type": "code",
   "execution_count": 55,
   "metadata": {
    "collapsed": true
   },
   "outputs": [],
   "source": [
    "res = [elem if elem.find(\"Trans-assembly\")!=-1 else None for elem in s]"
   ]
  },
  {
   "cell_type": "markdown",
   "metadata": {},
   "source": [
    "Попытка (удачная) скачать файл"
   ]
  },
  {
   "cell_type": "code",
   "execution_count": 59,
   "metadata": {},
   "outputs": [
    {
     "data": {
      "text/plain": [
       "('URDJ.bz2', <http.client.HTTPMessage at 0x7f476baf3e10>)"
      ]
     },
     "execution_count": 59,
     "metadata": {},
     "output_type": "execute_result"
    }
   ],
   "source": [
    "url = 'http://206.12.96.204/onekp/URDJ-SOAPdenovo-Trans-assembly.fa.bz2'\n",
    "urllib.request.urlretrieve(url, \"URDJ.bz2\")"
   ]
  },
  {
   "cell_type": "markdown",
   "metadata": {},
   "source": [
    "### Разделение файла с белками из Interpro"
   ]
  },
  {
   "cell_type": "code",
   "execution_count": 3,
   "metadata": {
    "collapsed": true
   },
   "outputs": [],
   "source": [
    "with open('proteins-matched_interpro.txt', 'r') as file:\n",
    "    n = 0\n",
    "    s_1, s_2, s_3, s_4 = [], [], [], []\n",
    "    for line in file:\n",
    "        if line.startswith('>'):\n",
    "            n += 1\n",
    "        if n <= 98328:\n",
    "            s_1.append(line)\n",
    "        elif 98328 < n <= 98328*2:\n",
    "            s_2.append(line)\n",
    "        elif 98328 * 2 < n <= 98328*3:\n",
    "            s_3.append(line)\n",
    "        else:\n",
    "            s_4.append(line)\n",
    "            \n",
    "            "
   ]
  },
  {
   "cell_type": "code",
   "execution_count": 4,
   "metadata": {
    "collapsed": true
   },
   "outputs": [],
   "source": [
    "with open('protein_1.txt','w') as file:\n",
    "    file.write(''.join(s_1))\n",
    "with open('protein_2.txt','w') as file:\n",
    "    file.write(''.join(s_2))\n",
    "with open('protein_3.txt','w') as file:\n",
    "    file.write(''.join(s_3))\n",
    "with open('protein_4.txt','w') as file:\n",
    "    file.write(''.join(s_4))"
   ]
  },
  {
   "cell_type": "markdown",
   "metadata": {},
   "source": [
    "### Парсинг файлов mast и meme "
   ]
  },
  {
   "cell_type": "code",
   "execution_count": 89,
   "metadata": {},
   "outputs": [],
   "source": [
    "from bs4 import BeautifulSoup\n",
    "with open(\"Without_Cys/mast_interpro_1_cl.xml\",\"r\") as f:\n",
    "    contents = f.read()\n",
    "soup = BeautifulSoup(contents,'xml')\n",
    "#print(soup.prettify())"
   ]
  },
  {
   "cell_type": "code",
   "execution_count": 90,
   "metadata": {},
   "outputs": [],
   "source": [
    "motifs = soup.motifs.findAll('motif')"
   ]
  },
  {
   "cell_type": "code",
   "execution_count": 91,
   "metadata": {},
   "outputs": [],
   "source": [
    "length = [motif['length'] for motif in motifs]"
   ]
  },
  {
   "cell_type": "code",
   "execution_count": 92,
   "metadata": {},
   "outputs": [
    {
     "data": {
      "text/plain": [
       "['35', '31', '29']"
      ]
     },
     "execution_count": 92,
     "metadata": {},
     "output_type": "execute_result"
    }
   ],
   "source": [
    "length"
   ]
  },
  {
   "cell_type": "markdown",
   "metadata": {},
   "source": [
    "На 40 месте  в мотиве стоит **С** на который и нужно проверить или для Cysless на 24 месте не должен стоять."
   ]
  },
  {
   "cell_type": "code",
   "execution_count": 93,
   "metadata": {},
   "outputs": [],
   "source": [
    "sequences = soup.sequences.findAll('sequence')"
   ]
  },
  {
   "cell_type": "code",
   "execution_count": 94,
   "metadata": {},
   "outputs": [],
   "source": [
    "import re\n",
    "reg = re.compile('[^a-zA-Z ]')"
   ]
  },
  {
   "cell_type": "markdown",
   "metadata": {},
   "source": [
    "Нашли все имена таких сиквенсов и также запсали данные о них в формати xml"
   ]
  },
  {
   "cell_type": "code",
   "execution_count": 95,
   "metadata": {},
   "outputs": [],
   "source": [
    "Cys_seq_names = set()\n",
    "Cys_seq = set()\n",
    "for seq in sequences:\n",
    "    for seg in seq.find_all('seg'):\n",
    "        if bool(seg.find(idx = '0')) == True:\n",
    "            if reg.sub('', seg.data.string)[int(seg.find(idx = '0')['pos']) - int(seg['start']) + 23] != 'C':\n",
    "                Cys_seq_names.add(seq['name'])\n",
    "                Cys_seq.add(seq)"
   ]
  },
  {
   "cell_type": "code",
   "execution_count": 59,
   "metadata": {
    "collapsed": true
   },
   "outputs": [],
   "source": [
    "with open('Without_Cys/Cysless_sequences_4.xml', 'w') as f:\n",
    "    for i in Cys_seq:\n",
    "        f.write(str(i) + '\\n')"
   ]
  },
  {
   "cell_type": "markdown",
   "metadata": {},
   "source": [
    "Все отсеившееся по нашему выбору сиквенсы запишем в отдельный файл"
   ]
  },
  {
   "cell_type": "code",
   "execution_count": 124,
   "metadata": {
    "collapsed": true
   },
   "outputs": [],
   "source": [
    "with open('protein_4.txt', 'r') as f:\n",
    "    fasta = {}\n",
    "    for line in map(lambda st: st.rstrip('\\n'), f):\n",
    "        if line.startswith('>'):\n",
    "            name = line\n",
    "        else:\n",
    "            fasta.setdefault(name, []).append(line)"
   ]
  },
  {
   "cell_type": "code",
   "execution_count": 125,
   "metadata": {
    "collapsed": true
   },
   "outputs": [],
   "source": [
    "new_file = []\n",
    "for name in Cys_seq_names:\n",
    "    new_file.append('>' + name + '\\n')\n",
    "    for s in fasta.get('>' + name):\n",
    "        new_file.append(s + '\\n')"
   ]
  },
  {
   "cell_type": "code",
   "execution_count": 126,
   "metadata": {
    "collapsed": true
   },
   "outputs": [],
   "source": [
    "with open('Cysless_proteins_4.fasta', 'w') as f:\n",
    "    f.write(''.join(new_file))"
   ]
  },
  {
   "cell_type": "markdown",
   "metadata": {
    "collapsed": true
   },
   "source": [
    "### Парсинг результатов pfam "
   ]
  },
  {
   "cell_type": "markdown",
   "metadata": {},
   "source": [
    "Сначала вручную удаляем информацию с *#* кроме последнего, с наименованием величин.  "
   ]
  },
  {
   "cell_type": "code",
   "execution_count": 47,
   "metadata": {},
   "outputs": [],
   "source": [
    "import pandas as pd"
   ]
  },
  {
   "cell_type": "code",
   "execution_count": 115,
   "metadata": {},
   "outputs": [],
   "source": [
    "columns = []\n",
    "d = []\n",
    "with open('Without_Cys/pfam_4_cl.txt', 'r') as f:\n",
    "    for line in f:\n",
    "        if line.startswith('<'):\n",
    "            columns = line.split('> <')\n",
    "        else:\n",
    "            d.append(line.split())\n",
    "columns[0] = columns[0].strip('<')\n",
    "columns[-1] = columns[-1].strip('>\\n')"
   ]
  },
  {
   "cell_type": "code",
   "execution_count": 116,
   "metadata": {},
   "outputs": [],
   "source": [
    "data = pd.DataFrame(d, columns=columns)"
   ]
  },
  {
   "cell_type": "code",
   "execution_count": 117,
   "metadata": {},
   "outputs": [
    {
     "data": {
      "text/html": [
       "<div>\n",
       "<style scoped>\n",
       "    .dataframe tbody tr th:only-of-type {\n",
       "        vertical-align: middle;\n",
       "    }\n",
       "\n",
       "    .dataframe tbody tr th {\n",
       "        vertical-align: top;\n",
       "    }\n",
       "\n",
       "    .dataframe thead th {\n",
       "        text-align: right;\n",
       "    }\n",
       "</style>\n",
       "<table border=\"1\" class=\"dataframe\">\n",
       "  <thead>\n",
       "    <tr style=\"text-align: right;\">\n",
       "      <th></th>\n",
       "      <th>seq id</th>\n",
       "      <th>alignment start</th>\n",
       "      <th>alignment end</th>\n",
       "      <th>envelope start</th>\n",
       "      <th>envelope end</th>\n",
       "      <th>hmm acc</th>\n",
       "      <th>hmm name</th>\n",
       "      <th>type</th>\n",
       "      <th>hmm start</th>\n",
       "      <th>hmm end</th>\n",
       "      <th>hmm length</th>\n",
       "      <th>bit score</th>\n",
       "      <th>E-value</th>\n",
       "      <th>significance</th>\n",
       "      <th>clan</th>\n",
       "    </tr>\n",
       "  </thead>\n",
       "  <tbody>\n",
       "    <tr>\n",
       "      <th>0</th>\n",
       "      <td>M1FCN8</td>\n",
       "      <td>32</td>\n",
       "      <td>128</td>\n",
       "      <td>22</td>\n",
       "      <td>129</td>\n",
       "      <td>PF13426.7</td>\n",
       "      <td>PAS_9</td>\n",
       "      <td>Domain</td>\n",
       "      <td>11</td>\n",
       "      <td>103</td>\n",
       "      <td>104</td>\n",
       "      <td>76.6</td>\n",
       "      <td>1.5e-21</td>\n",
       "      <td>1</td>\n",
       "      <td>CL0183</td>\n",
       "    </tr>\n",
       "    <tr>\n",
       "      <th>1</th>\n",
       "      <td>M1FCN8</td>\n",
       "      <td>148</td>\n",
       "      <td>251</td>\n",
       "      <td>148</td>\n",
       "      <td>251</td>\n",
       "      <td>PF13426.7</td>\n",
       "      <td>PAS_9</td>\n",
       "      <td>Domain</td>\n",
       "      <td>1</td>\n",
       "      <td>104</td>\n",
       "      <td>104</td>\n",
       "      <td>64.4</td>\n",
       "      <td>9.1e-18</td>\n",
       "      <td>1</td>\n",
       "      <td>CL0183</td>\n",
       "    </tr>\n",
       "    <tr>\n",
       "      <th>2</th>\n",
       "      <td>M1FCN8</td>\n",
       "      <td>265</td>\n",
       "      <td>416</td>\n",
       "      <td>263</td>\n",
       "      <td>416</td>\n",
       "      <td>PF00990.21</td>\n",
       "      <td>GGDEF</td>\n",
       "      <td>Domain</td>\n",
       "      <td>3</td>\n",
       "      <td>161</td>\n",
       "      <td>161</td>\n",
       "      <td>125.5</td>\n",
       "      <td>1.5e-36</td>\n",
       "      <td>1</td>\n",
       "      <td>CL0276</td>\n",
       "    </tr>\n",
       "    <tr>\n",
       "      <th>3</th>\n",
       "      <td>V4Y023</td>\n",
       "      <td>135</td>\n",
       "      <td>236</td>\n",
       "      <td>134</td>\n",
       "      <td>236</td>\n",
       "      <td>PF13426.7</td>\n",
       "      <td>PAS_9</td>\n",
       "      <td>Domain</td>\n",
       "      <td>2</td>\n",
       "      <td>104</td>\n",
       "      <td>104</td>\n",
       "      <td>42.9</td>\n",
       "      <td>4.7e-11</td>\n",
       "      <td>1</td>\n",
       "      <td>CL0183</td>\n",
       "    </tr>\n",
       "    <tr>\n",
       "      <th>4</th>\n",
       "      <td>V4Y023</td>\n",
       "      <td>257</td>\n",
       "      <td>361</td>\n",
       "      <td>255</td>\n",
       "      <td>361</td>\n",
       "      <td>PF13426.7</td>\n",
       "      <td>PAS_9</td>\n",
       "      <td>Domain</td>\n",
       "      <td>3</td>\n",
       "      <td>104</td>\n",
       "      <td>104</td>\n",
       "      <td>76.0</td>\n",
       "      <td>2.3e-21</td>\n",
       "      <td>1</td>\n",
       "      <td>CL0183</td>\n",
       "    </tr>\n",
       "  </tbody>\n",
       "</table>\n",
       "</div>"
      ],
      "text/plain": [
       "   seq id alignment start alignment end envelope start envelope end  \\\n",
       "0  M1FCN8              32           128             22          129   \n",
       "1  M1FCN8             148           251            148          251   \n",
       "2  M1FCN8             265           416            263          416   \n",
       "3  V4Y023             135           236            134          236   \n",
       "4  V4Y023             257           361            255          361   \n",
       "\n",
       "      hmm acc hmm name    type hmm start hmm end hmm length bit score  \\\n",
       "0   PF13426.7    PAS_9  Domain        11     103        104      76.6   \n",
       "1   PF13426.7    PAS_9  Domain         1     104        104      64.4   \n",
       "2  PF00990.21    GGDEF  Domain         3     161        161     125.5   \n",
       "3   PF13426.7    PAS_9  Domain         2     104        104      42.9   \n",
       "4   PF13426.7    PAS_9  Domain         3     104        104      76.0   \n",
       "\n",
       "   E-value significance    clan  \n",
       "0  1.5e-21            1  CL0183  \n",
       "1  9.1e-18            1  CL0183  \n",
       "2  1.5e-36            1  CL0276  \n",
       "3  4.7e-11            1  CL0183  \n",
       "4  2.3e-21            1  CL0183  "
      ]
     },
     "execution_count": 117,
     "metadata": {},
     "output_type": "execute_result"
    }
   ],
   "source": [
    "data.head()"
   ]
  },
  {
   "cell_type": "markdown",
   "metadata": {
    "collapsed": true
   },
   "source": [
    "### Идентификация LOV доменов"
   ]
  },
  {
   "cell_type": "markdown",
   "metadata": {},
   "source": [
    "#### 1. Отбор по цистеину в первом мотиве"
   ]
  },
  {
   "cell_type": "markdown",
   "metadata": {},
   "source": [
    "##### а) С цистеином"
   ]
  },
  {
   "cell_type": "markdown",
   "metadata": {},
   "source": [
    "См. **Парсинг mast и meme**"
   ]
  },
  {
   "cell_type": "markdown",
   "metadata": {},
   "source": [
    "##### б) Без цистеина"
   ]
  },
  {
   "cell_type": "markdown",
   "metadata": {},
   "source": [
    "--//--"
   ]
  },
  {
   "cell_type": "markdown",
   "metadata": {},
   "source": [
    "#### Отбор по P-value для каждого мотива и по нахождению в PAS fold"
   ]
  },
  {
   "cell_type": "markdown",
   "metadata": {},
   "source": [
    "#### а) С Cys"
   ]
  },
  {
   "cell_type": "code",
   "execution_count": 175,
   "metadata": {
    "collapsed": true
   },
   "outputs": [],
   "source": [
    "from bs4 import BeautifulSoup\n",
    "with open(\"With_Cys/Cys_sequences_4.xml\",\"r\") as f:\n",
    "    contents = f.read()\n",
    "soup = BeautifulSoup(contents,'xml')"
   ]
  },
  {
   "cell_type": "code",
   "execution_count": 176,
   "metadata": {},
   "outputs": [],
   "source": [
    "sequences = soup.sequences.findAll('sequence')"
   ]
  },
  {
   "cell_type": "markdown",
   "metadata": {},
   "source": [
    "Проверим, что хотя бы какой-то сегмент имеет мотивы с нужным нам P-value и находятся в PAS fold"
   ]
  },
  {
   "cell_type": "code",
   "execution_count": 177,
   "metadata": {},
   "outputs": [],
   "source": [
    "seqs = {}\n",
    "for seq in sequences:\n",
    "    for seg in seq.find_all('seg'):\n",
    "        if bool(seg.find(idx = '0')) == True and bool(seg.find(idx = '1')) == True:\n",
    "            hits = seg.find_all('hit')\n",
    "            if float(hits[0]['pvalue']) <= 1e-15 and float(hits[1]['pvalue']) <= 1e-15:\n",
    "                seqs.setdefault(seq['name'], []).append([int(hits[0]['pos']), int(hits[1]['pos'])])"
   ]
  },
  {
   "cell_type": "code",
   "execution_count": 82,
   "metadata": {},
   "outputs": [
    {
     "data": {
      "text/html": [
       "<div>\n",
       "<style scoped>\n",
       "    .dataframe tbody tr th:only-of-type {\n",
       "        vertical-align: middle;\n",
       "    }\n",
       "\n",
       "    .dataframe tbody tr th {\n",
       "        vertical-align: top;\n",
       "    }\n",
       "\n",
       "    .dataframe thead th {\n",
       "        text-align: right;\n",
       "    }\n",
       "</style>\n",
       "<table border=\"1\" class=\"dataframe\">\n",
       "  <thead>\n",
       "    <tr style=\"text-align: right;\">\n",
       "      <th></th>\n",
       "      <th>seq id</th>\n",
       "      <th>alignment start</th>\n",
       "      <th>alignment end</th>\n",
       "      <th>envelope start</th>\n",
       "      <th>envelope end</th>\n",
       "      <th>hmm acc</th>\n",
       "      <th>hmm name</th>\n",
       "      <th>type</th>\n",
       "      <th>hmm start</th>\n",
       "      <th>hmm end</th>\n",
       "      <th>hmm length</th>\n",
       "      <th>bit score</th>\n",
       "      <th>E-value</th>\n",
       "      <th>significance</th>\n",
       "      <th>clan</th>\n",
       "    </tr>\n",
       "  </thead>\n",
       "  <tbody>\n",
       "    <tr>\n",
       "      <th>17843</th>\n",
       "      <td>A0A126WYA8</td>\n",
       "      <td>138</td>\n",
       "      <td>233</td>\n",
       "      <td>130</td>\n",
       "      <td>234</td>\n",
       "      <td>PF13426.7</td>\n",
       "      <td>PAS_9</td>\n",
       "      <td>Domain</td>\n",
       "      <td>8</td>\n",
       "      <td>103</td>\n",
       "      <td>104</td>\n",
       "      <td>59.4</td>\n",
       "      <td>3.3e-16</td>\n",
       "      <td>1</td>\n",
       "      <td>CL0183</td>\n",
       "    </tr>\n",
       "    <tr>\n",
       "      <th>17844</th>\n",
       "      <td>A0A126WYA8</td>\n",
       "      <td>419</td>\n",
       "      <td>511</td>\n",
       "      <td>410</td>\n",
       "      <td>514</td>\n",
       "      <td>PF13426.7</td>\n",
       "      <td>PAS_9</td>\n",
       "      <td>Domain</td>\n",
       "      <td>9</td>\n",
       "      <td>101</td>\n",
       "      <td>104</td>\n",
       "      <td>71.4</td>\n",
       "      <td>6e-20</td>\n",
       "      <td>1</td>\n",
       "      <td>CL0183</td>\n",
       "    </tr>\n",
       "  </tbody>\n",
       "</table>\n",
       "</div>"
      ],
      "text/plain": [
       "           seq id alignment start alignment end envelope start envelope end  \\\n",
       "17843  A0A126WYA8             138           233            130          234   \n",
       "17844  A0A126WYA8             419           511            410          514   \n",
       "\n",
       "         hmm acc hmm name    type hmm start hmm end hmm length bit score  \\\n",
       "17843  PF13426.7    PAS_9  Domain         8     103        104      59.4   \n",
       "17844  PF13426.7    PAS_9  Domain         9     101        104      71.4   \n",
       "\n",
       "       E-value significance    clan  \n",
       "17843  3.3e-16            1  CL0183  \n",
       "17844    6e-20            1  CL0183  "
      ]
     },
     "execution_count": 82,
     "metadata": {},
     "output_type": "execute_result"
    }
   ],
   "source": [
    "seq_data = data.loc[data['seq id'] == 'A0A126WYA8']\n",
    "df = seq_data.loc[seq_data['clan'] == 'CL0183']\n",
    "df"
   ]
  },
  {
   "cell_type": "code",
   "execution_count": 178,
   "metadata": {},
   "outputs": [],
   "source": [
    "new_names = []\n",
    "wrong = []\n",
    "for k in seqs.keys():\n",
    "    seq_data = data.loc[data['seq id'] == k]\n",
    "    df = seq_data.loc[seq_data['clan'] == 'CL0183']\n",
    "    b = False\n",
    "    for hit in seqs[k]:\n",
    "        for i in range(df.shape[0]):\n",
    "            if int(df.iloc[i, 3]) - hit[0] <=5 and hit[1] + 43 - int(df.iloc[i, 4]) <= 1:\n",
    "                b = True\n",
    "    if not b:\n",
    "        data.drop(data[data['seq id'] == k].index, inplace=True)\n",
    "        wrong.append(k)\n",
    "    else:\n",
    "        new_names.append(k)    "
   ]
  },
  {
   "cell_type": "code",
   "execution_count": 181,
   "metadata": {
    "collapsed": true
   },
   "outputs": [],
   "source": [
    "with open('protein_4.txt', 'r') as f:\n",
    "    fasta = {}\n",
    "    for line in map(lambda st: st.rstrip('\\n'), f):\n",
    "        if line.startswith('>'):\n",
    "            name = line\n",
    "        else:\n",
    "            fasta.setdefault(name, []).append(line)"
   ]
  },
  {
   "cell_type": "code",
   "execution_count": 182,
   "metadata": {},
   "outputs": [],
   "source": [
    "new_file = []\n",
    "for name in new_names:\n",
    "    new_file.append('>' + name + '\\n')\n",
    "    for s in fasta.get('>' + name):\n",
    "        new_file.append(s + '\\n')"
   ]
  },
  {
   "cell_type": "code",
   "execution_count": 183,
   "metadata": {
    "collapsed": true
   },
   "outputs": [],
   "source": [
    "with open('With_Cys/final_proteins_4.fasta', 'w') as f:\n",
    "    f.write(''.join(new_file))"
   ]
  },
  {
   "cell_type": "markdown",
   "metadata": {
    "collapsed": true
   },
   "source": [
    "#### б) без Cys"
   ]
  },
  {
   "cell_type": "code",
   "execution_count": 125,
   "metadata": {},
   "outputs": [],
   "source": [
    "from bs4 import BeautifulSoup\n",
    "with open(\"Without_Cys/Cysless_sequences_4.xml\",\"r\") as f:\n",
    "    contents = f.read()\n",
    "soup = BeautifulSoup(contents,'xml')"
   ]
  },
  {
   "cell_type": "code",
   "execution_count": 126,
   "metadata": {},
   "outputs": [],
   "source": [
    "sequences = soup.sequences.find_all('sequence')"
   ]
  },
  {
   "cell_type": "code",
   "execution_count": 127,
   "metadata": {},
   "outputs": [],
   "source": [
    "seqs = {}\n",
    "for seq in sequences:\n",
    "    for seg in seq.find_all('seg'):\n",
    "        if (bool(seg.find(idx = '0')) == True and bool(seg.find(idx = '1')) == True and bool(seg.find(idx = '2')) == True):\n",
    "            hits = seg.find_all('hit')\n",
    "            if (float(hits[0]['pvalue']) <= 1e-15 and float(hits[1]['pvalue']) <= 1e-15 and float(hits[2]['pvalue']) <= 1e-15):\n",
    "                seqs.setdefault(seq['name'], []).append([int(hits[0]['pos']), int(hits[1]['pos']), \n",
    "                                                         int(hits[2]['pos'])])\n"
   ]
  },
  {
   "cell_type": "code",
   "execution_count": 128,
   "metadata": {},
   "outputs": [],
   "source": [
    "new_names = []\n",
    "wrong = []\n",
    "for k in seqs.keys():\n",
    "    seq_data = data.loc[data['seq id'] == k]\n",
    "    df = seq_data.loc[seq_data['clan'] == 'CL0183']\n",
    "    b = False\n",
    "    for hit in seqs[k]:\n",
    "        for i in range(df.shape[0]):\n",
    "            if int(df.iloc[i, 3]) - hit[0] <= 2 and hit[2] + 28 - int(df.iloc[i, 4]) <= 10:\n",
    "                b = True\n",
    "    if not b:\n",
    "        data.drop(data[data['seq id'] == k].index, inplace=True)\n",
    "        wrong.append(k)\n",
    "    else:\n",
    "        new_names.append(k)    "
   ]
  },
  {
   "cell_type": "code",
   "execution_count": 129,
   "metadata": {},
   "outputs": [
    {
     "data": {
      "text/plain": [
       "839"
      ]
     },
     "execution_count": 129,
     "metadata": {},
     "output_type": "execute_result"
    }
   ],
   "source": [
    "len(Cys_seq_names)"
   ]
  },
  {
   "cell_type": "code",
   "execution_count": 130,
   "metadata": {},
   "outputs": [
    {
     "data": {
      "text/plain": [
       "146"
      ]
     },
     "execution_count": 130,
     "metadata": {},
     "output_type": "execute_result"
    }
   ],
   "source": [
    "len(seqs)"
   ]
  },
  {
   "cell_type": "code",
   "execution_count": 131,
   "metadata": {},
   "outputs": [
    {
     "data": {
      "text/plain": [
       "146"
      ]
     },
     "execution_count": 131,
     "metadata": {},
     "output_type": "execute_result"
    }
   ],
   "source": [
    "len(new_names)"
   ]
  },
  {
   "cell_type": "code",
   "execution_count": 132,
   "metadata": {},
   "outputs": [],
   "source": [
    "with open('protein_4.txt', 'r') as f:\n",
    "    fasta = {}\n",
    "    for line in map(lambda st: st.rstrip('\\n'), f):\n",
    "        if line.startswith('>'):\n",
    "            name = line\n",
    "        else:\n",
    "            fasta.setdefault(name, []).append(line)"
   ]
  },
  {
   "cell_type": "code",
   "execution_count": 133,
   "metadata": {},
   "outputs": [],
   "source": [
    "new_file = []\n",
    "for name in new_names:\n",
    "    new_file.append('>' + name + '\\n')\n",
    "    for s in fasta.get('>' + name):\n",
    "        new_file.append(s + '\\n')"
   ]
  },
  {
   "cell_type": "code",
   "execution_count": 134,
   "metadata": {},
   "outputs": [],
   "source": [
    "with open('Without_Cys/final_proteins_4_cl.fasta', 'w') as f:\n",
    "    f.write(''.join(new_file))"
   ]
  },
  {
   "cell_type": "code",
   "execution_count": 41,
   "metadata": {},
   "outputs": [],
   "source": [
    "with open('With_Cys/final_proteins.fasta', 'r') as f:\n",
    "    fasta = {}\n",
    "    for line in map(lambda st: st.rstrip('\\n'), f):\n",
    "        if line.startswith('>'):\n",
    "            name = line\n",
    "        else:\n",
    "            fasta.setdefault(name, []).append(line)"
   ]
  },
  {
   "cell_type": "code",
   "execution_count": 42,
   "metadata": {},
   "outputs": [],
   "source": [
    "with open('Without_Cys/final_proteins_cl.fasta', 'r') as f:\n",
    "    fasta_cl = {}\n",
    "    for line in map(lambda st: st.rstrip('\\n'), f):\n",
    "        if line.startswith('>'):\n",
    "            name = line\n",
    "        else:\n",
    "            fasta_cl.setdefault(name, []).append(line)"
   ]
  },
  {
   "cell_type": "code",
   "execution_count": 43,
   "metadata": {},
   "outputs": [
    {
     "data": {
      "text/plain": [
       "0"
      ]
     },
     "execution_count": 43,
     "metadata": {},
     "output_type": "execute_result"
    }
   ],
   "source": [
    "repeat = list(fasta.keys() & fasta_cl.keys())\n",
    "len(repeat)"
   ]
  },
  {
   "cell_type": "markdown",
   "metadata": {},
   "source": [
    "Нашлись пересечения по наименованиям в final_proteins и final_proteins_cl удалим дубликаты, и проверим к какому именно классу они относятся"
   ]
  },
  {
   "cell_type": "code",
   "execution_count": 35,
   "metadata": {},
   "outputs": [],
   "source": [
    "for r in repeat:\n",
    "    fasta_cl.pop(r)"
   ]
  },
  {
   "cell_type": "code",
   "execution_count": 39,
   "metadata": {},
   "outputs": [],
   "source": [
    "new_file = []\n",
    "for name in fasta_cl.keys():\n",
    "    new_file.append(name + '\\n')\n",
    "    for s in fasta_cl.get(name):\n",
    "        new_file.append(s + '\\n')"
   ]
  },
  {
   "cell_type": "code",
   "execution_count": 40,
   "metadata": {},
   "outputs": [],
   "source": [
    "with open('Without_Cys/final_proteins_cl.fasta', 'w') as f:\n",
    "    f.write(''.join(new_file))"
   ]
  },
  {
   "cell_type": "markdown",
   "metadata": {},
   "source": [
    " В итоге получили файл final без повторов, и уменьшили количество сиквенсов в final_cl."
   ]
  },
  {
   "cell_type": "markdown",
   "metadata": {},
   "source": [
    "Теперь рассмотрим эффекторы, используя данные pfam полученные ранее"
   ]
  },
  {
   "cell_type": "markdown",
   "metadata": {},
   "source": [
    "### Эффекторы LOV"
   ]
  },
  {
   "cell_type": "markdown",
   "metadata": {},
   "source": [
    "#### C Cys"
   ]
  },
  {
   "cell_type": "code",
   "execution_count": 49,
   "metadata": {},
   "outputs": [],
   "source": [
    "columns = []\n",
    "d = []\n",
    "with open('With_Cys/pfam_1.txt', 'r') as f:\n",
    "    for line in f:\n",
    "        if line.startswith('<'):\n",
    "            columns = line.split('> <')\n",
    "        else:\n",
    "            d.append(line.split())\n",
    "columns[0] = columns[0].strip('<')\n",
    "columns[-1] = columns[-1].strip('>\\n')"
   ]
  },
  {
   "cell_type": "code",
   "execution_count": 50,
   "metadata": {},
   "outputs": [],
   "source": [
    "data = pd.DataFrame(d, columns=columns)"
   ]
  },
  {
   "cell_type": "code",
   "execution_count": 51,
   "metadata": {},
   "outputs": [
    {
     "data": {
      "text/html": [
       "<div>\n",
       "<style scoped>\n",
       "    .dataframe tbody tr th:only-of-type {\n",
       "        vertical-align: middle;\n",
       "    }\n",
       "\n",
       "    .dataframe tbody tr th {\n",
       "        vertical-align: top;\n",
       "    }\n",
       "\n",
       "    .dataframe thead th {\n",
       "        text-align: right;\n",
       "    }\n",
       "</style>\n",
       "<table border=\"1\" class=\"dataframe\">\n",
       "  <thead>\n",
       "    <tr style=\"text-align: right;\">\n",
       "      <th></th>\n",
       "      <th>seq id</th>\n",
       "      <th>alignment start</th>\n",
       "      <th>alignment end</th>\n",
       "      <th>envelope start</th>\n",
       "      <th>envelope end</th>\n",
       "      <th>hmm acc</th>\n",
       "      <th>hmm name</th>\n",
       "      <th>type</th>\n",
       "      <th>hmm start</th>\n",
       "      <th>hmm end</th>\n",
       "      <th>hmm length</th>\n",
       "      <th>bit score</th>\n",
       "      <th>E-value</th>\n",
       "      <th>significance</th>\n",
       "      <th>clan</th>\n",
       "    </tr>\n",
       "  </thead>\n",
       "  <tbody>\n",
       "    <tr>\n",
       "      <th>0</th>\n",
       "      <td>A0A0J6VGA8</td>\n",
       "      <td>62</td>\n",
       "      <td>156</td>\n",
       "      <td>52</td>\n",
       "      <td>157</td>\n",
       "      <td>PF13426.7</td>\n",
       "      <td>PAS_9</td>\n",
       "      <td>Domain</td>\n",
       "      <td>9</td>\n",
       "      <td>103</td>\n",
       "      <td>104</td>\n",
       "      <td>69.7</td>\n",
       "      <td>2.1e-19</td>\n",
       "      <td>1</td>\n",
       "      <td>CL0183</td>\n",
       "    </tr>\n",
       "    <tr>\n",
       "      <th>1</th>\n",
       "      <td>A0A0J6VGA8</td>\n",
       "      <td>175</td>\n",
       "      <td>235</td>\n",
       "      <td>173</td>\n",
       "      <td>237</td>\n",
       "      <td>PF00512.25</td>\n",
       "      <td>HisKA</td>\n",
       "      <td>Domain</td>\n",
       "      <td>3</td>\n",
       "      <td>64</td>\n",
       "      <td>67</td>\n",
       "      <td>34.0</td>\n",
       "      <td>2.2e-08</td>\n",
       "      <td>1</td>\n",
       "      <td>CL0025</td>\n",
       "    </tr>\n",
       "    <tr>\n",
       "      <th>2</th>\n",
       "      <td>A0A0J6VGA8</td>\n",
       "      <td>280</td>\n",
       "      <td>402</td>\n",
       "      <td>279</td>\n",
       "      <td>405</td>\n",
       "      <td>PF02518.26</td>\n",
       "      <td>HATPase_c</td>\n",
       "      <td>Domain</td>\n",
       "      <td>2</td>\n",
       "      <td>109</td>\n",
       "      <td>112</td>\n",
       "      <td>49.2</td>\n",
       "      <td>6.5e-13</td>\n",
       "      <td>1</td>\n",
       "      <td>CL0025</td>\n",
       "    </tr>\n",
       "    <tr>\n",
       "      <th>3</th>\n",
       "      <td>A0A0J6VGA8</td>\n",
       "      <td>427</td>\n",
       "      <td>537</td>\n",
       "      <td>427</td>\n",
       "      <td>538</td>\n",
       "      <td>PF00072.24</td>\n",
       "      <td>Response_reg</td>\n",
       "      <td>Domain</td>\n",
       "      <td>1</td>\n",
       "      <td>111</td>\n",
       "      <td>112</td>\n",
       "      <td>67.4</td>\n",
       "      <td>1.1e-18</td>\n",
       "      <td>1</td>\n",
       "      <td>CL0304</td>\n",
       "    </tr>\n",
       "    <tr>\n",
       "      <th>4</th>\n",
       "      <td>A0A059UGE7</td>\n",
       "      <td>331</td>\n",
       "      <td>427</td>\n",
       "      <td>324</td>\n",
       "      <td>428</td>\n",
       "      <td>PF13426.7</td>\n",
       "      <td>PAS_9</td>\n",
       "      <td>Domain</td>\n",
       "      <td>7</td>\n",
       "      <td>103</td>\n",
       "      <td>104</td>\n",
       "      <td>69.9</td>\n",
       "      <td>1.9e-19</td>\n",
       "      <td>1</td>\n",
       "      <td>CL0183</td>\n",
       "    </tr>\n",
       "  </tbody>\n",
       "</table>\n",
       "</div>"
      ],
      "text/plain": [
       "       seq id alignment start alignment end envelope start envelope end  \\\n",
       "0  A0A0J6VGA8              62           156             52          157   \n",
       "1  A0A0J6VGA8             175           235            173          237   \n",
       "2  A0A0J6VGA8             280           402            279          405   \n",
       "3  A0A0J6VGA8             427           537            427          538   \n",
       "4  A0A059UGE7             331           427            324          428   \n",
       "\n",
       "      hmm acc      hmm name    type hmm start hmm end hmm length bit score  \\\n",
       "0   PF13426.7         PAS_9  Domain         9     103        104      69.7   \n",
       "1  PF00512.25         HisKA  Domain         3      64         67      34.0   \n",
       "2  PF02518.26     HATPase_c  Domain         2     109        112      49.2   \n",
       "3  PF00072.24  Response_reg  Domain         1     111        112      67.4   \n",
       "4   PF13426.7         PAS_9  Domain         7     103        104      69.9   \n",
       "\n",
       "   E-value significance    clan  \n",
       "0  2.1e-19            1  CL0183  \n",
       "1  2.2e-08            1  CL0025  \n",
       "2  6.5e-13            1  CL0025  \n",
       "3  1.1e-18            1  CL0304  \n",
       "4  1.9e-19            1  CL0183  "
      ]
     },
     "execution_count": 51,
     "metadata": {},
     "output_type": "execute_result"
    }
   ],
   "source": [
    "data.head()"
   ]
  },
  {
   "cell_type": "code",
   "execution_count": 52,
   "metadata": {},
   "outputs": [],
   "source": [
    "from bs4 import BeautifulSoup\n",
    "with open(\"With_Cys/Cys_sequences_1.xml\",\"r\") as f:\n",
    "    contents = f.read()\n",
    "soup = BeautifulSoup(contents,'xml')"
   ]
  },
  {
   "cell_type": "code",
   "execution_count": 53,
   "metadata": {},
   "outputs": [],
   "source": [
    "sequences = soup.sequences.findAll('sequence')"
   ]
  },
  {
   "cell_type": "markdown",
   "metadata": {},
   "source": [
    "Для каждого наименования в final-ах, будем рассматривать расположение LOV (по наличию двух мотивов внутри) и ближайшие к нему эффекторы"
   ]
  }
 ],
 "metadata": {
  "kernelspec": {
   "display_name": "Python 3",
   "language": "python",
   "name": "python3"
  },
  "language_info": {
   "codemirror_mode": {
    "name": "ipython",
    "version": 3
   },
   "file_extension": ".py",
   "mimetype": "text/x-python",
   "name": "python",
   "nbconvert_exporter": "python",
   "pygments_lexer": "ipython3",
   "version": "3.6.6"
  }
 },
 "nbformat": 4,
 "nbformat_minor": 2
}
