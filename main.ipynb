{
 "cells": [
  {
   "cell_type": "markdown",
   "metadata": {},
   "source": [
    "### Прочитали fasta формат"
   ]
  },
  {
   "cell_type": "code",
   "execution_count": 1,
   "metadata": {
    "collapsed": true
   },
   "outputs": [],
   "source": [
    "from Bio.Blast import NCBIWWW\n",
    "from Bio import SeqIO\n",
    "record = SeqIO.read(\"sequence.fasta\", format=\"fasta\")\n"
   ]
  },
  {
   "cell_type": "code",
   "execution_count": 37,
   "metadata": {},
   "outputs": [
    {
     "data": {
      "text/plain": [
       "Seq('MASFQSFGIPGQLEVIKKALDHVRVGVVITDPALEDNPIVYVNQGFVQMTGYET...DIT', SingleLetterAlphabet())"
      ]
     },
     "execution_count": 37,
     "metadata": {},
     "output_type": "execute_result"
    }
   ],
   "source": [
    "record.seq[0:127]"
   ]
  },
  {
   "cell_type": "markdown",
   "metadata": {},
   "source": [
    "### Рассмотрим результат BLAST поиска"
   ]
  },
  {
   "cell_type": "code",
   "execution_count": 173,
   "metadata": {
    "collapsed": true
   },
   "outputs": [],
   "source": [
    "result_handle = open('W8ZR3WEN015-Alignment.xml')"
   ]
  },
  {
   "cell_type": "code",
   "execution_count": 174,
   "metadata": {
    "collapsed": true
   },
   "outputs": [],
   "source": [
    "from Bio.Blast import NCBIXML\n",
    "blast_records = NCBIXML.parse(result_handle)"
   ]
  },
  {
   "cell_type": "code",
   "execution_count": 175,
   "metadata": {
    "collapsed": true
   },
   "outputs": [],
   "source": [
    "good_almns = {}\n",
    "for blast_record in blast_records:\n",
    "    for alignment in blast_record.alignments:\n",
    "        for hsp in alignment.hsps:\n",
    "            titles = alignment.title.split('>')\n",
    "            for title in titles:\n",
    "                t = title.split('|')\n",
    "                ss =['517848989']\n",
    "                for s in ss:\n",
    "                    if t[1] == s:\n",
    "                        print(\"****Alignment****\")\n",
    "                        print(\"sequence:\", alignment.title)\n",
    "               \n"
   ]
  },
  {
   "cell_type": "markdown",
   "metadata": {},
   "source": [
    "Варианты, которые получлсь у меня и совпали со статьей 504822023, 505222758, "
   ]
  },
  {
   "cell_type": "code",
   "execution_count": 1,
   "metadata": {
    "collapsed": true
   },
   "outputs": [],
   "source": [
    "good_almns"
   ]
  },
  {
   "cell_type": "code",
   "execution_count": 2,
   "metadata": {},
   "outputs": [
    {
     "data": {
      "text/plain": [
       "'for blast_record in blast_records:\\n    for alignment in blast_record.alignments:\\n        for hsp in alignment.hsps:\\n            print(\"****Alignment****\")\\n            print(\"sequence:\", alignment.title)\\n            print(hsp.query_start, hsp.query_end, sep = \\' \\')\\n            print(hsp.query[0:75] + \\'...\\')'"
      ]
     },
     "execution_count": 2,
     "metadata": {},
     "output_type": "execute_result"
    }
   ],
   "source": [
    "\"\"\"for blast_record in blast_records:\n",
    "    for alignment in blast_record.alignments:\n",
    "        for hsp in alignment.hsps:\n",
    "            print(\"****Alignment****\")\n",
    "            print(\"sequence:\", alignment.title)\n",
    "            print(hsp.query_start, hsp.query_end, sep = ' ')\n",
    "            print(hsp.query[0:75] + '...')\"\"\""
   ]
  },
  {
   "cell_type": "markdown",
   "metadata": {},
   "source": [
    "### Скачивание OneKP"
   ]
  },
  {
   "cell_type": "code",
   "execution_count": 4,
   "metadata": {
    "collapsed": true
   },
   "outputs": [],
   "source": [
    "from bs4 import BeautifulSoup   # Для обработки HTML\n",
    "import requests # для получения кода страницы"
   ]
  },
  {
   "cell_type": "markdown",
   "metadata": {},
   "source": [
    "Пропарсила страницу нашла нужные ссылки"
   ]
  },
  {
   "cell_type": "code",
   "execution_count": 5,
   "metadata": {
    "collapsed": true
   },
   "outputs": [],
   "source": [
    "data = requests.get('http://www.onekp.com/public_data.html')"
   ]
  },
  {
   "cell_type": "code",
   "execution_count": 9,
   "metadata": {
    "collapsed": true
   },
   "outputs": [],
   "source": [
    "soup = BeautifulSoup(data.text, 'html.parser')"
   ]
  },
  {
   "cell_type": "code",
   "execution_count": 1,
   "metadata": {
    "collapsed": true
   },
   "outputs": [],
   "source": [
    "print(soup.prettify())"
   ]
  },
  {
   "cell_type": "markdown",
   "metadata": {},
   "source": [
    "Получим все ссылки"
   ]
  },
  {
   "cell_type": "code",
   "execution_count": 28,
   "metadata": {
    "collapsed": true
   },
   "outputs": [],
   "source": [
    "s= []\n",
    "for string in soup.find_all('a'):\n",
    "    s.append(string.get('href'))"
   ]
  },
  {
   "cell_type": "markdown",
   "metadata": {},
   "source": [
    "Будем обращаться для скачивания по необходимым ссылкам"
   ]
  },
  {
   "cell_type": "code",
   "execution_count": 57,
   "metadata": {
    "collapsed": true
   },
   "outputs": [],
   "source": [
    "import urllib"
   ]
  },
  {
   "cell_type": "code",
   "execution_count": 55,
   "metadata": {
    "collapsed": true
   },
   "outputs": [],
   "source": [
    "res = [elem if elem.find(\"Trans-assembly\")!=-1 else None for elem in s]"
   ]
  },
  {
   "cell_type": "markdown",
   "metadata": {},
   "source": [
    "Попытка (удачная) скачать файл"
   ]
  },
  {
   "cell_type": "code",
   "execution_count": 59,
   "metadata": {},
   "outputs": [
    {
     "data": {
      "text/plain": [
       "('URDJ.bz2', <http.client.HTTPMessage at 0x7f476baf3e10>)"
      ]
     },
     "execution_count": 59,
     "metadata": {},
     "output_type": "execute_result"
    }
   ],
   "source": [
    "url = 'http://206.12.96.204/onekp/URDJ-SOAPdenovo-Trans-assembly.fa.bz2'\n",
    "urllib.request.urlretrieve(url, \"URDJ.bz2\")"
   ]
  },
  {
   "cell_type": "markdown",
   "metadata": {},
   "source": [
    "### Разделение файла с белками из Interpro"
   ]
  },
  {
   "cell_type": "code",
   "execution_count": 3,
   "metadata": {
    "collapsed": true
   },
   "outputs": [],
   "source": [
    "with open('proteins-matched_interpro.txt', 'r') as file:\n",
    "    n = 0\n",
    "    s_1, s_2, s_3, s_4 = [], [], [], []\n",
    "    for line in file:\n",
    "        if line.startswith('>'):\n",
    "            n += 1\n",
    "        if n <= 98328:\n",
    "            s_1.append(line)\n",
    "        elif 98328 < n <= 98328*2:\n",
    "            s_2.append(line)\n",
    "        elif 98328 * 2 < n <= 98328*3:\n",
    "            s_3.append(line)\n",
    "        else:\n",
    "            s_4.append(line)\n",
    "            \n",
    "            "
   ]
  },
  {
   "cell_type": "code",
   "execution_count": 4,
   "metadata": {
    "collapsed": true
   },
   "outputs": [],
   "source": [
    "with open('protein_1.txt','w') as file:\n",
    "    file.write(''.join(s_1))\n",
    "with open('protein_2.txt','w') as file:\n",
    "    file.write(''.join(s_2))\n",
    "with open('protein_3.txt','w') as file:\n",
    "    file.write(''.join(s_3))\n",
    "with open('protein_4.txt','w') as file:\n",
    "    file.write(''.join(s_4))"
   ]
  },
  {
   "cell_type": "markdown",
   "metadata": {},
   "source": [
    "### Парсинг файлов mast и meme "
   ]
  },
  {
   "cell_type": "code",
   "execution_count": 89,
   "metadata": {
    "collapsed": true
   },
   "outputs": [],
   "source": [
    "from bs4 import BeautifulSoup\n",
    "with open(\"Without_Cys/mast_interpro_1_cl.xml\",\"r\") as f:\n",
    "    contents = f.read()\n",
    "soup = BeautifulSoup(contents,'xml')\n",
    "#print(soup.prettify())"
   ]
  },
  {
   "cell_type": "code",
   "execution_count": 90,
   "metadata": {
    "collapsed": true
   },
   "outputs": [],
   "source": [
    "motifs = soup.motifs.findAll('motif')"
   ]
  },
  {
   "cell_type": "code",
   "execution_count": 91,
   "metadata": {
    "collapsed": true
   },
   "outputs": [],
   "source": [
    "length = [motif['length'] for motif in motifs]"
   ]
  },
  {
   "cell_type": "code",
   "execution_count": 92,
   "metadata": {},
   "outputs": [
    {
     "data": {
      "text/plain": [
       "['35', '31', '29']"
      ]
     },
     "execution_count": 92,
     "metadata": {},
     "output_type": "execute_result"
    }
   ],
   "source": [
    "length"
   ]
  },
  {
   "cell_type": "markdown",
   "metadata": {},
   "source": [
    "На 40 месте  в мотиве стоит **С** на который и нужно проверить или для Cysless на 24 месте не должен стоять."
   ]
  },
  {
   "cell_type": "code",
   "execution_count": 93,
   "metadata": {
    "collapsed": true
   },
   "outputs": [],
   "source": [
    "sequences = soup.sequences.findAll('sequence')"
   ]
  },
  {
   "cell_type": "code",
   "execution_count": 94,
   "metadata": {
    "collapsed": true
   },
   "outputs": [],
   "source": [
    "import re\n",
    "reg = re.compile('[^a-zA-Z ]')"
   ]
  },
  {
   "cell_type": "markdown",
   "metadata": {},
   "source": [
    "Нашли все имена таких сиквенсов и также запсали данные о них в формати xml"
   ]
  },
  {
   "cell_type": "code",
   "execution_count": 95,
   "metadata": {
    "collapsed": true
   },
   "outputs": [],
   "source": [
    "Cys_seq_names = set()\n",
    "Cys_seq = set()\n",
    "for seq in sequences:\n",
    "    for seg in seq.find_all('seg'):\n",
    "        if bool(seg.find(idx = '0')) == True:\n",
    "            if reg.sub('', seg.data.string)[int(seg.find(idx = '0')['pos']) - int(seg['start']) + 23] != 'C':\n",
    "                Cys_seq_names.add(seq['name'])\n",
    "                Cys_seq.add(seq)"
   ]
  },
  {
   "cell_type": "code",
   "execution_count": 59,
   "metadata": {
    "collapsed": true
   },
   "outputs": [],
   "source": [
    "with open('Without_Cys/Cysless_sequences_4.xml', 'w') as f:\n",
    "    for i in Cys_seq:\n",
    "        f.write(str(i) + '\\n')"
   ]
  },
  {
   "cell_type": "markdown",
   "metadata": {},
   "source": [
    "Все отсеившееся по нашему выбору сиквенсы запишем в отдельный файл"
   ]
  },
  {
   "cell_type": "code",
   "execution_count": 124,
   "metadata": {
    "collapsed": true
   },
   "outputs": [],
   "source": [
    "with open('protein_4.txt', 'r') as f:\n",
    "    fasta = {}\n",
    "    for line in map(lambda st: st.rstrip('\\n'), f):\n",
    "        if line.startswith('>'):\n",
    "            name = line\n",
    "        else:\n",
    "            fasta.setdefault(name, []).append(line)"
   ]
  },
  {
   "cell_type": "code",
   "execution_count": 125,
   "metadata": {
    "collapsed": true
   },
   "outputs": [],
   "source": [
    "new_file = []\n",
    "for name in Cys_seq_names:\n",
    "    new_file.append('>' + name + '\\n')\n",
    "    for s in fasta.get('>' + name):\n",
    "        new_file.append(s + '\\n')"
   ]
  },
  {
   "cell_type": "code",
   "execution_count": 126,
   "metadata": {
    "collapsed": true
   },
   "outputs": [],
   "source": [
    "with open('Cysless_proteins_4.fasta', 'w') as f:\n",
    "    f.write(''.join(new_file))"
   ]
  },
  {
   "cell_type": "markdown",
   "metadata": {
    "collapsed": true
   },
   "source": [
    "### Парсинг результатов pfam "
   ]
  },
  {
   "cell_type": "markdown",
   "metadata": {},
   "source": [
    "Сначала вручную удаляем информацию с *#* кроме последнего, с наименованием величин.  "
   ]
  },
  {
   "cell_type": "code",
   "execution_count": 1,
   "metadata": {
    "collapsed": true
   },
   "outputs": [],
   "source": [
    "import pandas as pd"
   ]
  },
  {
   "cell_type": "code",
   "execution_count": 115,
   "metadata": {
    "collapsed": true
   },
   "outputs": [],
   "source": [
    "columns = []\n",
    "d = []\n",
    "with open('Without_Cys/pfam_4_cl.txt', 'r') as f:\n",
    "    for line in f:\n",
    "        if line.startswith('<'):\n",
    "            columns = line.split('> <')\n",
    "        else:\n",
    "            d.append(line.split())\n",
    "columns[0] = columns[0].strip('<')\n",
    "columns[-1] = columns[-1].strip('>\\n')"
   ]
  },
  {
   "cell_type": "code",
   "execution_count": 116,
   "metadata": {
    "collapsed": true
   },
   "outputs": [],
   "source": [
    "data = pd.DataFrame(d, columns=columns)"
   ]
  },
  {
   "cell_type": "code",
   "execution_count": 117,
   "metadata": {},
   "outputs": [
    {
     "data": {
      "text/html": [
       "<div>\n",
       "<style scoped>\n",
       "    .dataframe tbody tr th:only-of-type {\n",
       "        vertical-align: middle;\n",
       "    }\n",
       "\n",
       "    .dataframe tbody tr th {\n",
       "        vertical-align: top;\n",
       "    }\n",
       "\n",
       "    .dataframe thead th {\n",
       "        text-align: right;\n",
       "    }\n",
       "</style>\n",
       "<table border=\"1\" class=\"dataframe\">\n",
       "  <thead>\n",
       "    <tr style=\"text-align: right;\">\n",
       "      <th></th>\n",
       "      <th>seq id</th>\n",
       "      <th>alignment start</th>\n",
       "      <th>alignment end</th>\n",
       "      <th>envelope start</th>\n",
       "      <th>envelope end</th>\n",
       "      <th>hmm acc</th>\n",
       "      <th>hmm name</th>\n",
       "      <th>type</th>\n",
       "      <th>hmm start</th>\n",
       "      <th>hmm end</th>\n",
       "      <th>hmm length</th>\n",
       "      <th>bit score</th>\n",
       "      <th>E-value</th>\n",
       "      <th>significance</th>\n",
       "      <th>clan</th>\n",
       "    </tr>\n",
       "  </thead>\n",
       "  <tbody>\n",
       "    <tr>\n",
       "      <th>0</th>\n",
       "      <td>M1FCN8</td>\n",
       "      <td>32</td>\n",
       "      <td>128</td>\n",
       "      <td>22</td>\n",
       "      <td>129</td>\n",
       "      <td>PF13426.7</td>\n",
       "      <td>PAS_9</td>\n",
       "      <td>Domain</td>\n",
       "      <td>11</td>\n",
       "      <td>103</td>\n",
       "      <td>104</td>\n",
       "      <td>76.6</td>\n",
       "      <td>1.5e-21</td>\n",
       "      <td>1</td>\n",
       "      <td>CL0183</td>\n",
       "    </tr>\n",
       "    <tr>\n",
       "      <th>1</th>\n",
       "      <td>M1FCN8</td>\n",
       "      <td>148</td>\n",
       "      <td>251</td>\n",
       "      <td>148</td>\n",
       "      <td>251</td>\n",
       "      <td>PF13426.7</td>\n",
       "      <td>PAS_9</td>\n",
       "      <td>Domain</td>\n",
       "      <td>1</td>\n",
       "      <td>104</td>\n",
       "      <td>104</td>\n",
       "      <td>64.4</td>\n",
       "      <td>9.1e-18</td>\n",
       "      <td>1</td>\n",
       "      <td>CL0183</td>\n",
       "    </tr>\n",
       "    <tr>\n",
       "      <th>2</th>\n",
       "      <td>M1FCN8</td>\n",
       "      <td>265</td>\n",
       "      <td>416</td>\n",
       "      <td>263</td>\n",
       "      <td>416</td>\n",
       "      <td>PF00990.21</td>\n",
       "      <td>GGDEF</td>\n",
       "      <td>Domain</td>\n",
       "      <td>3</td>\n",
       "      <td>161</td>\n",
       "      <td>161</td>\n",
       "      <td>125.5</td>\n",
       "      <td>1.5e-36</td>\n",
       "      <td>1</td>\n",
       "      <td>CL0276</td>\n",
       "    </tr>\n",
       "    <tr>\n",
       "      <th>3</th>\n",
       "      <td>V4Y023</td>\n",
       "      <td>135</td>\n",
       "      <td>236</td>\n",
       "      <td>134</td>\n",
       "      <td>236</td>\n",
       "      <td>PF13426.7</td>\n",
       "      <td>PAS_9</td>\n",
       "      <td>Domain</td>\n",
       "      <td>2</td>\n",
       "      <td>104</td>\n",
       "      <td>104</td>\n",
       "      <td>42.9</td>\n",
       "      <td>4.7e-11</td>\n",
       "      <td>1</td>\n",
       "      <td>CL0183</td>\n",
       "    </tr>\n",
       "    <tr>\n",
       "      <th>4</th>\n",
       "      <td>V4Y023</td>\n",
       "      <td>257</td>\n",
       "      <td>361</td>\n",
       "      <td>255</td>\n",
       "      <td>361</td>\n",
       "      <td>PF13426.7</td>\n",
       "      <td>PAS_9</td>\n",
       "      <td>Domain</td>\n",
       "      <td>3</td>\n",
       "      <td>104</td>\n",
       "      <td>104</td>\n",
       "      <td>76.0</td>\n",
       "      <td>2.3e-21</td>\n",
       "      <td>1</td>\n",
       "      <td>CL0183</td>\n",
       "    </tr>\n",
       "  </tbody>\n",
       "</table>\n",
       "</div>"
      ],
      "text/plain": [
       "   seq id alignment start alignment end envelope start envelope end  \\\n",
       "0  M1FCN8              32           128             22          129   \n",
       "1  M1FCN8             148           251            148          251   \n",
       "2  M1FCN8             265           416            263          416   \n",
       "3  V4Y023             135           236            134          236   \n",
       "4  V4Y023             257           361            255          361   \n",
       "\n",
       "      hmm acc hmm name    type hmm start hmm end hmm length bit score  \\\n",
       "0   PF13426.7    PAS_9  Domain        11     103        104      76.6   \n",
       "1   PF13426.7    PAS_9  Domain         1     104        104      64.4   \n",
       "2  PF00990.21    GGDEF  Domain         3     161        161     125.5   \n",
       "3   PF13426.7    PAS_9  Domain         2     104        104      42.9   \n",
       "4   PF13426.7    PAS_9  Domain         3     104        104      76.0   \n",
       "\n",
       "   E-value significance    clan  \n",
       "0  1.5e-21            1  CL0183  \n",
       "1  9.1e-18            1  CL0183  \n",
       "2  1.5e-36            1  CL0276  \n",
       "3  4.7e-11            1  CL0183  \n",
       "4  2.3e-21            1  CL0183  "
      ]
     },
     "execution_count": 117,
     "metadata": {},
     "output_type": "execute_result"
    }
   ],
   "source": [
    "data.head()"
   ]
  },
  {
   "cell_type": "markdown",
   "metadata": {
    "collapsed": true
   },
   "source": [
    "### Идентификация LOV доменов"
   ]
  },
  {
   "cell_type": "markdown",
   "metadata": {},
   "source": [
    "#### 1. Отбор по цистеину в первом мотиве"
   ]
  },
  {
   "cell_type": "markdown",
   "metadata": {},
   "source": [
    "##### а) С цистеином"
   ]
  },
  {
   "cell_type": "markdown",
   "metadata": {},
   "source": [
    "См. **Парсинг mast и meme**"
   ]
  },
  {
   "cell_type": "markdown",
   "metadata": {},
   "source": [
    "##### б) Без цистеина"
   ]
  },
  {
   "cell_type": "markdown",
   "metadata": {},
   "source": [
    "--//--"
   ]
  },
  {
   "cell_type": "markdown",
   "metadata": {},
   "source": [
    "#### Отбор по P-value для каждого мотива и по нахождению в PAS fold"
   ]
  },
  {
   "cell_type": "markdown",
   "metadata": {},
   "source": [
    "#### а) С Cys"
   ]
  },
  {
   "cell_type": "code",
   "execution_count": 1,
   "metadata": {
    "collapsed": true
   },
   "outputs": [],
   "source": [
    "from bs4 import BeautifulSoup\n",
    "with open(\"With_Cys/Cys_sequences_4.xml\",\"r\") as f:\n",
    "    contents = f.read()\n",
    "soup = BeautifulSoup(contents,'xml')"
   ]
  },
  {
   "cell_type": "code",
   "execution_count": 2,
   "metadata": {
    "collapsed": true
   },
   "outputs": [],
   "source": [
    "sequences = soup.sequences.findAll('sequence')"
   ]
  },
  {
   "cell_type": "markdown",
   "metadata": {},
   "source": [
    "Проверим, что хотя бы какой-то сегмент имеет мотивы с нужным нам P-value и находятся в PAS fold"
   ]
  },
  {
   "cell_type": "code",
   "execution_count": 3,
   "metadata": {
    "collapsed": true
   },
   "outputs": [],
   "source": [
    "seqs = {}\n",
    "for seq in sequences:\n",
    "    for seg in seq.find_all('seg'):\n",
    "        if bool(seg.find(idx = '0')) == True and bool(seg.find(idx = '1')) == True:\n",
    "            hits = seg.find_all('hit')\n",
    "            if float(hits[0]['pvalue']) <= 1e-15 and float(hits[1]['pvalue']) <= 1e-15:\n",
    "                seqs.setdefault(seq['name'], []).append([int(hits[0]['pos']), int(hits[1]['pos'])])"
   ]
  },
  {
   "cell_type": "code",
   "execution_count": 82,
   "metadata": {},
   "outputs": [
    {
     "data": {
      "text/html": [
       "<div>\n",
       "<style scoped>\n",
       "    .dataframe tbody tr th:only-of-type {\n",
       "        vertical-align: middle;\n",
       "    }\n",
       "\n",
       "    .dataframe tbody tr th {\n",
       "        vertical-align: top;\n",
       "    }\n",
       "\n",
       "    .dataframe thead th {\n",
       "        text-align: right;\n",
       "    }\n",
       "</style>\n",
       "<table border=\"1\" class=\"dataframe\">\n",
       "  <thead>\n",
       "    <tr style=\"text-align: right;\">\n",
       "      <th></th>\n",
       "      <th>seq id</th>\n",
       "      <th>alignment start</th>\n",
       "      <th>alignment end</th>\n",
       "      <th>envelope start</th>\n",
       "      <th>envelope end</th>\n",
       "      <th>hmm acc</th>\n",
       "      <th>hmm name</th>\n",
       "      <th>type</th>\n",
       "      <th>hmm start</th>\n",
       "      <th>hmm end</th>\n",
       "      <th>hmm length</th>\n",
       "      <th>bit score</th>\n",
       "      <th>E-value</th>\n",
       "      <th>significance</th>\n",
       "      <th>clan</th>\n",
       "    </tr>\n",
       "  </thead>\n",
       "  <tbody>\n",
       "    <tr>\n",
       "      <th>17843</th>\n",
       "      <td>A0A126WYA8</td>\n",
       "      <td>138</td>\n",
       "      <td>233</td>\n",
       "      <td>130</td>\n",
       "      <td>234</td>\n",
       "      <td>PF13426.7</td>\n",
       "      <td>PAS_9</td>\n",
       "      <td>Domain</td>\n",
       "      <td>8</td>\n",
       "      <td>103</td>\n",
       "      <td>104</td>\n",
       "      <td>59.4</td>\n",
       "      <td>3.3e-16</td>\n",
       "      <td>1</td>\n",
       "      <td>CL0183</td>\n",
       "    </tr>\n",
       "    <tr>\n",
       "      <th>17844</th>\n",
       "      <td>A0A126WYA8</td>\n",
       "      <td>419</td>\n",
       "      <td>511</td>\n",
       "      <td>410</td>\n",
       "      <td>514</td>\n",
       "      <td>PF13426.7</td>\n",
       "      <td>PAS_9</td>\n",
       "      <td>Domain</td>\n",
       "      <td>9</td>\n",
       "      <td>101</td>\n",
       "      <td>104</td>\n",
       "      <td>71.4</td>\n",
       "      <td>6e-20</td>\n",
       "      <td>1</td>\n",
       "      <td>CL0183</td>\n",
       "    </tr>\n",
       "  </tbody>\n",
       "</table>\n",
       "</div>"
      ],
      "text/plain": [
       "           seq id alignment start alignment end envelope start envelope end  \\\n",
       "17843  A0A126WYA8             138           233            130          234   \n",
       "17844  A0A126WYA8             419           511            410          514   \n",
       "\n",
       "         hmm acc hmm name    type hmm start hmm end hmm length bit score  \\\n",
       "17843  PF13426.7    PAS_9  Domain         8     103        104      59.4   \n",
       "17844  PF13426.7    PAS_9  Domain         9     101        104      71.4   \n",
       "\n",
       "       E-value significance    clan  \n",
       "17843  3.3e-16            1  CL0183  \n",
       "17844    6e-20            1  CL0183  "
      ]
     },
     "execution_count": 82,
     "metadata": {},
     "output_type": "execute_result"
    }
   ],
   "source": [
    "seq_data = data.loc[data['seq id'] == 'A0A126WYA8']\n",
    "df = seq_data.loc[seq_data['clan'] == 'CL0183']\n",
    "df"
   ]
  },
  {
   "cell_type": "code",
   "execution_count": 4,
   "metadata": {},
   "outputs": [
    {
     "ename": "NameError",
     "evalue": "name 'data' is not defined",
     "output_type": "error",
     "traceback": [
      "\u001b[0;31m---------------------------------------------------------------------------\u001b[0m",
      "\u001b[0;31mNameError\u001b[0m                                 Traceback (most recent call last)",
      "\u001b[0;32m<ipython-input-4-ff6b03151e35>\u001b[0m in \u001b[0;36m<module>\u001b[0;34m()\u001b[0m\n\u001b[1;32m      2\u001b[0m \u001b[0mwrong\u001b[0m \u001b[0;34m=\u001b[0m \u001b[0;34m[\u001b[0m\u001b[0;34m]\u001b[0m\u001b[0;34m\u001b[0m\u001b[0m\n\u001b[1;32m      3\u001b[0m \u001b[0;32mfor\u001b[0m \u001b[0mk\u001b[0m \u001b[0;32min\u001b[0m \u001b[0mseqs\u001b[0m\u001b[0;34m.\u001b[0m\u001b[0mkeys\u001b[0m\u001b[0;34m(\u001b[0m\u001b[0;34m)\u001b[0m\u001b[0;34m:\u001b[0m\u001b[0;34m\u001b[0m\u001b[0m\n\u001b[0;32m----> 4\u001b[0;31m     \u001b[0mseq_data\u001b[0m \u001b[0;34m=\u001b[0m \u001b[0mdata\u001b[0m\u001b[0;34m.\u001b[0m\u001b[0mloc\u001b[0m\u001b[0;34m[\u001b[0m\u001b[0mdata\u001b[0m\u001b[0;34m[\u001b[0m\u001b[0;34m'seq id'\u001b[0m\u001b[0;34m]\u001b[0m \u001b[0;34m==\u001b[0m \u001b[0mk\u001b[0m\u001b[0;34m]\u001b[0m\u001b[0;34m\u001b[0m\u001b[0m\n\u001b[0m\u001b[1;32m      5\u001b[0m     \u001b[0mdf\u001b[0m \u001b[0;34m=\u001b[0m \u001b[0mseq_data\u001b[0m\u001b[0;34m.\u001b[0m\u001b[0mloc\u001b[0m\u001b[0;34m[\u001b[0m\u001b[0mseq_data\u001b[0m\u001b[0;34m[\u001b[0m\u001b[0;34m'clan'\u001b[0m\u001b[0;34m]\u001b[0m \u001b[0;34m==\u001b[0m \u001b[0;34m'CL0183'\u001b[0m\u001b[0;34m]\u001b[0m\u001b[0;34m\u001b[0m\u001b[0m\n\u001b[1;32m      6\u001b[0m     \u001b[0mb\u001b[0m \u001b[0;34m=\u001b[0m \u001b[0;32mFalse\u001b[0m\u001b[0;34m\u001b[0m\u001b[0m\n",
      "\u001b[0;31mNameError\u001b[0m: name 'data' is not defined"
     ]
    }
   ],
   "source": [
    "new_names = []\n",
    "wrong = []\n",
    "for k in seqs.keys():\n",
    "    seq_data = data.loc[data['seq id'] == k]\n",
    "    df = seq_data.loc[seq_data['clan'] == 'CL0183']\n",
    "    b = False\n",
    "    for hit in seqs[k]:\n",
    "        for i in range(df.shape[0]):\n",
    "            if int(df.iloc[i, 3]) - hit[0] <=5 and hit[1] + 43 - int(df.iloc[i, 4]) <= 1:\n",
    "                b = True\n",
    "    if not b:\n",
    "        data.drop(data[data['seq id'] == k].index, inplace=True)\n",
    "        wrong.append(k)\n",
    "    else:\n",
    "        new_names.append(k)    "
   ]
  },
  {
   "cell_type": "code",
   "execution_count": 181,
   "metadata": {
    "collapsed": true
   },
   "outputs": [],
   "source": [
    "with open('protein_4.txt', 'r') as f:\n",
    "    fasta = {}\n",
    "    for line in map(lambda st: st.rstrip('\\n'), f):\n",
    "        if line.startswith('>'):\n",
    "            name = line\n",
    "        else:\n",
    "            fasta.setdefault(name, []).append(line)"
   ]
  },
  {
   "cell_type": "code",
   "execution_count": 182,
   "metadata": {
    "collapsed": true
   },
   "outputs": [],
   "source": [
    "new_file = []\n",
    "for name in new_names:\n",
    "    new_file.append('>' + name + '\\n')\n",
    "    for s in fasta.get('>' + name):\n",
    "        new_file.append(s + '\\n')"
   ]
  },
  {
   "cell_type": "code",
   "execution_count": 183,
   "metadata": {
    "collapsed": true
   },
   "outputs": [],
   "source": [
    "with open('With_Cys/final_proteins_4.fasta', 'w') as f:\n",
    "    f.write(''.join(new_file))"
   ]
  },
  {
   "cell_type": "markdown",
   "metadata": {
    "collapsed": true
   },
   "source": [
    "#### б) без Cys"
   ]
  },
  {
   "cell_type": "code",
   "execution_count": 125,
   "metadata": {
    "collapsed": true
   },
   "outputs": [],
   "source": [
    "from bs4 import BeautifulSoup\n",
    "with open(\"Without_Cys/Cysless_sequences_4.xml\",\"r\") as f:\n",
    "    contents = f.read()\n",
    "soup = BeautifulSoup(contents,'xml')"
   ]
  },
  {
   "cell_type": "code",
   "execution_count": 126,
   "metadata": {
    "collapsed": true
   },
   "outputs": [],
   "source": [
    "sequences = soup.sequences.find_all('sequence')"
   ]
  },
  {
   "cell_type": "code",
   "execution_count": 127,
   "metadata": {
    "collapsed": true
   },
   "outputs": [],
   "source": [
    "seqs = {}\n",
    "for seq in sequences:\n",
    "    for seg in seq.find_all('seg'):\n",
    "        if (bool(seg.find(idx = '0')) == True and bool(seg.find(idx = '1')) == True and bool(seg.find(idx = '2')) == True):\n",
    "            hits = seg.find_all('hit')\n",
    "            if (float(hits[0]['pvalue']) <= 1e-15 and float(hits[1]['pvalue']) <= 1e-15 and float(hits[2]['pvalue']) <= 1e-15):\n",
    "                seqs.setdefault(seq['name'], []).append([int(hits[0]['pos']), int(hits[1]['pos']), \n",
    "                                                         int(hits[2]['pos'])])\n"
   ]
  },
  {
   "cell_type": "code",
   "execution_count": 128,
   "metadata": {
    "collapsed": true
   },
   "outputs": [],
   "source": [
    "new_names = []\n",
    "wrong = []\n",
    "for k in seqs.keys():\n",
    "    seq_data = data.loc[data['seq id'] == k]\n",
    "    df = seq_data.loc[seq_data['clan'] == 'CL0183']\n",
    "    b = False\n",
    "    for hit in seqs[k]:\n",
    "        for i in range(df.shape[0]):\n",
    "            if int(df.iloc[i, 3]) - hit[0] <= 2 and hit[2] + 28 - int(df.iloc[i, 4]) <= 10:\n",
    "                b = True\n",
    "    if not b:\n",
    "        data.drop(data[data['seq id'] == k].index, inplace=True)\n",
    "        wrong.append(k)\n",
    "    else:\n",
    "        new_names.append(k)    "
   ]
  },
  {
   "cell_type": "code",
   "execution_count": 129,
   "metadata": {},
   "outputs": [
    {
     "data": {
      "text/plain": [
       "839"
      ]
     },
     "execution_count": 129,
     "metadata": {},
     "output_type": "execute_result"
    }
   ],
   "source": [
    "len(Cys_seq_names)"
   ]
  },
  {
   "cell_type": "code",
   "execution_count": 130,
   "metadata": {},
   "outputs": [
    {
     "data": {
      "text/plain": [
       "146"
      ]
     },
     "execution_count": 130,
     "metadata": {},
     "output_type": "execute_result"
    }
   ],
   "source": [
    "len(seqs)"
   ]
  },
  {
   "cell_type": "code",
   "execution_count": 131,
   "metadata": {},
   "outputs": [
    {
     "data": {
      "text/plain": [
       "146"
      ]
     },
     "execution_count": 131,
     "metadata": {},
     "output_type": "execute_result"
    }
   ],
   "source": [
    "len(new_names)"
   ]
  },
  {
   "cell_type": "code",
   "execution_count": 132,
   "metadata": {
    "collapsed": true
   },
   "outputs": [],
   "source": [
    "with open('protein_4.txt', 'r') as f:\n",
    "    fasta = {}\n",
    "    for line in map(lambda st: st.rstrip('\\n'), f):\n",
    "        if line.startswith('>'):\n",
    "            name = line\n",
    "        else:\n",
    "            fasta.setdefault(name, []).append(line)"
   ]
  },
  {
   "cell_type": "code",
   "execution_count": 133,
   "metadata": {
    "collapsed": true
   },
   "outputs": [],
   "source": [
    "new_file = []\n",
    "for name in new_names:\n",
    "    new_file.append('>' + name + '\\n')\n",
    "    for s in fasta.get('>' + name):\n",
    "        new_file.append(s + '\\n')"
   ]
  },
  {
   "cell_type": "code",
   "execution_count": 134,
   "metadata": {
    "collapsed": true
   },
   "outputs": [],
   "source": [
    "with open('Without_Cys/final_proteins_4_cl.fasta', 'w') as f:\n",
    "    f.write(''.join(new_file))"
   ]
  },
  {
   "cell_type": "code",
   "execution_count": 41,
   "metadata": {
    "collapsed": true
   },
   "outputs": [],
   "source": [
    "with open('With_Cys/final_proteins.fasta', 'r') as f:\n",
    "    fasta = {}\n",
    "    for line in map(lambda st: st.rstrip('\\n'), f):\n",
    "        if line.startswith('>'):\n",
    "            name = line\n",
    "        else:\n",
    "            fasta.setdefault(name, []).append(line)"
   ]
  },
  {
   "cell_type": "code",
   "execution_count": 42,
   "metadata": {
    "collapsed": true
   },
   "outputs": [],
   "source": [
    "with open('Without_Cys/final_proteins_cl.fasta', 'r') as f:\n",
    "    fasta_cl = {}\n",
    "    for line in map(lambda st: st.rstrip('\\n'), f):\n",
    "        if line.startswith('>'):\n",
    "            name = line\n",
    "        else:\n",
    "            fasta_cl.setdefault(name, []).append(line)"
   ]
  },
  {
   "cell_type": "code",
   "execution_count": 43,
   "metadata": {},
   "outputs": [
    {
     "data": {
      "text/plain": [
       "0"
      ]
     },
     "execution_count": 43,
     "metadata": {},
     "output_type": "execute_result"
    }
   ],
   "source": [
    "repeat = list(fasta.keys() & fasta_cl.keys())\n",
    "len(repeat)"
   ]
  },
  {
   "cell_type": "markdown",
   "metadata": {},
   "source": [
    "Нашлись пересечения по наименованиям в final_proteins и final_proteins_cl удалим дубликаты, и проверим к какому именно классу они относятся"
   ]
  },
  {
   "cell_type": "code",
   "execution_count": 35,
   "metadata": {
    "collapsed": true
   },
   "outputs": [],
   "source": [
    "for r in repeat:\n",
    "    fasta_cl.pop(r)"
   ]
  },
  {
   "cell_type": "code",
   "execution_count": 39,
   "metadata": {
    "collapsed": true
   },
   "outputs": [],
   "source": [
    "new_file = []\n",
    "for name in fasta_cl.keys():\n",
    "    new_file.append(name + '\\n')\n",
    "    for s in fasta_cl.get(name):\n",
    "        new_file.append(s + '\\n')"
   ]
  },
  {
   "cell_type": "code",
   "execution_count": 40,
   "metadata": {
    "collapsed": true
   },
   "outputs": [],
   "source": [
    "with open('Without_Cys/final_proteins_cl.fasta', 'w') as f:\n",
    "    f.write(''.join(new_file))"
   ]
  },
  {
   "cell_type": "markdown",
   "metadata": {},
   "source": [
    " В итоге получили файл final без повторов, и уменьшили количество сиквенсов в final_cl."
   ]
  },
  {
   "cell_type": "markdown",
   "metadata": {},
   "source": [
    "Теперь рассмотрим эффекторы, используя данные pfam полученные ранее"
   ]
  },
  {
   "cell_type": "markdown",
   "metadata": {},
   "source": [
    "### Эффекторы LOV"
   ]
  },
  {
   "cell_type": "markdown",
   "metadata": {},
   "source": [
    "#### C Cys"
   ]
  },
  {
   "cell_type": "code",
   "execution_count": 1,
   "metadata": {
    "collapsed": true
   },
   "outputs": [],
   "source": [
    "columns = []\n",
    "d = []\n",
    "with open('With_Cys/pfam_4.txt', 'r') as f:\n",
    "    for line in f:\n",
    "        if line.startswith('<'):\n",
    "            columns = line.split('> <')\n",
    "        else:\n",
    "            d.append(line.split())\n",
    "columns[0] = columns[0].strip('<')\n",
    "columns[-1] = columns[-1].strip('>\\n')"
   ]
  },
  {
   "cell_type": "code",
   "execution_count": 3,
   "metadata": {
    "collapsed": true
   },
   "outputs": [],
   "source": [
    "data = pd.DataFrame(d, columns=columns)"
   ]
  },
  {
   "cell_type": "code",
   "execution_count": 4,
   "metadata": {
    "collapsed": true
   },
   "outputs": [],
   "source": [
    "'''Доступ к Uniprot'''\n",
    "from Bio import ExPASy\n",
    "from Bio import SwissProt"
   ]
  },
  {
   "cell_type": "code",
   "execution_count": 5,
   "metadata": {
    "collapsed": true
   },
   "outputs": [],
   "source": [
    "handle = ExPASy.get_sprot_raw('A0A126WYA8')\n",
    "record = SwissProt.read(handle)"
   ]
  },
  {
   "cell_type": "code",
   "execution_count": 43,
   "metadata": {},
   "outputs": [
    {
     "data": {
      "text/plain": [
       "'Eukaryota Viridiplantae'"
      ]
     },
     "execution_count": 43,
     "metadata": {},
     "output_type": "execute_result"
    }
   ],
   "source": [
    "record.organism_classification[0] + ' ' + record.organism_classification[1]"
   ]
  },
  {
   "cell_type": "markdown",
   "metadata": {},
   "source": [
    "Разделим все наименования на (растения), (грибы), (бактерии), (археи), (протисты) "
   ]
  },
  {
   "cell_type": "code",
   "execution_count": 6,
   "metadata": {
    "collapsed": true
   },
   "outputs": [],
   "source": [
    "data['kingdom'] = None"
   ]
  },
  {
   "cell_type": "code",
   "execution_count": 7,
   "metadata": {
    "collapsed": true
   },
   "outputs": [],
   "source": [
    "def kingdom(s):\n",
    "    handle = ExPASy.get_sprot_raw(s[0])\n",
    "    try:\n",
    "        record = SwissProt.read(handle)\n",
    "        return record.organism_classification[0] + ' ' + record.organism_classification[1]\n",
    "    except ValueError:\n",
    "        return None"
   ]
  },
  {
   "cell_type": "code",
   "execution_count": 9,
   "metadata": {
    "collapsed": true
   },
   "outputs": [],
   "source": [
    "from tqdm import trange"
   ]
  },
  {
   "cell_type": "code",
   "execution_count": 10,
   "metadata": {
    "scrolled": true
   },
   "outputs": [
    {
     "name": "stderr",
     "output_type": "stream",
     "text": [

     ]
    }
   ],
   "source": [
    "for i in trange(6110):\n",
    "    data.iloc[i, 15] = kingdom(data.iloc[i,:])"
   ]
  },
  {
   "cell_type": "code",
   "execution_count": 13,
   "metadata": {},
   "outputs": [
    {
     "data": {
      "text/plain": [
       "'Bacteria Proteobacteria'"
      ]
     },
     "execution_count": 13,
     "metadata": {},
     "output_type": "execute_result"
    }
   ],
   "source": [
    "data.iloc[6109,15]"
   ]
  },
  {
   "cell_type": "code",
   "execution_count": 11,
   "metadata": {
    "collapsed": true
   },
   "outputs": [],
   "source": [
    "tfile = open('With_Cys/domains_4.csv', 'a')\n",
    "tfile.write(data.to_csv())\n",
    "tfile.close()"
   ]
  },
  {
   "cell_type": "code",
   "execution_count": 14,
   "metadata": {},
   "outputs": [
    {
     "data": {
      "text/html": [
       "<div>\n",
       "<style scoped>\n",
       "    .dataframe tbody tr th:only-of-type {\n",
       "        vertical-align: middle;\n",
       "    }\n",
       "\n",
       "    .dataframe tbody tr th {\n",
       "        vertical-align: top;\n",
       "    }\n",
       "\n",
       "    .dataframe thead th {\n",
       "        text-align: right;\n",
       "    }\n",
       "</style>\n",
       "<table border=\"1\" class=\"dataframe\">\n",
       "  <thead>\n",
       "    <tr style=\"text-align: right;\">\n",
       "      <th></th>\n",
       "      <th>seq id</th>\n",
       "      <th>alignment start</th>\n",
       "      <th>alignment end</th>\n",
       "      <th>envelope start</th>\n",
       "      <th>envelope end</th>\n",
       "      <th>hmm acc</th>\n",
       "      <th>hmm name</th>\n",
       "      <th>type</th>\n",
       "      <th>hmm start</th>\n",
       "      <th>hmm end</th>\n",
       "      <th>hmm length</th>\n",
       "      <th>bit score</th>\n",
       "      <th>E-value</th>\n",
       "      <th>significance</th>\n",
       "      <th>clan</th>\n",
       "      <th>kingdom</th>\n",
       "    </tr>\n",
       "  </thead>\n",
       "  <tbody>\n",
       "    <tr>\n",
       "      <th>0</th>\n",
       "      <td>M0TGC4</td>\n",
       "      <td>170</td>\n",
       "      <td>266</td>\n",
       "      <td>162</td>\n",
       "      <td>267</td>\n",
       "      <td>PF13426.7</td>\n",
       "      <td>PAS_9</td>\n",
       "      <td>Domain</td>\n",
       "      <td>7</td>\n",
       "      <td>103</td>\n",
       "      <td>104</td>\n",
       "      <td>58.9</td>\n",
       "      <td>4.9e-16</td>\n",
       "      <td>1</td>\n",
       "      <td>CL0183</td>\n",
       "      <td>Eukaryota Viridiplantae</td>\n",
       "    </tr>\n",
       "    <tr>\n",
       "      <th>1</th>\n",
       "      <td>M0TGC4</td>\n",
       "      <td>452</td>\n",
       "      <td>544</td>\n",
       "      <td>443</td>\n",
       "      <td>547</td>\n",
       "      <td>PF13426.7</td>\n",
       "      <td>PAS_9</td>\n",
       "      <td>Domain</td>\n",
       "      <td>9</td>\n",
       "      <td>101</td>\n",
       "      <td>104</td>\n",
       "      <td>73.1</td>\n",
       "      <td>1.9e-20</td>\n",
       "      <td>1</td>\n",
       "      <td>CL0183</td>\n",
       "      <td>Eukaryota Viridiplantae</td>\n",
       "    </tr>\n",
       "    <tr>\n",
       "      <th>2</th>\n",
       "      <td>M0TGC4</td>\n",
       "      <td>633</td>\n",
       "      <td>918</td>\n",
       "      <td>630</td>\n",
       "      <td>918</td>\n",
       "      <td>PF00069.25</td>\n",
       "      <td>Pkinase</td>\n",
       "      <td>Domain</td>\n",
       "      <td>4</td>\n",
       "      <td>264</td>\n",
       "      <td>264</td>\n",
       "      <td>212.2</td>\n",
       "      <td>8.3e-63</td>\n",
       "      <td>1</td>\n",
       "      <td>CL0016</td>\n",
       "      <td>Eukaryota Viridiplantae</td>\n",
       "    </tr>\n",
       "    <tr>\n",
       "      <th>3</th>\n",
       "      <td>M0KWF6</td>\n",
       "      <td>10</td>\n",
       "      <td>115</td>\n",
       "      <td>10</td>\n",
       "      <td>121</td>\n",
       "      <td>PF00072.24</td>\n",
       "      <td>Response_reg</td>\n",
       "      <td>Domain</td>\n",
       "      <td>1</td>\n",
       "      <td>105</td>\n",
       "      <td>112</td>\n",
       "      <td>70.0</td>\n",
       "      <td>1.8e-19</td>\n",
       "      <td>1</td>\n",
       "      <td>CL0304</td>\n",
       "      <td>Archaea Euryarchaeota</td>\n",
       "    </tr>\n",
       "    <tr>\n",
       "      <th>4</th>\n",
       "      <td>M0KWF6</td>\n",
       "      <td>149</td>\n",
       "      <td>246</td>\n",
       "      <td>148</td>\n",
       "      <td>246</td>\n",
       "      <td>PF13426.7</td>\n",
       "      <td>PAS_9</td>\n",
       "      <td>Domain</td>\n",
       "      <td>2</td>\n",
       "      <td>104</td>\n",
       "      <td>104</td>\n",
       "      <td>39.1</td>\n",
       "      <td>7e-10</td>\n",
       "      <td>1</td>\n",
       "      <td>CL0183</td>\n",
       "      <td>Archaea Euryarchaeota</td>\n",
       "    </tr>\n",
       "    <tr>\n",
       "      <th>5</th>\n",
       "      <td>M0KWF6</td>\n",
       "      <td>267</td>\n",
       "      <td>371</td>\n",
       "      <td>265</td>\n",
       "      <td>371</td>\n",
       "      <td>PF13426.7</td>\n",
       "      <td>PAS_9</td>\n",
       "      <td>Domain</td>\n",
       "      <td>3</td>\n",
       "      <td>104</td>\n",
       "      <td>104</td>\n",
       "      <td>81.6</td>\n",
       "      <td>4.2e-23</td>\n",
       "      <td>1</td>\n",
       "      <td>CL0183</td>\n",
       "      <td>Archaea Euryarchaeota</td>\n",
       "    </tr>\n",
       "    <tr>\n",
       "      <th>6</th>\n",
       "      <td>M0KWF6</td>\n",
       "      <td>393</td>\n",
       "      <td>524</td>\n",
       "      <td>392</td>\n",
       "      <td>525</td>\n",
       "      <td>PF13185.6</td>\n",
       "      <td>GAF_2</td>\n",
       "      <td>Domain</td>\n",
       "      <td>2</td>\n",
       "      <td>137</td>\n",
       "      <td>138</td>\n",
       "      <td>47.9</td>\n",
       "      <td>1.6e-12</td>\n",
       "      <td>1</td>\n",
       "      <td>CL0161</td>\n",
       "      <td>Archaea Euryarchaeota</td>\n",
       "    </tr>\n",
       "    <tr>\n",
       "      <th>7</th>\n",
       "      <td>M0KWF6</td>\n",
       "      <td>547</td>\n",
       "      <td>606</td>\n",
       "      <td>546</td>\n",
       "      <td>607</td>\n",
       "      <td>PF00512.25</td>\n",
       "      <td>HisKA</td>\n",
       "      <td>Domain</td>\n",
       "      <td>2</td>\n",
       "      <td>66</td>\n",
       "      <td>67</td>\n",
       "      <td>42.2</td>\n",
       "      <td>6e-11</td>\n",
       "      <td>1</td>\n",
       "      <td>CL0025</td>\n",
       "      <td>Archaea Euryarchaeota</td>\n",
       "    </tr>\n",
       "    <tr>\n",
       "      <th>8</th>\n",
       "      <td>M0KWF6</td>\n",
       "      <td>645</td>\n",
       "      <td>741</td>\n",
       "      <td>644</td>\n",
       "      <td>743</td>\n",
       "      <td>PF02518.26</td>\n",
       "      <td>HATPase_c</td>\n",
       "      <td>Domain</td>\n",
       "      <td>2</td>\n",
       "      <td>107</td>\n",
       "      <td>112</td>\n",
       "      <td>63.7</td>\n",
       "      <td>2e-17</td>\n",
       "      <td>1</td>\n",
       "      <td>CL0025</td>\n",
       "      <td>Archaea Euryarchaeota</td>\n",
       "    </tr>\n",
       "    <tr>\n",
       "      <th>9</th>\n",
       "      <td>W8FYW6</td>\n",
       "      <td>26</td>\n",
       "      <td>131</td>\n",
       "      <td>25</td>\n",
       "      <td>131</td>\n",
       "      <td>PF13426.7</td>\n",
       "      <td>PAS_9</td>\n",
       "      <td>Domain</td>\n",
       "      <td>2</td>\n",
       "      <td>104</td>\n",
       "      <td>104</td>\n",
       "      <td>78.6</td>\n",
       "      <td>3.5e-22</td>\n",
       "      <td>1</td>\n",
       "      <td>CL0183</td>\n",
       "      <td>Bacteria Proteobacteria</td>\n",
       "    </tr>\n",
       "    <tr>\n",
       "      <th>10</th>\n",
       "      <td>X1JIM7</td>\n",
       "      <td>34</td>\n",
       "      <td>138</td>\n",
       "      <td>32</td>\n",
       "      <td>138</td>\n",
       "      <td>PF13426.7</td>\n",
       "      <td>PAS_9</td>\n",
       "      <td>Domain</td>\n",
       "      <td>3</td>\n",
       "      <td>104</td>\n",
       "      <td>104</td>\n",
       "      <td>78.1</td>\n",
       "      <td>5e-22</td>\n",
       "      <td>1</td>\n",
       "      <td>CL0183</td>\n",
       "      <td>unclassified sequences metagenomes</td>\n",
       "    </tr>\n",
       "    <tr>\n",
       "      <th>11</th>\n",
       "      <td>X1JIM7</td>\n",
       "      <td>177</td>\n",
       "      <td>246</td>\n",
       "      <td>177</td>\n",
       "      <td>247</td>\n",
       "      <td>PF07568.12</td>\n",
       "      <td>HisKA_2</td>\n",
       "      <td>Domain</td>\n",
       "      <td>1</td>\n",
       "      <td>70</td>\n",
       "      <td>76</td>\n",
       "      <td>82.3</td>\n",
       "      <td>1.9e-23</td>\n",
       "      <td>1</td>\n",
       "      <td>CL0025</td>\n",
       "      <td>unclassified sequences metagenomes</td>\n",
       "    </tr>\n",
       "    <tr>\n",
       "      <th>12</th>\n",
       "      <td>V9V5A6</td>\n",
       "      <td>16</td>\n",
       "      <td>120</td>\n",
       "      <td>15</td>\n",
       "      <td>121</td>\n",
       "      <td>PF13426.7</td>\n",
       "      <td>PAS_9</td>\n",
       "      <td>Domain</td>\n",
       "      <td>2</td>\n",
       "      <td>103</td>\n",
       "      <td>104</td>\n",
       "      <td>79.5</td>\n",
       "      <td>1.8e-22</td>\n",
       "      <td>1</td>\n",
       "      <td>CL0183</td>\n",
       "      <td>Bacteria Proteobacteria</td>\n",
       "    </tr>\n",
       "    <tr>\n",
       "      <th>13</th>\n",
       "      <td>Q5V5P7</td>\n",
       "      <td>21</td>\n",
       "      <td>116</td>\n",
       "      <td>15</td>\n",
       "      <td>123</td>\n",
       "      <td>PF00072.24</td>\n",
       "      <td>Response_reg</td>\n",
       "      <td>Domain</td>\n",
       "      <td>7</td>\n",
       "      <td>101</td>\n",
       "      <td>112</td>\n",
       "      <td>56.9</td>\n",
       "      <td>2e-15</td>\n",
       "      <td>1</td>\n",
       "      <td>CL0304</td>\n",
       "      <td>Archaea Euryarchaeota</td>\n",
       "    </tr>\n",
       "    <tr>\n",
       "      <th>14</th>\n",
       "      <td>Q5V5P7</td>\n",
       "      <td>156</td>\n",
       "      <td>265</td>\n",
       "      <td>156</td>\n",
       "      <td>265</td>\n",
       "      <td>PF08448.10</td>\n",
       "      <td>PAS_4</td>\n",
       "      <td>Domain</td>\n",
       "      <td>1</td>\n",
       "      <td>110</td>\n",
       "      <td>110</td>\n",
       "      <td>36.5</td>\n",
       "      <td>4.8e-09</td>\n",
       "      <td>1</td>\n",
       "      <td>CL0183</td>\n",
       "      <td>Archaea Euryarchaeota</td>\n",
       "    </tr>\n",
       "    <tr>\n",
       "      <th>15</th>\n",
       "      <td>Q5V5P7</td>\n",
       "      <td>281</td>\n",
       "      <td>387</td>\n",
       "      <td>281</td>\n",
       "      <td>387</td>\n",
       "      <td>PF13426.7</td>\n",
       "      <td>PAS_9</td>\n",
       "      <td>Domain</td>\n",
       "      <td>1</td>\n",
       "      <td>104</td>\n",
       "      <td>104</td>\n",
       "      <td>78.6</td>\n",
       "      <td>3.7e-22</td>\n",
       "      <td>1</td>\n",
       "      <td>CL0183</td>\n",
       "      <td>Archaea Euryarchaeota</td>\n",
       "    </tr>\n",
       "    <tr>\n",
       "      <th>16</th>\n",
       "      <td>Q5V5P7</td>\n",
       "      <td>406</td>\n",
       "      <td>513</td>\n",
       "      <td>406</td>\n",
       "      <td>513</td>\n",
       "      <td>PF08448.10</td>\n",
       "      <td>PAS_4</td>\n",
       "      <td>Domain</td>\n",
       "      <td>1</td>\n",
       "      <td>110</td>\n",
       "      <td>110</td>\n",
       "      <td>47.1</td>\n",
       "      <td>2.3e-12</td>\n",
       "      <td>1</td>\n",
       "      <td>CL0183</td>\n",
       "      <td>Archaea Euryarchaeota</td>\n",
       "    </tr>\n",
       "    <tr>\n",
       "      <th>17</th>\n",
       "      <td>Q5V5P7</td>\n",
       "      <td>525</td>\n",
       "      <td>584</td>\n",
       "      <td>524</td>\n",
       "      <td>585</td>\n",
       "      <td>PF00512.25</td>\n",
       "      <td>HisKA</td>\n",
       "      <td>Domain</td>\n",
       "      <td>2</td>\n",
       "      <td>66</td>\n",
       "      <td>67</td>\n",
       "      <td>54.9</td>\n",
       "      <td>6.4e-15</td>\n",
       "      <td>1</td>\n",
       "      <td>CL0025</td>\n",
       "      <td>Archaea Euryarchaeota</td>\n",
       "    </tr>\n",
       "    <tr>\n",
       "      <th>18</th>\n",
       "      <td>Q5V5P7</td>\n",
       "      <td>623</td>\n",
       "      <td>719</td>\n",
       "      <td>622</td>\n",
       "      <td>723</td>\n",
       "      <td>PF02518.26</td>\n",
       "      <td>HATPase_c</td>\n",
       "      <td>Domain</td>\n",
       "      <td>2</td>\n",
       "      <td>107</td>\n",
       "      <td>112</td>\n",
       "      <td>64.4</td>\n",
       "      <td>1.2e-17</td>\n",
       "      <td>1</td>\n",
       "      <td>CL0025</td>\n",
       "      <td>Archaea Euryarchaeota</td>\n",
       "    </tr>\n",
       "    <tr>\n",
       "      <th>19</th>\n",
       "      <td>M2UPJ8</td>\n",
       "      <td>16</td>\n",
       "      <td>121</td>\n",
       "      <td>15</td>\n",
       "      <td>121</td>\n",
       "      <td>PF13426.7</td>\n",
       "      <td>PAS_9</td>\n",
       "      <td>Domain</td>\n",
       "      <td>2</td>\n",
       "      <td>104</td>\n",
       "      <td>104</td>\n",
       "      <td>78.1</td>\n",
       "      <td>5.2e-22</td>\n",
       "      <td>1</td>\n",
       "      <td>CL0183</td>\n",
       "      <td>Bacteria Proteobacteria</td>\n",
       "    </tr>\n",
       "    <tr>\n",
       "      <th>20</th>\n",
       "      <td>K9QT62</td>\n",
       "      <td>99</td>\n",
       "      <td>214</td>\n",
       "      <td>76</td>\n",
       "      <td>225</td>\n",
       "      <td>PF03924.13</td>\n",
       "      <td>CHASE</td>\n",
       "      <td>Domain</td>\n",
       "      <td>47</td>\n",
       "      <td>179</td>\n",
       "      <td>188</td>\n",
       "      <td>51.7</td>\n",
       "      <td>1e-13</td>\n",
       "      <td>1</td>\n",
       "      <td>CL0165</td>\n",
       "      <td>Bacteria Cyanobacteria</td>\n",
       "    </tr>\n",
       "    <tr>\n",
       "      <th>21</th>\n",
       "      <td>K9QT62</td>\n",
       "      <td>343</td>\n",
       "      <td>426</td>\n",
       "      <td>342</td>\n",
       "      <td>428</td>\n",
       "      <td>PF08447.12</td>\n",
       "      <td>PAS_3</td>\n",
       "      <td>Domain</td>\n",
       "      <td>2</td>\n",
       "      <td>87</td>\n",
       "      <td>89</td>\n",
       "      <td>47.1</td>\n",
       "      <td>2.2e-12</td>\n",
       "      <td>1</td>\n",
       "      <td>CL0183</td>\n",
       "      <td>Bacteria Cyanobacteria</td>\n",
       "    </tr>\n",
       "    <tr>\n",
       "      <th>22</th>\n",
       "      <td>K9QT62</td>\n",
       "      <td>453</td>\n",
       "      <td>558</td>\n",
       "      <td>452</td>\n",
       "      <td>558</td>\n",
       "      <td>PF13426.7</td>\n",
       "      <td>PAS_9</td>\n",
       "      <td>Domain</td>\n",
       "      <td>2</td>\n",
       "      <td>104</td>\n",
       "      <td>104</td>\n",
       "      <td>76.6</td>\n",
       "      <td>1.5e-21</td>\n",
       "      <td>1</td>\n",
       "      <td>CL0183</td>\n",
       "      <td>Bacteria Cyanobacteria</td>\n",
       "    </tr>\n",
       "    <tr>\n",
       "      <th>23</th>\n",
       "      <td>K9QT62</td>\n",
       "      <td>578</td>\n",
       "      <td>680</td>\n",
       "      <td>578</td>\n",
       "      <td>680</td>\n",
       "      <td>PF13426.7</td>\n",
       "      <td>PAS_9</td>\n",
       "      <td>Domain</td>\n",
       "      <td>2</td>\n",
       "      <td>104</td>\n",
       "      <td>104</td>\n",
       "      <td>58.0</td>\n",
       "      <td>9.1e-16</td>\n",
       "      <td>1</td>\n",
       "      <td>CL0183</td>\n",
       "      <td>Bacteria Cyanobacteria</td>\n",
       "    </tr>\n",
       "    <tr>\n",
       "      <th>24</th>\n",
       "      <td>K9QT62</td>\n",
       "      <td>700</td>\n",
       "      <td>808</td>\n",
       "      <td>699</td>\n",
       "      <td>808</td>\n",
       "      <td>PF08448.10</td>\n",
       "      <td>PAS_4</td>\n",
       "      <td>Domain</td>\n",
       "      <td>2</td>\n",
       "      <td>110</td>\n",
       "      <td>110</td>\n",
       "      <td>44.0</td>\n",
       "      <td>2.1e-11</td>\n",
       "      <td>1</td>\n",
       "      <td>CL0183</td>\n",
       "      <td>Bacteria Cyanobacteria</td>\n",
       "    </tr>\n",
       "    <tr>\n",
       "      <th>25</th>\n",
       "      <td>K9QT62</td>\n",
       "      <td>835</td>\n",
       "      <td>978</td>\n",
       "      <td>835</td>\n",
       "      <td>978</td>\n",
       "      <td>PF01590.26</td>\n",
       "      <td>GAF</td>\n",
       "      <td>Domain</td>\n",
       "      <td>1</td>\n",
       "      <td>133</td>\n",
       "      <td>133</td>\n",
       "      <td>52.4</td>\n",
       "      <td>8.1e-14</td>\n",
       "      <td>1</td>\n",
       "      <td>CL0161</td>\n",
       "      <td>Bacteria Cyanobacteria</td>\n",
       "    </tr>\n",
       "    <tr>\n",
       "      <th>26</th>\n",
       "      <td>K9QT62</td>\n",
       "      <td>1014</td>\n",
       "      <td>1079</td>\n",
       "      <td>1014</td>\n",
       "      <td>1079</td>\n",
       "      <td>PF00512.25</td>\n",
       "      <td>HisKA</td>\n",
       "      <td>Domain</td>\n",
       "      <td>1</td>\n",
       "      <td>67</td>\n",
       "      <td>67</td>\n",
       "      <td>68.2</td>\n",
       "      <td>4.8e-19</td>\n",
       "      <td>1</td>\n",
       "      <td>CL0025</td>\n",
       "      <td>Bacteria Cyanobacteria</td>\n",
       "    </tr>\n",
       "    <tr>\n",
       "      <th>27</th>\n",
       "      <td>K9QT62</td>\n",
       "      <td>1126</td>\n",
       "      <td>1232</td>\n",
       "      <td>1126</td>\n",
       "      <td>1266</td>\n",
       "      <td>PF02518.26</td>\n",
       "      <td>HATPase_c</td>\n",
       "      <td>Domain</td>\n",
       "      <td>1</td>\n",
       "      <td>98</td>\n",
       "      <td>112</td>\n",
       "      <td>88.7</td>\n",
       "      <td>3.5e-25</td>\n",
       "      <td>1</td>\n",
       "      <td>CL0025</td>\n",
       "      <td>Bacteria Cyanobacteria</td>\n",
       "    </tr>\n",
       "    <tr>\n",
       "      <th>28</th>\n",
       "      <td>K9QT62</td>\n",
       "      <td>1290</td>\n",
       "      <td>1400</td>\n",
       "      <td>1289</td>\n",
       "      <td>1402</td>\n",
       "      <td>PF00072.24</td>\n",
       "      <td>Response_reg</td>\n",
       "      <td>Domain</td>\n",
       "      <td>2</td>\n",
       "      <td>110</td>\n",
       "      <td>112</td>\n",
       "      <td>77.8</td>\n",
       "      <td>6.6e-22</td>\n",
       "      <td>1</td>\n",
       "      <td>CL0304</td>\n",
       "      <td>Bacteria Cyanobacteria</td>\n",
       "    </tr>\n",
       "    <tr>\n",
       "      <th>29</th>\n",
       "      <td>K9QT62</td>\n",
       "      <td>1434</td>\n",
       "      <td>1544</td>\n",
       "      <td>1434</td>\n",
       "      <td>1545</td>\n",
       "      <td>PF00072.24</td>\n",
       "      <td>Response_reg</td>\n",
       "      <td>Domain</td>\n",
       "      <td>1</td>\n",
       "      <td>111</td>\n",
       "      <td>112</td>\n",
       "      <td>91.0</td>\n",
       "      <td>5.1e-26</td>\n",
       "      <td>1</td>\n",
       "      <td>CL0304</td>\n",
       "      <td>Bacteria Cyanobacteria</td>\n",
       "    </tr>\n",
       "    <tr>\n",
       "      <th>...</th>\n",
       "      <td>...</td>\n",
       "      <td>...</td>\n",
       "      <td>...</td>\n",
       "      <td>...</td>\n",
       "      <td>...</td>\n",
       "      <td>...</td>\n",
       "      <td>...</td>\n",
       "      <td>...</td>\n",
       "      <td>...</td>\n",
       "      <td>...</td>\n",
       "      <td>...</td>\n",
       "      <td>...</td>\n",
       "      <td>...</td>\n",
       "      <td>...</td>\n",
       "      <td>...</td>\n",
       "      <td>...</td>\n",
       "    </tr>\n",
       "    <tr>\n",
       "      <th>6080</th>\n",
       "      <td>K9RZ52</td>\n",
       "      <td>753</td>\n",
       "      <td>867</td>\n",
       "      <td>753</td>\n",
       "      <td>870</td>\n",
       "      <td>PF02518.26</td>\n",
       "      <td>HATPase_c</td>\n",
       "      <td>Domain</td>\n",
       "      <td>1</td>\n",
       "      <td>109</td>\n",
       "      <td>112</td>\n",
       "      <td>106.4</td>\n",
       "      <td>1.1e-30</td>\n",
       "      <td>1</td>\n",
       "      <td>CL0025</td>\n",
       "      <td>Bacteria Cyanobacteria</td>\n",
       "    </tr>\n",
       "    <tr>\n",
       "      <th>6081</th>\n",
       "      <td>K9RZ52</td>\n",
       "      <td>889</td>\n",
       "      <td>993</td>\n",
       "      <td>889</td>\n",
       "      <td>996</td>\n",
       "      <td>PF00072.24</td>\n",
       "      <td>Response_reg</td>\n",
       "      <td>Domain</td>\n",
       "      <td>1</td>\n",
       "      <td>109</td>\n",
       "      <td>112</td>\n",
       "      <td>52.5</td>\n",
       "      <td>4.7e-14</td>\n",
       "      <td>1</td>\n",
       "      <td>CL0304</td>\n",
       "      <td>Bacteria Cyanobacteria</td>\n",
       "    </tr>\n",
       "    <tr>\n",
       "      <th>6082</th>\n",
       "      <td>K9RZ52</td>\n",
       "      <td>1026</td>\n",
       "      <td>1138</td>\n",
       "      <td>1026</td>\n",
       "      <td>1139</td>\n",
       "      <td>PF00072.24</td>\n",
       "      <td>Response_reg</td>\n",
       "      <td>Domain</td>\n",
       "      <td>1</td>\n",
       "      <td>111</td>\n",
       "      <td>112</td>\n",
       "      <td>91.0</td>\n",
       "      <td>5.3e-26</td>\n",
       "      <td>1</td>\n",
       "      <td>CL0304</td>\n",
       "      <td>Bacteria Cyanobacteria</td>\n",
       "    </tr>\n",
       "    <tr>\n",
       "      <th>6083</th>\n",
       "      <td>C7LI74</td>\n",
       "      <td>34</td>\n",
       "      <td>136</td>\n",
       "      <td>31</td>\n",
       "      <td>137</td>\n",
       "      <td>PF13426.7</td>\n",
       "      <td>PAS_9</td>\n",
       "      <td>Domain</td>\n",
       "      <td>4</td>\n",
       "      <td>103</td>\n",
       "      <td>104</td>\n",
       "      <td>75.1</td>\n",
       "      <td>4.4e-21</td>\n",
       "      <td>1</td>\n",
       "      <td>CL0183</td>\n",
       "      <td>Bacteria Proteobacteria</td>\n",
       "    </tr>\n",
       "    <tr>\n",
       "      <th>6084</th>\n",
       "      <td>C7LI74</td>\n",
       "      <td>184</td>\n",
       "      <td>259</td>\n",
       "      <td>183</td>\n",
       "      <td>266</td>\n",
       "      <td>PF08447.12</td>\n",
       "      <td>PAS_3</td>\n",
       "      <td>Domain</td>\n",
       "      <td>2</td>\n",
       "      <td>79</td>\n",
       "      <td>89</td>\n",
       "      <td>53.5</td>\n",
       "      <td>2.2e-14</td>\n",
       "      <td>1</td>\n",
       "      <td>CL0183</td>\n",
       "      <td>Bacteria Proteobacteria</td>\n",
       "    </tr>\n",
       "    <tr>\n",
       "      <th>6085</th>\n",
       "      <td>C7LI74</td>\n",
       "      <td>285</td>\n",
       "      <td>367</td>\n",
       "      <td>285</td>\n",
       "      <td>367</td>\n",
       "      <td>PF07536.14</td>\n",
       "      <td>HWE_HK</td>\n",
       "      <td>Domain</td>\n",
       "      <td>1</td>\n",
       "      <td>83</td>\n",
       "      <td>83</td>\n",
       "      <td>97.7</td>\n",
       "      <td>4.9e-28</td>\n",
       "      <td>1</td>\n",
       "      <td>CL0025</td>\n",
       "      <td>Bacteria Proteobacteria</td>\n",
       "    </tr>\n",
       "    <tr>\n",
       "      <th>6086</th>\n",
       "      <td>H0SK82</td>\n",
       "      <td>48</td>\n",
       "      <td>142</td>\n",
       "      <td>38</td>\n",
       "      <td>143</td>\n",
       "      <td>PF13426.7</td>\n",
       "      <td>PAS_9</td>\n",
       "      <td>Domain</td>\n",
       "      <td>9</td>\n",
       "      <td>103</td>\n",
       "      <td>104</td>\n",
       "      <td>68.0</td>\n",
       "      <td>7.1e-19</td>\n",
       "      <td>1</td>\n",
       "      <td>CL0183</td>\n",
       "      <td>Bacteria Proteobacteria</td>\n",
       "    </tr>\n",
       "    <tr>\n",
       "      <th>6087</th>\n",
       "      <td>H0SK82</td>\n",
       "      <td>161</td>\n",
       "      <td>224</td>\n",
       "      <td>159</td>\n",
       "      <td>225</td>\n",
       "      <td>PF00512.25</td>\n",
       "      <td>HisKA</td>\n",
       "      <td>Domain</td>\n",
       "      <td>3</td>\n",
       "      <td>65</td>\n",
       "      <td>67</td>\n",
       "      <td>40.0</td>\n",
       "      <td>3e-10</td>\n",
       "      <td>1</td>\n",
       "      <td>CL0025</td>\n",
       "      <td>Bacteria Proteobacteria</td>\n",
       "    </tr>\n",
       "    <tr>\n",
       "      <th>6088</th>\n",
       "      <td>H0SK82</td>\n",
       "      <td>269</td>\n",
       "      <td>389</td>\n",
       "      <td>267</td>\n",
       "      <td>390</td>\n",
       "      <td>PF02518.26</td>\n",
       "      <td>HATPase_c</td>\n",
       "      <td>Domain</td>\n",
       "      <td>3</td>\n",
       "      <td>111</td>\n",
       "      <td>112</td>\n",
       "      <td>58.1</td>\n",
       "      <td>1.1e-15</td>\n",
       "      <td>1</td>\n",
       "      <td>CL0025</td>\n",
       "      <td>Bacteria Proteobacteria</td>\n",
       "    </tr>\n",
       "    <tr>\n",
       "      <th>6089</th>\n",
       "      <td>H0SK82</td>\n",
       "      <td>412</td>\n",
       "      <td>523</td>\n",
       "      <td>412</td>\n",
       "      <td>524</td>\n",
       "      <td>PF00072.24</td>\n",
       "      <td>Response_reg</td>\n",
       "      <td>Domain</td>\n",
       "      <td>1</td>\n",
       "      <td>111</td>\n",
       "      <td>112</td>\n",
       "      <td>71.6</td>\n",
       "      <td>5.5e-20</td>\n",
       "      <td>1</td>\n",
       "      <td>CL0304</td>\n",
       "      <td>Bacteria Proteobacteria</td>\n",
       "    </tr>\n",
       "    <tr>\n",
       "      <th>6090</th>\n",
       "      <td>W7N2J5</td>\n",
       "      <td>3</td>\n",
       "      <td>176</td>\n",
       "      <td>2</td>\n",
       "      <td>198</td>\n",
       "      <td>PF17111.5</td>\n",
       "      <td>Helo_like_N</td>\n",
       "      <td>Family</td>\n",
       "      <td>2</td>\n",
       "      <td>171</td>\n",
       "      <td>209</td>\n",
       "      <td>85.3</td>\n",
       "      <td>3.7e-24</td>\n",
       "      <td>1</td>\n",
       "      <td>CL0587</td>\n",
       "      <td>Eukaryota Fungi</td>\n",
       "    </tr>\n",
       "    <tr>\n",
       "      <th>6091</th>\n",
       "      <td>W7N2J5</td>\n",
       "      <td>410</td>\n",
       "      <td>517</td>\n",
       "      <td>402</td>\n",
       "      <td>519</td>\n",
       "      <td>PF13426.7</td>\n",
       "      <td>PAS_9</td>\n",
       "      <td>Domain</td>\n",
       "      <td>6</td>\n",
       "      <td>102</td>\n",
       "      <td>104</td>\n",
       "      <td>58.4</td>\n",
       "      <td>6.7e-16</td>\n",
       "      <td>1</td>\n",
       "      <td>CL0183</td>\n",
       "      <td>Eukaryota Fungi</td>\n",
       "    </tr>\n",
       "    <tr>\n",
       "      <th>6092</th>\n",
       "      <td>A9VYT5</td>\n",
       "      <td>46</td>\n",
       "      <td>145</td>\n",
       "      <td>41</td>\n",
       "      <td>146</td>\n",
       "      <td>PF13426.7</td>\n",
       "      <td>PAS_9</td>\n",
       "      <td>Domain</td>\n",
       "      <td>6</td>\n",
       "      <td>103</td>\n",
       "      <td>104</td>\n",
       "      <td>68.9</td>\n",
       "      <td>3.7e-19</td>\n",
       "      <td>1</td>\n",
       "      <td>CL0183</td>\n",
       "      <td>Bacteria Proteobacteria</td>\n",
       "    </tr>\n",
       "    <tr>\n",
       "      <th>6093</th>\n",
       "      <td>A9VYT5</td>\n",
       "      <td>164</td>\n",
       "      <td>230</td>\n",
       "      <td>162</td>\n",
       "      <td>231</td>\n",
       "      <td>PF00512.25</td>\n",
       "      <td>HisKA</td>\n",
       "      <td>Domain</td>\n",
       "      <td>3</td>\n",
       "      <td>65</td>\n",
       "      <td>67</td>\n",
       "      <td>32.5</td>\n",
       "      <td>6.3e-08</td>\n",
       "      <td>1</td>\n",
       "      <td>CL0025</td>\n",
       "      <td>Bacteria Proteobacteria</td>\n",
       "    </tr>\n",
       "    <tr>\n",
       "      <th>6094</th>\n",
       "      <td>A9VYT5</td>\n",
       "      <td>279</td>\n",
       "      <td>387</td>\n",
       "      <td>273</td>\n",
       "      <td>389</td>\n",
       "      <td>PF02518.26</td>\n",
       "      <td>HATPase_c</td>\n",
       "      <td>Domain</td>\n",
       "      <td>7</td>\n",
       "      <td>110</td>\n",
       "      <td>112</td>\n",
       "      <td>62.6</td>\n",
       "      <td>4.5e-17</td>\n",
       "      <td>1</td>\n",
       "      <td>CL0025</td>\n",
       "      <td>Bacteria Proteobacteria</td>\n",
       "    </tr>\n",
       "    <tr>\n",
       "      <th>6095</th>\n",
       "      <td>A9VYT5</td>\n",
       "      <td>412</td>\n",
       "      <td>523</td>\n",
       "      <td>412</td>\n",
       "      <td>524</td>\n",
       "      <td>PF00072.24</td>\n",
       "      <td>Response_reg</td>\n",
       "      <td>Domain</td>\n",
       "      <td>1</td>\n",
       "      <td>111</td>\n",
       "      <td>112</td>\n",
       "      <td>70.1</td>\n",
       "      <td>1.6e-19</td>\n",
       "      <td>1</td>\n",
       "      <td>CL0304</td>\n",
       "      <td>Bacteria Proteobacteria</td>\n",
       "    </tr>\n",
       "    <tr>\n",
       "      <th>6096</th>\n",
       "      <td>K9HAG1</td>\n",
       "      <td>266</td>\n",
       "      <td>373</td>\n",
       "      <td>257</td>\n",
       "      <td>374</td>\n",
       "      <td>PF13426.7</td>\n",
       "      <td>PAS_9</td>\n",
       "      <td>Domain</td>\n",
       "      <td>5</td>\n",
       "      <td>103</td>\n",
       "      <td>104</td>\n",
       "      <td>66.9</td>\n",
       "      <td>1.6e-18</td>\n",
       "      <td>1</td>\n",
       "      <td>CL0183</td>\n",
       "      <td>Eukaryota Fungi</td>\n",
       "    </tr>\n",
       "    <tr>\n",
       "      <th>6097</th>\n",
       "      <td>K9HAG1</td>\n",
       "      <td>464</td>\n",
       "      <td>542</td>\n",
       "      <td>463</td>\n",
       "      <td>547</td>\n",
       "      <td>PF08447.12</td>\n",
       "      <td>PAS_3</td>\n",
       "      <td>Domain</td>\n",
       "      <td>2</td>\n",
       "      <td>83</td>\n",
       "      <td>89</td>\n",
       "      <td>45.6</td>\n",
       "      <td>6.4e-12</td>\n",
       "      <td>1</td>\n",
       "      <td>CL0183</td>\n",
       "      <td>Eukaryota Fungi</td>\n",
       "    </tr>\n",
       "    <tr>\n",
       "      <th>6098</th>\n",
       "      <td>K9HAG1</td>\n",
       "      <td>819</td>\n",
       "      <td>851</td>\n",
       "      <td>819</td>\n",
       "      <td>853</td>\n",
       "      <td>PF00320.27</td>\n",
       "      <td>GATA</td>\n",
       "      <td>Domain</td>\n",
       "      <td>1</td>\n",
       "      <td>33</td>\n",
       "      <td>36</td>\n",
       "      <td>51.2</td>\n",
       "      <td>6.5e-14</td>\n",
       "      <td>1</td>\n",
       "      <td>CL0167</td>\n",
       "      <td>Eukaryota Fungi</td>\n",
       "    </tr>\n",
       "    <tr>\n",
       "      <th>6099</th>\n",
       "      <td>W9R1L4</td>\n",
       "      <td>40</td>\n",
       "      <td>131</td>\n",
       "      <td>28</td>\n",
       "      <td>135</td>\n",
       "      <td>PF13426.7</td>\n",
       "      <td>PAS_9</td>\n",
       "      <td>Domain</td>\n",
       "      <td>10</td>\n",
       "      <td>100</td>\n",
       "      <td>104</td>\n",
       "      <td>58.6</td>\n",
       "      <td>6.2e-16</td>\n",
       "      <td>1</td>\n",
       "      <td>CL0183</td>\n",
       "      <td>Eukaryota Viridiplantae</td>\n",
       "    </tr>\n",
       "    <tr>\n",
       "      <th>6100</th>\n",
       "      <td>W9R1L4</td>\n",
       "      <td>257</td>\n",
       "      <td>354</td>\n",
       "      <td>254</td>\n",
       "      <td>356</td>\n",
       "      <td>PF13426.7</td>\n",
       "      <td>PAS_9</td>\n",
       "      <td>Domain</td>\n",
       "      <td>5</td>\n",
       "      <td>99</td>\n",
       "      <td>104</td>\n",
       "      <td>57.4</td>\n",
       "      <td>1.4e-15</td>\n",
       "      <td>1</td>\n",
       "      <td>CL0183</td>\n",
       "      <td>Eukaryota Viridiplantae</td>\n",
       "    </tr>\n",
       "    <tr>\n",
       "      <th>6101</th>\n",
       "      <td>K9YDF6</td>\n",
       "      <td>36</td>\n",
       "      <td>140</td>\n",
       "      <td>35</td>\n",
       "      <td>141</td>\n",
       "      <td>PF13426.7</td>\n",
       "      <td>PAS_9</td>\n",
       "      <td>Domain</td>\n",
       "      <td>2</td>\n",
       "      <td>103</td>\n",
       "      <td>104</td>\n",
       "      <td>75.4</td>\n",
       "      <td>3.6e-21</td>\n",
       "      <td>1</td>\n",
       "      <td>CL0183</td>\n",
       "      <td>Bacteria Cyanobacteria</td>\n",
       "    </tr>\n",
       "    <tr>\n",
       "      <th>6102</th>\n",
       "      <td>K9YDF6</td>\n",
       "      <td>155</td>\n",
       "      <td>265</td>\n",
       "      <td>154</td>\n",
       "      <td>266</td>\n",
       "      <td>PF00989.25</td>\n",
       "      <td>PAS</td>\n",
       "      <td>Domain</td>\n",
       "      <td>2</td>\n",
       "      <td>112</td>\n",
       "      <td>113</td>\n",
       "      <td>49.7</td>\n",
       "      <td>3.1e-13</td>\n",
       "      <td>1</td>\n",
       "      <td>CL0183</td>\n",
       "      <td>Bacteria Cyanobacteria</td>\n",
       "    </tr>\n",
       "    <tr>\n",
       "      <th>6103</th>\n",
       "      <td>K9YDF6</td>\n",
       "      <td>296</td>\n",
       "      <td>456</td>\n",
       "      <td>295</td>\n",
       "      <td>458</td>\n",
       "      <td>PF00990.21</td>\n",
       "      <td>GGDEF</td>\n",
       "      <td>Domain</td>\n",
       "      <td>2</td>\n",
       "      <td>159</td>\n",
       "      <td>161</td>\n",
       "      <td>119.5</td>\n",
       "      <td>1.1e-34</td>\n",
       "      <td>1</td>\n",
       "      <td>CL0276</td>\n",
       "      <td>Bacteria Cyanobacteria</td>\n",
       "    </tr>\n",
       "    <tr>\n",
       "      <th>6104</th>\n",
       "      <td>K9YDF6</td>\n",
       "      <td>479</td>\n",
       "      <td>715</td>\n",
       "      <td>477</td>\n",
       "      <td>715</td>\n",
       "      <td>PF00563.20</td>\n",
       "      <td>EAL</td>\n",
       "      <td>Domain</td>\n",
       "      <td>3</td>\n",
       "      <td>238</td>\n",
       "      <td>238</td>\n",
       "      <td>255.1</td>\n",
       "      <td>5.9e-76</td>\n",
       "      <td>1</td>\n",
       "      <td>CL0276</td>\n",
       "      <td>Bacteria Cyanobacteria</td>\n",
       "    </tr>\n",
       "    <tr>\n",
       "      <th>6105</th>\n",
       "      <td>A3C7S0</td>\n",
       "      <td>144</td>\n",
       "      <td>240</td>\n",
       "      <td>136</td>\n",
       "      <td>241</td>\n",
       "      <td>PF13426.7</td>\n",
       "      <td>PAS_9</td>\n",
       "      <td>Domain</td>\n",
       "      <td>7</td>\n",
       "      <td>103</td>\n",
       "      <td>104</td>\n",
       "      <td>69.4</td>\n",
       "      <td>2.6e-19</td>\n",
       "      <td>1</td>\n",
       "      <td>CL0183</td>\n",
       "      <td>Eukaryota Viridiplantae</td>\n",
       "    </tr>\n",
       "    <tr>\n",
       "      <th>6106</th>\n",
       "      <td>A3C7S0</td>\n",
       "      <td>423</td>\n",
       "      <td>518</td>\n",
       "      <td>413</td>\n",
       "      <td>518</td>\n",
       "      <td>PF13426.7</td>\n",
       "      <td>PAS_9</td>\n",
       "      <td>Domain</td>\n",
       "      <td>9</td>\n",
       "      <td>104</td>\n",
       "      <td>104</td>\n",
       "      <td>71.6</td>\n",
       "      <td>5.5e-20</td>\n",
       "      <td>1</td>\n",
       "      <td>CL0183</td>\n",
       "      <td>Eukaryota Viridiplantae</td>\n",
       "    </tr>\n",
       "    <tr>\n",
       "      <th>6107</th>\n",
       "      <td>A3C7S0</td>\n",
       "      <td>597</td>\n",
       "      <td>840</td>\n",
       "      <td>594</td>\n",
       "      <td>840</td>\n",
       "      <td>PF00069.25</td>\n",
       "      <td>Pkinase</td>\n",
       "      <td>Domain</td>\n",
       "      <td>4</td>\n",
       "      <td>264</td>\n",
       "      <td>264</td>\n",
       "      <td>181.6</td>\n",
       "      <td>1.8e-53</td>\n",
       "      <td>1</td>\n",
       "      <td>CL0016</td>\n",
       "      <td>Eukaryota Viridiplantae</td>\n",
       "    </tr>\n",
       "    <tr>\n",
       "      <th>6108</th>\n",
       "      <td>N9UPB3</td>\n",
       "      <td>22</td>\n",
       "      <td>110</td>\n",
       "      <td>12</td>\n",
       "      <td>115</td>\n",
       "      <td>PF13426.7</td>\n",
       "      <td>PAS_9</td>\n",
       "      <td>Domain</td>\n",
       "      <td>9</td>\n",
       "      <td>97</td>\n",
       "      <td>104</td>\n",
       "      <td>57.8</td>\n",
       "      <td>1.1e-15</td>\n",
       "      <td>1</td>\n",
       "      <td>CL0183</td>\n",
       "      <td>Bacteria Proteobacteria</td>\n",
       "    </tr>\n",
       "    <tr>\n",
       "      <th>6109</th>\n",
       "      <td>N9UPB3</td>\n",
       "      <td>135</td>\n",
       "      <td>190</td>\n",
       "      <td>134</td>\n",
       "      <td>190</td>\n",
       "      <td>PF00196.19</td>\n",
       "      <td>GerE</td>\n",
       "      <td>Domain</td>\n",
       "      <td>2</td>\n",
       "      <td>57</td>\n",
       "      <td>57</td>\n",
       "      <td>60.8</td>\n",
       "      <td>6.5e-17</td>\n",
       "      <td>1</td>\n",
       "      <td>CL0123</td>\n",
       "      <td>Bacteria Proteobacteria</td>\n",
       "    </tr>\n",
       "  </tbody>\n",
       "</table>\n",
       "<p>6110 rows × 16 columns</p>\n",
       "</div>"
      ],
      "text/plain": [
       "      seq id alignment start alignment end envelope start envelope end  \\\n",
       "0     M0TGC4             170           266            162          267   \n",
       "1     M0TGC4             452           544            443          547   \n",
       "2     M0TGC4             633           918            630          918   \n",
       "3     M0KWF6              10           115             10          121   \n",
       "4     M0KWF6             149           246            148          246   \n",
       "5     M0KWF6             267           371            265          371   \n",
       "6     M0KWF6             393           524            392          525   \n",
       "7     M0KWF6             547           606            546          607   \n",
       "8     M0KWF6             645           741            644          743   \n",
       "9     W8FYW6              26           131             25          131   \n",
       "10    X1JIM7              34           138             32          138   \n",
       "11    X1JIM7             177           246            177          247   \n",
       "12    V9V5A6              16           120             15          121   \n",
       "13    Q5V5P7              21           116             15          123   \n",
       "14    Q5V5P7             156           265            156          265   \n",
       "15    Q5V5P7             281           387            281          387   \n",
       "16    Q5V5P7             406           513            406          513   \n",
       "17    Q5V5P7             525           584            524          585   \n",
       "18    Q5V5P7             623           719            622          723   \n",
       "19    M2UPJ8              16           121             15          121   \n",
       "20    K9QT62              99           214             76          225   \n",
       "21    K9QT62             343           426            342          428   \n",
       "22    K9QT62             453           558            452          558   \n",
       "23    K9QT62             578           680            578          680   \n",
       "24    K9QT62             700           808            699          808   \n",
       "25    K9QT62             835           978            835          978   \n",
       "26    K9QT62            1014          1079           1014         1079   \n",
       "27    K9QT62            1126          1232           1126         1266   \n",
       "28    K9QT62            1290          1400           1289         1402   \n",
       "29    K9QT62            1434          1544           1434         1545   \n",
       "...      ...             ...           ...            ...          ...   \n",
       "6080  K9RZ52             753           867            753          870   \n",
       "6081  K9RZ52             889           993            889          996   \n",
       "6082  K9RZ52            1026          1138           1026         1139   \n",
       "6083  C7LI74              34           136             31          137   \n",
       "6084  C7LI74             184           259            183          266   \n",
       "6085  C7LI74             285           367            285          367   \n",
       "6086  H0SK82              48           142             38          143   \n",
       "6087  H0SK82             161           224            159          225   \n",
       "6088  H0SK82             269           389            267          390   \n",
       "6089  H0SK82             412           523            412          524   \n",
       "6090  W7N2J5               3           176              2          198   \n",
       "6091  W7N2J5             410           517            402          519   \n",
       "6092  A9VYT5              46           145             41          146   \n",
       "6093  A9VYT5             164           230            162          231   \n",
       "6094  A9VYT5             279           387            273          389   \n",
       "6095  A9VYT5             412           523            412          524   \n",
       "6096  K9HAG1             266           373            257          374   \n",
       "6097  K9HAG1             464           542            463          547   \n",
       "6098  K9HAG1             819           851            819          853   \n",
       "6099  W9R1L4              40           131             28          135   \n",
       "6100  W9R1L4             257           354            254          356   \n",
       "6101  K9YDF6              36           140             35          141   \n",
       "6102  K9YDF6             155           265            154          266   \n",
       "6103  K9YDF6             296           456            295          458   \n",
       "6104  K9YDF6             479           715            477          715   \n",
       "6105  A3C7S0             144           240            136          241   \n",
       "6106  A3C7S0             423           518            413          518   \n",
       "6107  A3C7S0             597           840            594          840   \n",
       "6108  N9UPB3              22           110             12          115   \n",
       "6109  N9UPB3             135           190            134          190   \n",
       "\n",
       "         hmm acc      hmm name    type hmm start hmm end hmm length bit score  \\\n",
       "0      PF13426.7         PAS_9  Domain         7     103        104      58.9   \n",
       "1      PF13426.7         PAS_9  Domain         9     101        104      73.1   \n",
       "2     PF00069.25       Pkinase  Domain         4     264        264     212.2   \n",
       "3     PF00072.24  Response_reg  Domain         1     105        112      70.0   \n",
       "4      PF13426.7         PAS_9  Domain         2     104        104      39.1   \n",
       "5      PF13426.7         PAS_9  Domain         3     104        104      81.6   \n",
       "6      PF13185.6         GAF_2  Domain         2     137        138      47.9   \n",
       "7     PF00512.25         HisKA  Domain         2      66         67      42.2   \n",
       "8     PF02518.26     HATPase_c  Domain         2     107        112      63.7   \n",
       "9      PF13426.7         PAS_9  Domain         2     104        104      78.6   \n",
       "10     PF13426.7         PAS_9  Domain         3     104        104      78.1   \n",
       "11    PF07568.12       HisKA_2  Domain         1      70         76      82.3   \n",
       "12     PF13426.7         PAS_9  Domain         2     103        104      79.5   \n",
       "13    PF00072.24  Response_reg  Domain         7     101        112      56.9   \n",
       "14    PF08448.10         PAS_4  Domain         1     110        110      36.5   \n",
       "15     PF13426.7         PAS_9  Domain         1     104        104      78.6   \n",
       "16    PF08448.10         PAS_4  Domain         1     110        110      47.1   \n",
       "17    PF00512.25         HisKA  Domain         2      66         67      54.9   \n",
       "18    PF02518.26     HATPase_c  Domain         2     107        112      64.4   \n",
       "19     PF13426.7         PAS_9  Domain         2     104        104      78.1   \n",
       "20    PF03924.13         CHASE  Domain        47     179        188      51.7   \n",
       "21    PF08447.12         PAS_3  Domain         2      87         89      47.1   \n",
       "22     PF13426.7         PAS_9  Domain         2     104        104      76.6   \n",
       "23     PF13426.7         PAS_9  Domain         2     104        104      58.0   \n",
       "24    PF08448.10         PAS_4  Domain         2     110        110      44.0   \n",
       "25    PF01590.26           GAF  Domain         1     133        133      52.4   \n",
       "26    PF00512.25         HisKA  Domain         1      67         67      68.2   \n",
       "27    PF02518.26     HATPase_c  Domain         1      98        112      88.7   \n",
       "28    PF00072.24  Response_reg  Domain         2     110        112      77.8   \n",
       "29    PF00072.24  Response_reg  Domain         1     111        112      91.0   \n",
       "...          ...           ...     ...       ...     ...        ...       ...   \n",
       "6080  PF02518.26     HATPase_c  Domain         1     109        112     106.4   \n",
       "6081  PF00072.24  Response_reg  Domain         1     109        112      52.5   \n",
       "6082  PF00072.24  Response_reg  Domain         1     111        112      91.0   \n",
       "6083   PF13426.7         PAS_9  Domain         4     103        104      75.1   \n",
       "6084  PF08447.12         PAS_3  Domain         2      79         89      53.5   \n",
       "6085  PF07536.14        HWE_HK  Domain         1      83         83      97.7   \n",
       "6086   PF13426.7         PAS_9  Domain         9     103        104      68.0   \n",
       "6087  PF00512.25         HisKA  Domain         3      65         67      40.0   \n",
       "6088  PF02518.26     HATPase_c  Domain         3     111        112      58.1   \n",
       "6089  PF00072.24  Response_reg  Domain         1     111        112      71.6   \n",
       "6090   PF17111.5   Helo_like_N  Family         2     171        209      85.3   \n",
       "6091   PF13426.7         PAS_9  Domain         6     102        104      58.4   \n",
       "6092   PF13426.7         PAS_9  Domain         6     103        104      68.9   \n",
       "6093  PF00512.25         HisKA  Domain         3      65         67      32.5   \n",
       "6094  PF02518.26     HATPase_c  Domain         7     110        112      62.6   \n",
       "6095  PF00072.24  Response_reg  Domain         1     111        112      70.1   \n",
       "6096   PF13426.7         PAS_9  Domain         5     103        104      66.9   \n",
       "6097  PF08447.12         PAS_3  Domain         2      83         89      45.6   \n",
       "6098  PF00320.27          GATA  Domain         1      33         36      51.2   \n",
       "6099   PF13426.7         PAS_9  Domain        10     100        104      58.6   \n",
       "6100   PF13426.7         PAS_9  Domain         5      99        104      57.4   \n",
       "6101   PF13426.7         PAS_9  Domain         2     103        104      75.4   \n",
       "6102  PF00989.25           PAS  Domain         2     112        113      49.7   \n",
       "6103  PF00990.21         GGDEF  Domain         2     159        161     119.5   \n",
       "6104  PF00563.20           EAL  Domain         3     238        238     255.1   \n",
       "6105   PF13426.7         PAS_9  Domain         7     103        104      69.4   \n",
       "6106   PF13426.7         PAS_9  Domain         9     104        104      71.6   \n",
       "6107  PF00069.25       Pkinase  Domain         4     264        264     181.6   \n",
       "6108   PF13426.7         PAS_9  Domain         9      97        104      57.8   \n",
       "6109  PF00196.19          GerE  Domain         2      57         57      60.8   \n",
       "\n",
       "      E-value significance    clan                             kingdom  \n",
       "0     4.9e-16            1  CL0183             Eukaryota Viridiplantae  \n",
       "1     1.9e-20            1  CL0183             Eukaryota Viridiplantae  \n",
       "2     8.3e-63            1  CL0016             Eukaryota Viridiplantae  \n",
       "3     1.8e-19            1  CL0304               Archaea Euryarchaeota  \n",
       "4       7e-10            1  CL0183               Archaea Euryarchaeota  \n",
       "5     4.2e-23            1  CL0183               Archaea Euryarchaeota  \n",
       "6     1.6e-12            1  CL0161               Archaea Euryarchaeota  \n",
       "7       6e-11            1  CL0025               Archaea Euryarchaeota  \n",
       "8       2e-17            1  CL0025               Archaea Euryarchaeota  \n",
       "9     3.5e-22            1  CL0183             Bacteria Proteobacteria  \n",
       "10      5e-22            1  CL0183  unclassified sequences metagenomes  \n",
       "11    1.9e-23            1  CL0025  unclassified sequences metagenomes  \n",
       "12    1.8e-22            1  CL0183             Bacteria Proteobacteria  \n",
       "13      2e-15            1  CL0304               Archaea Euryarchaeota  \n",
       "14    4.8e-09            1  CL0183               Archaea Euryarchaeota  \n",
       "15    3.7e-22            1  CL0183               Archaea Euryarchaeota  \n",
       "16    2.3e-12            1  CL0183               Archaea Euryarchaeota  \n",
       "17    6.4e-15            1  CL0025               Archaea Euryarchaeota  \n",
       "18    1.2e-17            1  CL0025               Archaea Euryarchaeota  \n",
       "19    5.2e-22            1  CL0183             Bacteria Proteobacteria  \n",
       "20      1e-13            1  CL0165              Bacteria Cyanobacteria  \n",
       "21    2.2e-12            1  CL0183              Bacteria Cyanobacteria  \n",
       "22    1.5e-21            1  CL0183              Bacteria Cyanobacteria  \n",
       "23    9.1e-16            1  CL0183              Bacteria Cyanobacteria  \n",
       "24    2.1e-11            1  CL0183              Bacteria Cyanobacteria  \n",
       "25    8.1e-14            1  CL0161              Bacteria Cyanobacteria  \n",
       "26    4.8e-19            1  CL0025              Bacteria Cyanobacteria  \n",
       "27    3.5e-25            1  CL0025              Bacteria Cyanobacteria  \n",
       "28    6.6e-22            1  CL0304              Bacteria Cyanobacteria  \n",
       "29    5.1e-26            1  CL0304              Bacteria Cyanobacteria  \n",
       "...       ...          ...     ...                                 ...  \n",
       "6080  1.1e-30            1  CL0025              Bacteria Cyanobacteria  \n",
       "6081  4.7e-14            1  CL0304              Bacteria Cyanobacteria  \n",
       "6082  5.3e-26            1  CL0304              Bacteria Cyanobacteria  \n",
       "6083  4.4e-21            1  CL0183             Bacteria Proteobacteria  \n",
       "6084  2.2e-14            1  CL0183             Bacteria Proteobacteria  \n",
       "6085  4.9e-28            1  CL0025             Bacteria Proteobacteria  \n",
       "6086  7.1e-19            1  CL0183             Bacteria Proteobacteria  \n",
       "6087    3e-10            1  CL0025             Bacteria Proteobacteria  \n",
       "6088  1.1e-15            1  CL0025             Bacteria Proteobacteria  \n",
       "6089  5.5e-20            1  CL0304             Bacteria Proteobacteria  \n",
       "6090  3.7e-24            1  CL0587                     Eukaryota Fungi  \n",
       "6091  6.7e-16            1  CL0183                     Eukaryota Fungi  \n",
       "6092  3.7e-19            1  CL0183             Bacteria Proteobacteria  \n",
       "6093  6.3e-08            1  CL0025             Bacteria Proteobacteria  \n",
       "6094  4.5e-17            1  CL0025             Bacteria Proteobacteria  \n",
       "6095  1.6e-19            1  CL0304             Bacteria Proteobacteria  \n",
       "6096  1.6e-18            1  CL0183                     Eukaryota Fungi  \n",
       "6097  6.4e-12            1  CL0183                     Eukaryota Fungi  \n",
       "6098  6.5e-14            1  CL0167                     Eukaryota Fungi  \n",
       "6099  6.2e-16            1  CL0183             Eukaryota Viridiplantae  \n",
       "6100  1.4e-15            1  CL0183             Eukaryota Viridiplantae  \n",
       "6101  3.6e-21            1  CL0183              Bacteria Cyanobacteria  \n",
       "6102  3.1e-13            1  CL0183              Bacteria Cyanobacteria  \n",
       "6103  1.1e-34            1  CL0276              Bacteria Cyanobacteria  \n",
       "6104  5.9e-76            1  CL0276              Bacteria Cyanobacteria  \n",
       "6105  2.6e-19            1  CL0183             Eukaryota Viridiplantae  \n",
       "6106  5.5e-20            1  CL0183             Eukaryota Viridiplantae  \n",
       "6107  1.8e-53            1  CL0016             Eukaryota Viridiplantae  \n",
       "6108  1.1e-15            1  CL0183             Bacteria Proteobacteria  \n",
       "6109  6.5e-17            1  CL0123             Bacteria Proteobacteria  \n",
       "\n",
       "[6110 rows x 16 columns]"
      ]
     },
     "execution_count": 14,
     "metadata": {},
     "output_type": "execute_result"
    }
   ],
   "source": [
    "data"
   ]
  },
  {
   "cell_type": "markdown",
   "metadata": {},
   "source": [
    "Загрузка df из csv файла"
   ]
  },
  {
   "cell_type": "code",
   "execution_count": 2,
   "metadata": {
    "collapsed": true
   },
   "outputs": [],
   "source": [
    "import pandas as pd"
   ]
  },
  {
   "cell_type": "code",
   "execution_count": 2,
   "metadata": {
    "collapsed": true
   },
   "outputs": [],
   "source": [
    "data = pd.read_csv('With_Cys/domains_3.csv')"
   ]
  },
  {
   "cell_type": "code",
   "execution_count": 12,
   "metadata": {},
   "outputs": [
    {
     "data": {
      "text/html": [
       "<div>\n",
       "<style scoped>\n",
       "    .dataframe tbody tr th:only-of-type {\n",
       "        vertical-align: middle;\n",
       "    }\n",
       "\n",
       "    .dataframe tbody tr th {\n",
       "        vertical-align: top;\n",
       "    }\n",
       "\n",
       "    .dataframe thead th {\n",
       "        text-align: right;\n",
       "    }\n",
       "</style>\n",
       "<table border=\"1\" class=\"dataframe\">\n",
       "  <thead>\n",
       "    <tr style=\"text-align: right;\">\n",
       "      <th></th>\n",
       "      <th>seq id</th>\n",
       "      <th>alignment start</th>\n",
       "      <th>alignment end</th>\n",
       "      <th>envelope start</th>\n",
       "      <th>envelope end</th>\n",
       "      <th>hmm acc</th>\n",
       "      <th>hmm name</th>\n",
       "      <th>type</th>\n",
       "      <th>hmm start</th>\n",
       "      <th>hmm end</th>\n",
       "      <th>hmm length</th>\n",
       "      <th>bit score</th>\n",
       "      <th>E-value</th>\n",
       "      <th>significance</th>\n",
       "      <th>clan</th>\n",
       "      <th>kingdom</th>\n",
       "    </tr>\n",
       "  </thead>\n",
       "  <tbody>\n",
       "    <tr>\n",
       "      <th>0</th>\n",
       "      <td>M0TGC4</td>\n",
       "      <td>170</td>\n",
       "      <td>266</td>\n",
       "      <td>162</td>\n",
       "      <td>267</td>\n",
       "      <td>PF13426.7</td>\n",
       "      <td>PAS_9</td>\n",
       "      <td>Domain</td>\n",
       "      <td>7</td>\n",
       "      <td>103</td>\n",
       "      <td>104</td>\n",
       "      <td>58.9</td>\n",
       "      <td>4.9e-16</td>\n",
       "      <td>1</td>\n",
       "      <td>CL0183</td>\n",
       "      <td>None</td>\n",
       "    </tr>\n",
       "    <tr>\n",
       "      <th>1</th>\n",
       "      <td>M0TGC4</td>\n",
       "      <td>452</td>\n",
       "      <td>544</td>\n",
       "      <td>443</td>\n",
       "      <td>547</td>\n",
       "      <td>PF13426.7</td>\n",
       "      <td>PAS_9</td>\n",
       "      <td>Domain</td>\n",
       "      <td>9</td>\n",
       "      <td>101</td>\n",
       "      <td>104</td>\n",
       "      <td>73.1</td>\n",
       "      <td>1.9e-20</td>\n",
       "      <td>1</td>\n",
       "      <td>CL0183</td>\n",
       "      <td>None</td>\n",
       "    </tr>\n",
       "    <tr>\n",
       "      <th>2</th>\n",
       "      <td>M0TGC4</td>\n",
       "      <td>633</td>\n",
       "      <td>918</td>\n",
       "      <td>630</td>\n",
       "      <td>918</td>\n",
       "      <td>PF00069.25</td>\n",
       "      <td>Pkinase</td>\n",
       "      <td>Domain</td>\n",
       "      <td>4</td>\n",
       "      <td>264</td>\n",
       "      <td>264</td>\n",
       "      <td>212.2</td>\n",
       "      <td>8.3e-63</td>\n",
       "      <td>1</td>\n",
       "      <td>CL0016</td>\n",
       "      <td>None</td>\n",
       "    </tr>\n",
       "    <tr>\n",
       "      <th>3</th>\n",
       "      <td>M0KWF6</td>\n",
       "      <td>10</td>\n",
       "      <td>115</td>\n",
       "      <td>10</td>\n",
       "      <td>121</td>\n",
       "      <td>PF00072.24</td>\n",
       "      <td>Response_reg</td>\n",
       "      <td>Domain</td>\n",
       "      <td>1</td>\n",
       "      <td>105</td>\n",
       "      <td>112</td>\n",
       "      <td>70.0</td>\n",
       "      <td>1.8e-19</td>\n",
       "      <td>1</td>\n",
       "      <td>CL0304</td>\n",
       "      <td>None</td>\n",
       "    </tr>\n",
       "    <tr>\n",
       "      <th>4</th>\n",
       "      <td>M0KWF6</td>\n",
       "      <td>149</td>\n",
       "      <td>246</td>\n",
       "      <td>148</td>\n",
       "      <td>246</td>\n",
       "      <td>PF13426.7</td>\n",
       "      <td>PAS_9</td>\n",
       "      <td>Domain</td>\n",
       "      <td>2</td>\n",
       "      <td>104</td>\n",
       "      <td>104</td>\n",
       "      <td>39.1</td>\n",
       "      <td>7e-10</td>\n",
       "      <td>1</td>\n",
       "      <td>CL0183</td>\n",
       "      <td>None</td>\n",
       "    </tr>\n",
       "  </tbody>\n",
       "</table>\n",
       "</div>"
      ],
      "text/plain": [
       "   seq id alignment start alignment end envelope start envelope end  \\\n",
       "0  M0TGC4             170           266            162          267   \n",
       "1  M0TGC4             452           544            443          547   \n",
       "2  M0TGC4             633           918            630          918   \n",
       "3  M0KWF6              10           115             10          121   \n",
       "4  M0KWF6             149           246            148          246   \n",
       "\n",
       "      hmm acc      hmm name    type hmm start hmm end hmm length bit score  \\\n",
       "0   PF13426.7         PAS_9  Domain         7     103        104      58.9   \n",
       "1   PF13426.7         PAS_9  Domain         9     101        104      73.1   \n",
       "2  PF00069.25       Pkinase  Domain         4     264        264     212.2   \n",
       "3  PF00072.24  Response_reg  Domain         1     105        112      70.0   \n",
       "4   PF13426.7         PAS_9  Domain         2     104        104      39.1   \n",
       "\n",
       "   E-value significance    clan kingdom  \n",
       "0  4.9e-16            1  CL0183    None  \n",
       "1  1.9e-20            1  CL0183    None  \n",
       "2  8.3e-63            1  CL0016    None  \n",
       "3  1.8e-19            1  CL0304    None  \n",
       "4    7e-10            1  CL0183    None  "
      ]
     },
     "execution_count": 12,
     "metadata": {},
     "output_type": "execute_result"
    }
   ],
   "source": [
    "#data.drop('Unnamed: 0', axis = 1, inplace = True)\n",
    "data.head()"
   ]
  },
  {
   "cell_type": "markdown",
   "metadata": {},
   "source": [
    "Для каждого наименования в final-ах, будем рассматривать расположение LOV (по наличию двух мотивов внутри) и ближайшие к нему эффекторы"
   ]
  },
  {
   "cell_type": "markdown",
   "metadata": {},
   "source": [
    "#### Без Cys"
   ]
  },
  {
   "cell_type": "code",
   "execution_count": 1,
   "metadata": {
    "collapsed": true
   },
   "outputs": [],
   "source": [
    "columns = []\n",
    "d = []\n",
    "with open('Without_Cys/pfam_1_cl.txt', 'r') as f:\n",
    "    for line in f:\n",
    "        if line.startswith('<'):\n",
    "            columns = line.split('> <')\n",
    "        else:\n",
    "            d.append(line.split())\n",
    "columns[0] = columns[0].strip('<')\n",
    "columns[-1] = columns[-1].strip('>\\n')"
   ]
  },
  {
   "cell_type": "code",
   "execution_count": 3,
   "metadata": {
    "collapsed": true
   },
   "outputs": [],
   "source": [
    "data = pd.DataFrame(d, columns=columns)"
   ]
  },
  {
   "cell_type": "code",
   "execution_count": 10,
   "metadata": {},
   "outputs": [
    {
     "data": {
      "text/html": [
       "<div>\n",
       "<style scoped>\n",
       "    .dataframe tbody tr th:only-of-type {\n",
       "        vertical-align: middle;\n",
       "    }\n",
       "\n",
       "    .dataframe tbody tr th {\n",
       "        vertical-align: top;\n",
       "    }\n",
       "\n",
       "    .dataframe thead th {\n",
       "        text-align: right;\n",
       "    }\n",
       "</style>\n",
       "<table border=\"1\" class=\"dataframe\">\n",
       "  <thead>\n",
       "    <tr style=\"text-align: right;\">\n",
       "      <th></th>\n",
       "      <th>seq id</th>\n",
       "      <th>alignment start</th>\n",
       "      <th>alignment end</th>\n",
       "      <th>envelope start</th>\n",
       "      <th>envelope end</th>\n",
       "      <th>hmm acc</th>\n",
       "      <th>hmm name</th>\n",
       "      <th>type</th>\n",
       "      <th>hmm start</th>\n",
       "      <th>hmm end</th>\n",
       "      <th>hmm length</th>\n",
       "      <th>bit score</th>\n",
       "      <th>E-value</th>\n",
       "      <th>significance</th>\n",
       "      <th>clan</th>\n",
       "      <th>kingdom</th>\n",
       "    </tr>\n",
       "  </thead>\n",
       "  <tbody>\n",
       "    <tr>\n",
       "      <th>0</th>\n",
       "      <td>A0A126WYI0</td>\n",
       "      <td>50</td>\n",
       "      <td>143</td>\n",
       "      <td>42</td>\n",
       "      <td>146</td>\n",
       "      <td>PF13426.7</td>\n",
       "      <td>PAS_9</td>\n",
       "      <td>Domain</td>\n",
       "      <td>9</td>\n",
       "      <td>101</td>\n",
       "      <td>104</td>\n",
       "      <td>69.2</td>\n",
       "      <td>3e-19</td>\n",
       "      <td>1</td>\n",
       "      <td>CL0183</td>\n",
       "      <td>None</td>\n",
       "    </tr>\n",
       "    <tr>\n",
       "      <th>1</th>\n",
       "      <td>A0A126WYI0</td>\n",
       "      <td>282</td>\n",
       "      <td>385</td>\n",
       "      <td>280</td>\n",
       "      <td>386</td>\n",
       "      <td>PF13426.7</td>\n",
       "      <td>PAS_9</td>\n",
       "      <td>Domain</td>\n",
       "      <td>3</td>\n",
       "      <td>103</td>\n",
       "      <td>104</td>\n",
       "      <td>76.4</td>\n",
       "      <td>1.8e-21</td>\n",
       "      <td>1</td>\n",
       "      <td>CL0183</td>\n",
       "      <td>None</td>\n",
       "    </tr>\n",
       "    <tr>\n",
       "      <th>2</th>\n",
       "      <td>A0A126X452</td>\n",
       "      <td>22</td>\n",
       "      <td>127</td>\n",
       "      <td>21</td>\n",
       "      <td>128</td>\n",
       "      <td>PF13426.7</td>\n",
       "      <td>PAS_9</td>\n",
       "      <td>Domain</td>\n",
       "      <td>2</td>\n",
       "      <td>103</td>\n",
       "      <td>104</td>\n",
       "      <td>55.4</td>\n",
       "      <td>6.1e-15</td>\n",
       "      <td>1</td>\n",
       "      <td>CL0183</td>\n",
       "      <td>None</td>\n",
       "    </tr>\n",
       "    <tr>\n",
       "      <th>3</th>\n",
       "      <td>A0A126X452</td>\n",
       "      <td>244</td>\n",
       "      <td>341</td>\n",
       "      <td>241</td>\n",
       "      <td>345</td>\n",
       "      <td>PF13426.7</td>\n",
       "      <td>PAS_9</td>\n",
       "      <td>Domain</td>\n",
       "      <td>4</td>\n",
       "      <td>98</td>\n",
       "      <td>104</td>\n",
       "      <td>62.6</td>\n",
       "      <td>3.3e-17</td>\n",
       "      <td>1</td>\n",
       "      <td>CL0183</td>\n",
       "      <td>None</td>\n",
       "    </tr>\n",
       "    <tr>\n",
       "      <th>4</th>\n",
       "      <td>A0A126WXX1</td>\n",
       "      <td>41</td>\n",
       "      <td>131</td>\n",
       "      <td>34</td>\n",
       "      <td>134</td>\n",
       "      <td>PF13426.7</td>\n",
       "      <td>PAS_9</td>\n",
       "      <td>Domain</td>\n",
       "      <td>11</td>\n",
       "      <td>100</td>\n",
       "      <td>104</td>\n",
       "      <td>61.2</td>\n",
       "      <td>9.5e-17</td>\n",
       "      <td>1</td>\n",
       "      <td>CL0183</td>\n",
       "      <td>None</td>\n",
       "    </tr>\n",
       "  </tbody>\n",
       "</table>\n",
       "</div>"
      ],
      "text/plain": [
       "       seq id alignment start alignment end envelope start envelope end  \\\n",
       "0  A0A126WYI0              50           143             42          146   \n",
       "1  A0A126WYI0             282           385            280          386   \n",
       "2  A0A126X452              22           127             21          128   \n",
       "3  A0A126X452             244           341            241          345   \n",
       "4  A0A126WXX1              41           131             34          134   \n",
       "\n",
       "     hmm acc hmm name    type hmm start hmm end hmm length bit score  E-value  \\\n",
       "0  PF13426.7    PAS_9  Domain         9     101        104      69.2    3e-19   \n",
       "1  PF13426.7    PAS_9  Domain         3     103        104      76.4  1.8e-21   \n",
       "2  PF13426.7    PAS_9  Domain         2     103        104      55.4  6.1e-15   \n",
       "3  PF13426.7    PAS_9  Domain         4      98        104      62.6  3.3e-17   \n",
       "4  PF13426.7    PAS_9  Domain        11     100        104      61.2  9.5e-17   \n",
       "\n",
       "  significance    clan kingdom  \n",
       "0            1  CL0183    None  \n",
       "1            1  CL0183    None  \n",
       "2            1  CL0183    None  \n",
       "3            1  CL0183    None  \n",
       "4            1  CL0183    None  "
      ]
     },
     "execution_count": 10,
     "metadata": {},
     "output_type": "execute_result"
    }
   ],
   "source": [
    "data.head()"
   ]
  },
  {
   "cell_type": "code",
   "execution_count": 12,
   "metadata": {},
   "outputs": [
    {
     "data": {
      "text/plain": [
       "(4778, 16)"
      ]
     },
     "execution_count": 12,
     "metadata": {},
     "output_type": "execute_result"
    }
   ],
   "source": [
    "data.shape"
   ]
  },
  {
   "cell_type": "code",
   "execution_count": 5,
   "metadata": {
    "collapsed": true
   },
   "outputs": [],
   "source": [
    "'''Доступ к Uniprot'''\n",
    "from Bio import ExPASy\n",
    "from Bio import SwissProt"
   ]
  },
  {
   "cell_type": "code",
   "execution_count": 6,
   "metadata": {
    "collapsed": true
   },
   "outputs": [],
   "source": [
    "data['kingdom'] = None"
   ]
  },
  {
   "cell_type": "code",
   "execution_count": 8,
   "metadata": {
    "collapsed": true
   },
   "outputs": [],
   "source": [
    "def kingdom(s):\n",
    "    handle = ExPASy.get_sprot_raw(s[0])\n",
    "    try:\n",
    "        record = SwissProt.read(handle)\n",
    "        return record.organism_classification[0] + ' ' + record.organism_classification[1]\n",
    "    except ValueError:\n",
    "        return None"
   ]
  },
  {
   "cell_type": "code",
   "execution_count": 9,
   "metadata": {
    "collapsed": true
   },
   "outputs": [],
   "source": [
    "from tqdm import trange"
   ]
  },
  {
   "cell_type": "code",
   "execution_count": null,
   "metadata": {
    "collapsed": true
   },
   "outputs": [],
   "source": []
  }
 ],
 "metadata": {
  "kernelspec": {
   "display_name": "Python 3",
   "language": "python",
   "name": "python3"
  },
  "language_info": {
   "codemirror_mode": {
    "name": "ipython",
    "version": 3
   },
   "file_extension": ".py",
   "mimetype": "text/x-python",
   "name": "python",
   "nbconvert_exporter": "python",
   "pygments_lexer": "ipython3",
   "version": "3.5.2"
  }
 },
 "nbformat": 4,
 "nbformat_minor": 2
}
