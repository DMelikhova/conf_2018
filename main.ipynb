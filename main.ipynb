{
 "cells": [
  {
   "cell_type": "markdown",
   "metadata": {},
   "source": [
    "### Прочитали fasta формат"
   ]
  },
  {
   "cell_type": "code",
   "execution_count": 1,
   "metadata": {
    "collapsed": true
   },
   "outputs": [],
   "source": [
    "from Bio.Blast import NCBIWWW\n",
    "from Bio import SeqIO\n",
    "record = SeqIO.read(\"sequence.fasta\", format=\"fasta\")\n"
   ]
  },
  {
   "cell_type": "code",
   "execution_count": 37,
   "metadata": {},
   "outputs": [
    {
     "data": {
      "text/plain": [
       "Seq('MASFQSFGIPGQLEVIKKALDHVRVGVVITDPALEDNPIVYVNQGFVQMTGYET...DIT', SingleLetterAlphabet())"
      ]
     },
     "execution_count": 37,
     "metadata": {},
     "output_type": "execute_result"
    }
   ],
   "source": [
    "record.seq[0:127]"
   ]
  },
  {
   "cell_type": "markdown",
   "metadata": {},
   "source": [
    "### Рассмотрим результат BLAST поиска"
   ]
  },
  {
   "cell_type": "code",
   "execution_count": 173,
   "metadata": {
    "collapsed": true
   },
   "outputs": [],
   "source": [
    "result_handle = open('W8ZR3WEN015-Alignment.xml')"
   ]
  },
  {
   "cell_type": "code",
   "execution_count": 174,
   "metadata": {
    "collapsed": true
   },
   "outputs": [],
   "source": [
    "from Bio.Blast import NCBIXML\n",
    "blast_records = NCBIXML.parse(result_handle)"
   ]
  },
  {
   "cell_type": "code",
   "execution_count": 175,
   "metadata": {
    "collapsed": true
   },
   "outputs": [],
   "source": [
    "good_almns = {}\n",
    "for blast_record in blast_records:\n",
    "    for alignment in blast_record.alignments:\n",
    "        for hsp in alignment.hsps:\n",
    "            titles = alignment.title.split('>')\n",
    "            for title in titles:\n",
    "                t = title.split('|')\n",
    "                ss =['517848989']\n",
    "                for s in ss:\n",
    "                    if t[1] == s:\n",
    "                        print(\"****Alignment****\")\n",
    "                        print(\"sequence:\", alignment.title)\n",
    "               \n"
   ]
  },
  {
   "cell_type": "markdown",
   "metadata": {},
   "source": [
    "Варианты, которые получлсь у меня и совпали со статьей 504822023, 505222758, "
   ]
  },
  {
   "cell_type": "code",
   "execution_count": 1,
   "metadata": {},
   "outputs": [],
   "source": [
    "good_almns"
   ]
  },
  {
   "cell_type": "code",
   "execution_count": 2,
   "metadata": {},
   "outputs": [
    {
     "data": {
      "text/plain": [
       "'for blast_record in blast_records:\\n    for alignment in blast_record.alignments:\\n        for hsp in alignment.hsps:\\n            print(\"****Alignment****\")\\n            print(\"sequence:\", alignment.title)\\n            print(hsp.query_start, hsp.query_end, sep = \\' \\')\\n            print(hsp.query[0:75] + \\'...\\')'"
      ]
     },
     "execution_count": 2,
     "metadata": {},
     "output_type": "execute_result"
    }
   ],
   "source": [
    "\"\"\"for blast_record in blast_records:\n",
    "    for alignment in blast_record.alignments:\n",
    "        for hsp in alignment.hsps:\n",
    "            print(\"****Alignment****\")\n",
    "            print(\"sequence:\", alignment.title)\n",
    "            print(hsp.query_start, hsp.query_end, sep = ' ')\n",
    "            print(hsp.query[0:75] + '...')\"\"\""
   ]
  },
  {
   "cell_type": "markdown",
   "metadata": {},
   "source": [
    "### Скачивание OneKP"
   ]
  },
  {
   "cell_type": "code",
   "execution_count": 4,
   "metadata": {
    "collapsed": true
   },
   "outputs": [],
   "source": [
    "from bs4 import BeautifulSoup   # Для обработки HTML\n",
    "import requests # для получения кода страницы"
   ]
  },
  {
   "cell_type": "markdown",
   "metadata": {},
   "source": [
    "Пропарсила страницу нашла нужные ссылки"
   ]
  },
  {
   "cell_type": "code",
   "execution_count": 5,
   "metadata": {
    "collapsed": true
   },
   "outputs": [],
   "source": [
    "data = requests.get('http://www.onekp.com/public_data.html')"
   ]
  },
  {
   "cell_type": "code",
   "execution_count": 9,
   "metadata": {
    "collapsed": true
   },
   "outputs": [],
   "source": [
    "soup = BeautifulSoup(data.text, 'html.parser')"
   ]
  },
  {
   "cell_type": "code",
   "execution_count": 1,
   "metadata": {
    "collapsed": true
   },
   "outputs": [],
   "source": [
    "print(soup.prettify())"
   ]
  },
  {
   "cell_type": "markdown",
   "metadata": {},
   "source": [
    "Получим все ссылки"
   ]
  },
  {
   "cell_type": "code",
   "execution_count": 28,
   "metadata": {
    "collapsed": true
   },
   "outputs": [],
   "source": [
    "s= []\n",
    "for string in soup.find_all('a'):\n",
    "    s.append(string.get('href'))"
   ]
  },
  {
   "cell_type": "markdown",
   "metadata": {},
   "source": [
    "Будем обращаться для скачивания по необходимым ссылкам"
   ]
  },
  {
   "cell_type": "code",
   "execution_count": 57,
   "metadata": {
    "collapsed": true
   },
   "outputs": [],
   "source": [
    "import urllib"
   ]
  },
  {
   "cell_type": "code",
   "execution_count": 55,
   "metadata": {
    "collapsed": true
   },
   "outputs": [],
   "source": [
    "res = [elem if elem.find(\"Trans-assembly\")!=-1 else None for elem in s]"
   ]
  },
  {
   "cell_type": "markdown",
   "metadata": {},
   "source": [
    "Попытка (удачная) скачать файл"
   ]
  },
  {
   "cell_type": "code",
   "execution_count": 59,
   "metadata": {},
   "outputs": [
    {
     "data": {
      "text/plain": [
       "('URDJ.bz2', <http.client.HTTPMessage at 0x7f476baf3e10>)"
      ]
     },
     "execution_count": 59,
     "metadata": {},
     "output_type": "execute_result"
    }
   ],
   "source": [
    "url = 'http://206.12.96.204/onekp/URDJ-SOAPdenovo-Trans-assembly.fa.bz2'\n",
    "urllib.request.urlretrieve(url, \"URDJ.bz2\")"
   ]
  },
  {
   "cell_type": "markdown",
   "metadata": {},
   "source": [
    "### Разделение файла с белками из Interpro"
   ]
  },
  {
   "cell_type": "code",
   "execution_count": 5,
   "metadata": {
    "collapsed": true
   },
   "outputs": [],
   "source": [
    "with open('proteins-matched_interpro.txt', 'r') as file:\n",
    "    n = 0\n",
    "    s_1, s_2, s_3, s_4 = [], [], [], []\n",
    "    for line in file:\n",
    "        if line.startswith('>'):\n",
    "            n += 1\n",
    "        if n <= 98328:\n",
    "            s_1.append(line)\n",
    "        elif 98328 < n <= 98328*2:\n",
    "            s_2.append(line)\n",
    "        elif 98328 * 2 < n <= 98328*3:\n",
    "            s_3.append(line)\n",
    "        else:\n",
    "            s_4.append(line)\n",
    "            \n",
    "            "
   ]
  },
  {
   "cell_type": "code",
   "execution_count": 23,
   "metadata": {
    "collapsed": true
   },
   "outputs": [],
   "source": [
    "with open('protein_1.txt','w') as file:\n",
    "    file.write(''.join(s_1))\n",
    "with open('protein_2.txt','w') as file:\n",
    "    file.write(''.join(s_2))\n",
    "with open('protein_3.txt','w') as file:\n",
    "    file.write(''.join(s_3))\n",
    "with open('protein_4.txt','w') as file:\n",
    "    file.write(''.join(s_4))"
   ]
  },
  {
   "cell_type": "markdown",
   "metadata": {},
   "source": [
    "### Парсинг файлов mast и meme "
   ]
  },
  {
   "cell_type": "code",
   "execution_count": 58,
   "metadata": {
    "collapsed": true
   },
   "outputs": [],
   "source": [
    "from bs4 import BeautifulSoup\n",
    "with open(\"Without_Cys/mast_interpro_3_cl.xml\",\"r\") as f:\n",
    "    contents = f.read()\n",
    "soup = BeautifulSoup(contents,'xml')\n",
    "#print(soup.prettify())"
   ]
  },
  {
   "cell_type": "code",
   "execution_count": 59,
   "metadata": {
    "collapsed": true
   },
   "outputs": [],
   "source": [
    "motifs = soup.motifs.findAll('motif')"
   ]
  },
  {
   "cell_type": "code",
   "execution_count": 60,
   "metadata": {
    "collapsed": true
   },
   "outputs": [],
   "source": [
    "length = [motif['length'] for motif in motifs]"
   ]
  },
  {
   "cell_type": "code",
   "execution_count": 61,
   "metadata": {},
   "outputs": [
    {
     "data": {
      "text/plain": [
       "['35', '31', '29']"
      ]
     },
     "execution_count": 61,
     "metadata": {},
     "output_type": "execute_result"
    }
   ],
   "source": [
    "length"
   ]
  },
  {
   "cell_type": "markdown",
   "metadata": {},
   "source": [
    "На 40 месте  в мотиве стоит **С** на который и нужно проверить "
   ]
  },
  {
   "cell_type": "code",
   "execution_count": 62,
   "metadata": {
    "collapsed": true
   },
   "outputs": [],
   "source": [
    "sequences = soup.sequences.findAll('sequence')"
   ]
  },
  {
   "cell_type": "code",
   "execution_count": 63,
   "metadata": {
    "collapsed": true
   },
   "outputs": [],
   "source": [
    "import re\n",
    "reg = re.compile('[^a-zA-Z ]')"
   ]
  },
  {
   "cell_type": "markdown",
   "metadata": {},
   "source": [
    "Нашли все имена таких сиквенсов и также запсали данные о них в формати xml"
   ]
  },
  {
   "cell_type": "code",
   "execution_count": 64,
   "metadata": {
    "collapsed": true
   },
   "outputs": [],
   "source": [
    "Cys_seq_names = set()\n",
    "Cys_seq = set()\n",
    "for seq in sequences:\n",
    "    for seg in seq.find_all('seg'):\n",
    "        if bool(seg.find(idx = '0')) == True:\n",
    "            if reg.sub('', seg.data.string)[int(seg.find(idx = '0')['pos']) - int(seg['start']) + 23] != 'C':\n",
    "                Cys_seq_names.add(seq['name'])\n",
    "                Cys_seq.add(seq)"
   ]
  },
  {
   "cell_type": "code",
   "execution_count": 65,
   "metadata": {
    "collapsed": true
   },
   "outputs": [],
   "source": [
    "with open('Without_Cys/Cysless_sequences_3.xml', 'w') as f:\n",
    "    for i in Cys_seq:\n",
    "        f.write(str(i) + '\\n')"
   ]
  },
  {
   "cell_type": "code",
   "execution_count": 66,
   "metadata": {},
   "outputs": [
    {
     "data": {
      "text/plain": [
       "839"
      ]
     },
     "execution_count": 66,
     "metadata": {},
     "output_type": "execute_result"
    }
   ],
   "source": [
    "len(Cys_seq_names)"
   ]
  },
  {
   "cell_type": "code",
   "execution_count": 35,
   "metadata": {
    "collapsed": true
   },
   "outputs": [],
   "source": [
    "n = 0\n",
    "for s in S_1:\n",
    "    if s.startswith('>'):\n",
    "        n += 1"
   ]
  },
  {
   "cell_type": "code",
   "execution_count": 36,
   "metadata": {},
   "outputs": [
    {
     "data": {
      "text/plain": [
       "98324"
      ]
     },
     "execution_count": 36,
     "metadata": {},
     "output_type": "execute_result"
    }
   ],
   "source": [
    "n"
   ]
  },
  {
   "cell_type": "code",
   "execution_count": null,
   "metadata": {
    "collapsed": true
   },
   "outputs": [],
   "source": []
  }
 ],
 "metadata": {
  "kernelspec": {
   "display_name": "Python 3",
   "language": "python",
   "name": "python3"
  },
  "language_info": {
   "codemirror_mode": {
    "name": "ipython",
    "version": 3
   },
   "file_extension": ".py",
   "mimetype": "text/x-python",
   "name": "python",
   "nbconvert_exporter": "python",
   "pygments_lexer": "ipython3",
   "version": "3.5.2"
  }
 },
 "nbformat": 4,
 "nbformat_minor": 2
}
