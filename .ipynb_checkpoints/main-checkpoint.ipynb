{
 "cells": [
  {
   "cell_type": "markdown",
   "metadata": {},
   "source": [
    "### Прочитали fasta формат"
   ]
  },
  {
   "cell_type": "code",
   "execution_count": 1,
   "metadata": {
    "collapsed": true
   },
   "outputs": [],
   "source": [
    "from Bio.Blast import NCBIWWW\n",
    "from Bio import SeqIO\n",
    "record = SeqIO.read(\"sequence.fasta\", format=\"fasta\")\n"
   ]
  },
  {
   "cell_type": "code",
   "execution_count": 37,
   "metadata": {},
   "outputs": [
    {
     "data": {
      "text/plain": [
       "Seq('MASFQSFGIPGQLEVIKKALDHVRVGVVITDPALEDNPIVYVNQGFVQMTGYET...DIT', SingleLetterAlphabet())"
      ]
     },
     "execution_count": 37,
     "metadata": {},
     "output_type": "execute_result"
    }
   ],
   "source": [
    "record.seq[0:127]"
   ]
  },
  {
   "cell_type": "markdown",
   "metadata": {},
   "source": [
    "### Рассмотрим результат BLAST поиска"
   ]
  },
  {
   "cell_type": "code",
   "execution_count": 173,
   "metadata": {
    "collapsed": true
   },
   "outputs": [],
   "source": [
    "result_handle = open('W8ZR3WEN015-Alignment.xml')"
   ]
  },
  {
   "cell_type": "code",
   "execution_count": 174,
   "metadata": {
    "collapsed": true
   },
   "outputs": [],
   "source": [
    "from Bio.Blast import NCBIXML\n",
    "blast_records = NCBIXML.parse(result_handle)"
   ]
  },
  {
   "cell_type": "code",
   "execution_count": 175,
   "metadata": {
    "collapsed": true
   },
   "outputs": [],
   "source": [
    "good_almns = {}\n",
    "for blast_record in blast_records:\n",
    "    for alignment in blast_record.alignments:\n",
    "        for hsp in alignment.hsps:\n",
    "            titles = alignment.title.split('>')\n",
    "            for title in titles:\n",
    "                t = title.split('|')\n",
    "                ss =['517848989']\n",
    "                for s in ss:\n",
    "                    if t[1] == s:\n",
    "                        print(\"****Alignment****\")\n",
    "                        print(\"sequence:\", alignment.title)\n",
    "               \n"
   ]
  },
  {
   "cell_type": "markdown",
   "metadata": {},
   "source": [
    "Варианты, которые получлсь у меня и совпали со статьей 504822023, 505222758, "
   ]
  },
  {
   "cell_type": "code",
   "execution_count": 1,
   "metadata": {
    "collapsed": true
   },
   "outputs": [],
   "source": [
    "good_almns"
   ]
  },
  {
   "cell_type": "code",
   "execution_count": 2,
   "metadata": {},
   "outputs": [
    {
     "data": {
      "text/plain": [
       "'for blast_record in blast_records:\\n    for alignment in blast_record.alignments:\\n        for hsp in alignment.hsps:\\n            print(\"****Alignment****\")\\n            print(\"sequence:\", alignment.title)\\n            print(hsp.query_start, hsp.query_end, sep = \\' \\')\\n            print(hsp.query[0:75] + \\'...\\')'"
      ]
     },
     "execution_count": 2,
     "metadata": {},
     "output_type": "execute_result"
    }
   ],
   "source": [
    "\"\"\"for blast_record in blast_records:\n",
    "    for alignment in blast_record.alignments:\n",
    "        for hsp in alignment.hsps:\n",
    "            print(\"****Alignment****\")\n",
    "            print(\"sequence:\", alignment.title)\n",
    "            print(hsp.query_start, hsp.query_end, sep = ' ')\n",
    "            print(hsp.query[0:75] + '...')\"\"\""
   ]
  },
  {
   "cell_type": "markdown",
   "metadata": {},
   "source": [
    "### Скачивание OneKP"
   ]
  },
  {
   "cell_type": "code",
   "execution_count": 4,
   "metadata": {
    "collapsed": true
   },
   "outputs": [],
   "source": [
    "from bs4 import BeautifulSoup   # Для обработки HTML\n",
    "import requests # для получения кода страницы"
   ]
  },
  {
   "cell_type": "markdown",
   "metadata": {},
   "source": [
    "Пропарсила страницу нашла нужные ссылки"
   ]
  },
  {
   "cell_type": "code",
   "execution_count": 5,
   "metadata": {
    "collapsed": true
   },
   "outputs": [],
   "source": [
    "data = requests.get('http://www.onekp.com/public_data.html')"
   ]
  },
  {
   "cell_type": "code",
   "execution_count": 9,
   "metadata": {
    "collapsed": true
   },
   "outputs": [],
   "source": [
    "soup = BeautifulSoup(data.text, 'html.parser')"
   ]
  },
  {
   "cell_type": "code",
   "execution_count": 1,
   "metadata": {
    "collapsed": true
   },
   "outputs": [],
   "source": [
    "print(soup.prettify())"
   ]
  },
  {
   "cell_type": "markdown",
   "metadata": {},
   "source": [
    "Получим все ссылки"
   ]
  },
  {
   "cell_type": "code",
   "execution_count": 28,
   "metadata": {
    "collapsed": true
   },
   "outputs": [],
   "source": [
    "s= []\n",
    "for string in soup.find_all('a'):\n",
    "    s.append(string.get('href'))"
   ]
  },
  {
   "cell_type": "markdown",
   "metadata": {},
   "source": [
    "Будем обращаться для скачивания по необходимым ссылкам"
   ]
  },
  {
   "cell_type": "code",
   "execution_count": 57,
   "metadata": {
    "collapsed": true
   },
   "outputs": [],
   "source": [
    "import urllib"
   ]
  },
  {
   "cell_type": "code",
   "execution_count": 55,
   "metadata": {
    "collapsed": true
   },
   "outputs": [],
   "source": [
    "res = [elem if elem.find(\"Trans-assembly\")!=-1 else None for elem in s]"
   ]
  },
  {
   "cell_type": "markdown",
   "metadata": {},
   "source": [
    "Попытка (удачная) скачать файл"
   ]
  },
  {
   "cell_type": "code",
   "execution_count": 59,
   "metadata": {},
   "outputs": [
    {
     "data": {
      "text/plain": [
       "('URDJ.bz2', <http.client.HTTPMessage at 0x7f476baf3e10>)"
      ]
     },
     "execution_count": 59,
     "metadata": {},
     "output_type": "execute_result"
    }
   ],
   "source": [
    "url = 'http://206.12.96.204/onekp/URDJ-SOAPdenovo-Trans-assembly.fa.bz2'\n",
    "urllib.request.urlretrieve(url, \"URDJ.bz2\")"
   ]
  },
  {
   "cell_type": "markdown",
   "metadata": {},
   "source": [
    "### Разделение файла с белками из Interpro"
   ]
  },
  {
   "cell_type": "code",
   "execution_count": 3,
   "metadata": {
    "collapsed": true
   },
   "outputs": [],
   "source": [
    "with open('proteins-matched_interpro.txt', 'r') as file:\n",
    "    n = 0\n",
    "    s_1, s_2, s_3, s_4 = [], [], [], []\n",
    "    for line in file:\n",
    "        if line.startswith('>'):\n",
    "            n += 1\n",
    "        if n <= 98328:\n",
    "            s_1.append(line)\n",
    "        elif 98328 < n <= 98328*2:\n",
    "            s_2.append(line)\n",
    "        elif 98328 * 2 < n <= 98328*3:\n",
    "            s_3.append(line)\n",
    "        else:\n",
    "            s_4.append(line)\n",
    "            \n",
    "            "
   ]
  },
  {
   "cell_type": "code",
   "execution_count": 4,
   "metadata": {
    "collapsed": true
   },
   "outputs": [],
   "source": [
    "with open('protein_1.txt','w') as file:\n",
    "    file.write(''.join(s_1))\n",
    "with open('protein_2.txt','w') as file:\n",
    "    file.write(''.join(s_2))\n",
    "with open('protein_3.txt','w') as file:\n",
    "    file.write(''.join(s_3))\n",
    "with open('protein_4.txt','w') as file:\n",
    "    file.write(''.join(s_4))"
   ]
  },
  {
   "cell_type": "markdown",
   "metadata": {},
   "source": [
    "### Парсинг файлов mast и meme "
   ]
  },
  {
   "cell_type": "code",
   "execution_count": 89,
   "metadata": {},
   "outputs": [],
   "source": [
    "from bs4 import BeautifulSoup\n",
    "with open(\"Without_Cys/mast_interpro_1_cl.xml\",\"r\") as f:\n",
    "    contents = f.read()\n",
    "soup = BeautifulSoup(contents,'xml')\n",
    "#print(soup.prettify())"
   ]
  },
  {
   "cell_type": "code",
   "execution_count": 90,
   "metadata": {},
   "outputs": [],
   "source": [
    "motifs = soup.motifs.findAll('motif')"
   ]
  },
  {
   "cell_type": "code",
   "execution_count": 91,
   "metadata": {},
   "outputs": [],
   "source": [
    "length = [motif['length'] for motif in motifs]"
   ]
  },
  {
   "cell_type": "code",
   "execution_count": 92,
   "metadata": {},
   "outputs": [
    {
     "data": {
      "text/plain": [
       "['35', '31', '29']"
      ]
     },
     "execution_count": 92,
     "metadata": {},
     "output_type": "execute_result"
    }
   ],
   "source": [
    "length"
   ]
  },
  {
   "cell_type": "markdown",
   "metadata": {},
   "source": [
    "На 40 месте  в мотиве стоит **С** на который и нужно проверить или для Cysless на 24 месте не должен стоять."
   ]
  },
  {
   "cell_type": "code",
   "execution_count": 93,
   "metadata": {},
   "outputs": [],
   "source": [
    "sequences = soup.sequences.findAll('sequence')"
   ]
  },
  {
   "cell_type": "code",
   "execution_count": 94,
   "metadata": {},
   "outputs": [],
   "source": [
    "import re\n",
    "reg = re.compile('[^a-zA-Z ]')"
   ]
  },
  {
   "cell_type": "markdown",
   "metadata": {},
   "source": [
    "Нашли все имена таких сиквенсов и также запсали данные о них в формати xml"
   ]
  },
  {
   "cell_type": "code",
   "execution_count": 95,
   "metadata": {},
   "outputs": [],
   "source": [
    "Cys_seq_names = set()\n",
    "Cys_seq = set()\n",
    "for seq in sequences:\n",
    "    for seg in seq.find_all('seg'):\n",
    "        if bool(seg.find(idx = '0')) == True:\n",
    "            if reg.sub('', seg.data.string)[int(seg.find(idx = '0')['pos']) - int(seg['start']) + 23] != 'C':\n",
    "                Cys_seq_names.add(seq['name'])\n",
    "                Cys_seq.add(seq)"
   ]
  },
  {
   "cell_type": "code",
   "execution_count": 59,
   "metadata": {
    "collapsed": true
   },
   "outputs": [],
   "source": [
    "with open('Without_Cys/Cysless_sequences_4.xml', 'w') as f:\n",
    "    for i in Cys_seq:\n",
    "        f.write(str(i) + '\\n')"
   ]
  },
  {
   "cell_type": "markdown",
   "metadata": {},
   "source": [
    "Все отсеившееся по нашему выбору сиквенсы запишем в отдельный файл"
   ]
  },
  {
   "cell_type": "code",
   "execution_count": 124,
   "metadata": {
    "collapsed": true
   },
   "outputs": [],
   "source": [
    "with open('protein_4.txt', 'r') as f:\n",
    "    fasta = {}\n",
    "    for line in map(lambda st: st.rstrip('\\n'), f):\n",
    "        if line.startswith('>'):\n",
    "            name = line\n",
    "        else:\n",
    "            fasta.setdefault(name, []).append(line)"
   ]
  },
  {
   "cell_type": "code",
   "execution_count": 125,
   "metadata": {
    "collapsed": true
   },
   "outputs": [],
   "source": [
    "new_file = []\n",
    "for name in Cys_seq_names:\n",
    "    new_file.append('>' + name + '\\n')\n",
    "    for s in fasta.get('>' + name):\n",
    "        new_file.append(s + '\\n')"
   ]
  },
  {
   "cell_type": "code",
   "execution_count": 126,
   "metadata": {
    "collapsed": true
   },
   "outputs": [],
   "source": [
    "with open('Cysless_proteins_4.fasta', 'w') as f:\n",
    "    f.write(''.join(new_file))"
   ]
  },
  {
   "cell_type": "markdown",
   "metadata": {
    "collapsed": true
   },
   "source": [
    "### Парсинг результатов pfam "
   ]
  },
  {
   "cell_type": "markdown",
   "metadata": {},
   "source": [
    "Сначала вручную удаляем информацию с *#* кроме последнего, с наименованием величин.  "
   ]
  },
  {
   "cell_type": "code",
   "execution_count": 8,
   "metadata": {},
   "outputs": [],
   "source": [
    "import pandas as pd"
   ]
  },
  {
   "cell_type": "code",
   "execution_count": 115,
   "metadata": {},
   "outputs": [],
   "source": [
    "columns = []\n",
    "d = []\n",
    "with open('Without_Cys/pfam_4_cl.txt', 'r') as f:\n",
    "    for line in f:\n",
    "        if line.startswith('<'):\n",
    "            columns = line.split('> <')\n",
    "        else:\n",
    "            d.append(line.split())\n",
    "columns[0] = columns[0].strip('<')\n",
    "columns[-1] = columns[-1].strip('>\\n')"
   ]
  },
  {
   "cell_type": "code",
   "execution_count": 116,
   "metadata": {},
   "outputs": [],
   "source": [
    "data = pd.DataFrame(d, columns=columns)"
   ]
  },
  {
   "cell_type": "code",
   "execution_count": 117,
   "metadata": {},
   "outputs": [
    {
     "data": {
      "text/html": [
       "<div>\n",
       "<style scoped>\n",
       "    .dataframe tbody tr th:only-of-type {\n",
       "        vertical-align: middle;\n",
       "    }\n",
       "\n",
       "    .dataframe tbody tr th {\n",
       "        vertical-align: top;\n",
       "    }\n",
       "\n",
       "    .dataframe thead th {\n",
       "        text-align: right;\n",
       "    }\n",
       "</style>\n",
       "<table border=\"1\" class=\"dataframe\">\n",
       "  <thead>\n",
       "    <tr style=\"text-align: right;\">\n",
       "      <th></th>\n",
       "      <th>seq id</th>\n",
       "      <th>alignment start</th>\n",
       "      <th>alignment end</th>\n",
       "      <th>envelope start</th>\n",
       "      <th>envelope end</th>\n",
       "      <th>hmm acc</th>\n",
       "      <th>hmm name</th>\n",
       "      <th>type</th>\n",
       "      <th>hmm start</th>\n",
       "      <th>hmm end</th>\n",
       "      <th>hmm length</th>\n",
       "      <th>bit score</th>\n",
       "      <th>E-value</th>\n",
       "      <th>significance</th>\n",
       "      <th>clan</th>\n",
       "    </tr>\n",
       "  </thead>\n",
       "  <tbody>\n",
       "    <tr>\n",
       "      <th>0</th>\n",
       "      <td>M1FCN8</td>\n",
       "      <td>32</td>\n",
       "      <td>128</td>\n",
       "      <td>22</td>\n",
       "      <td>129</td>\n",
       "      <td>PF13426.7</td>\n",
       "      <td>PAS_9</td>\n",
       "      <td>Domain</td>\n",
       "      <td>11</td>\n",
       "      <td>103</td>\n",
       "      <td>104</td>\n",
       "      <td>76.6</td>\n",
       "      <td>1.5e-21</td>\n",
       "      <td>1</td>\n",
       "      <td>CL0183</td>\n",
       "    </tr>\n",
       "    <tr>\n",
       "      <th>1</th>\n",
       "      <td>M1FCN8</td>\n",
       "      <td>148</td>\n",
       "      <td>251</td>\n",
       "      <td>148</td>\n",
       "      <td>251</td>\n",
       "      <td>PF13426.7</td>\n",
       "      <td>PAS_9</td>\n",
       "      <td>Domain</td>\n",
       "      <td>1</td>\n",
       "      <td>104</td>\n",
       "      <td>104</td>\n",
       "      <td>64.4</td>\n",
       "      <td>9.1e-18</td>\n",
       "      <td>1</td>\n",
       "      <td>CL0183</td>\n",
       "    </tr>\n",
       "    <tr>\n",
       "      <th>2</th>\n",
       "      <td>M1FCN8</td>\n",
       "      <td>265</td>\n",
       "      <td>416</td>\n",
       "      <td>263</td>\n",
       "      <td>416</td>\n",
       "      <td>PF00990.21</td>\n",
       "      <td>GGDEF</td>\n",
       "      <td>Domain</td>\n",
       "      <td>3</td>\n",
       "      <td>161</td>\n",
       "      <td>161</td>\n",
       "      <td>125.5</td>\n",
       "      <td>1.5e-36</td>\n",
       "      <td>1</td>\n",
       "      <td>CL0276</td>\n",
       "    </tr>\n",
       "    <tr>\n",
       "      <th>3</th>\n",
       "      <td>V4Y023</td>\n",
       "      <td>135</td>\n",
       "      <td>236</td>\n",
       "      <td>134</td>\n",
       "      <td>236</td>\n",
       "      <td>PF13426.7</td>\n",
       "      <td>PAS_9</td>\n",
       "      <td>Domain</td>\n",
       "      <td>2</td>\n",
       "      <td>104</td>\n",
       "      <td>104</td>\n",
       "      <td>42.9</td>\n",
       "      <td>4.7e-11</td>\n",
       "      <td>1</td>\n",
       "      <td>CL0183</td>\n",
       "    </tr>\n",
       "    <tr>\n",
       "      <th>4</th>\n",
       "      <td>V4Y023</td>\n",
       "      <td>257</td>\n",
       "      <td>361</td>\n",
       "      <td>255</td>\n",
       "      <td>361</td>\n",
       "      <td>PF13426.7</td>\n",
       "      <td>PAS_9</td>\n",
       "      <td>Domain</td>\n",
       "      <td>3</td>\n",
       "      <td>104</td>\n",
       "      <td>104</td>\n",
       "      <td>76.0</td>\n",
       "      <td>2.3e-21</td>\n",
       "      <td>1</td>\n",
       "      <td>CL0183</td>\n",
       "    </tr>\n",
       "  </tbody>\n",
       "</table>\n",
       "</div>"
      ],
      "text/plain": [
       "   seq id alignment start alignment end envelope start envelope end  \\\n",
       "0  M1FCN8              32           128             22          129   \n",
       "1  M1FCN8             148           251            148          251   \n",
       "2  M1FCN8             265           416            263          416   \n",
       "3  V4Y023             135           236            134          236   \n",
       "4  V4Y023             257           361            255          361   \n",
       "\n",
       "      hmm acc hmm name    type hmm start hmm end hmm length bit score  \\\n",
       "0   PF13426.7    PAS_9  Domain        11     103        104      76.6   \n",
       "1   PF13426.7    PAS_9  Domain         1     104        104      64.4   \n",
       "2  PF00990.21    GGDEF  Domain         3     161        161     125.5   \n",
       "3   PF13426.7    PAS_9  Domain         2     104        104      42.9   \n",
       "4   PF13426.7    PAS_9  Domain         3     104        104      76.0   \n",
       "\n",
       "   E-value significance    clan  \n",
       "0  1.5e-21            1  CL0183  \n",
       "1  9.1e-18            1  CL0183  \n",
       "2  1.5e-36            1  CL0276  \n",
       "3  4.7e-11            1  CL0183  \n",
       "4  2.3e-21            1  CL0183  "
      ]
     },
     "execution_count": 117,
     "metadata": {},
     "output_type": "execute_result"
    }
   ],
   "source": [
    "data.head()"
   ]
  },
  {
   "cell_type": "markdown",
   "metadata": {
    "collapsed": true
   },
   "source": [
    "### Идентификация LOV доменов"
   ]
  },
  {
   "cell_type": "markdown",
   "metadata": {},
   "source": [
    "#### 1. Отбор по цистеину в первом мотиве"
   ]
  },
  {
   "cell_type": "markdown",
   "metadata": {},
   "source": [
    "##### а) С цистеином"
   ]
  },
  {
   "cell_type": "markdown",
   "metadata": {},
   "source": [
    "См. **Парсинг mast и meme**"
   ]
  },
  {
   "cell_type": "markdown",
   "metadata": {},
   "source": [
    "##### б) Без цистеина"
   ]
  },
  {
   "cell_type": "markdown",
   "metadata": {},
   "source": [
    "--//--"
   ]
  },
  {
   "cell_type": "markdown",
   "metadata": {},
   "source": [
    "#### Отбор по P-value для каждого мотива и по нахождению в PAS fold"
   ]
  },
  {
   "cell_type": "markdown",
   "metadata": {},
   "source": [
    "#### а) С Cys"
   ]
  },
  {
   "cell_type": "code",
   "execution_count": 175,
   "metadata": {
    "collapsed": true
   },
   "outputs": [],
   "source": [
    "from bs4 import BeautifulSoup\n",
    "with open(\"With_Cys/Cys_sequences_4.xml\",\"r\") as f:\n",
    "    contents = f.read()\n",
    "soup = BeautifulSoup(contents,'xml')"
   ]
  },
  {
   "cell_type": "code",
   "execution_count": 176,
   "metadata": {},
   "outputs": [],
   "source": [
    "sequences = soup.sequences.findAll('sequence')"
   ]
  },
  {
   "cell_type": "markdown",
   "metadata": {},
   "source": [
    "Проверим, что хотя бы какой-то сегмент имеет мотивы с нужным нам P-value и находятся в PAS fold"
   ]
  },
  {
   "cell_type": "code",
   "execution_count": 177,
   "metadata": {},
   "outputs": [],
   "source": [
    "seqs = {}\n",
    "for seq in sequences:\n",
    "    for seg in seq.find_all('seg'):\n",
    "        if bool(seg.find(idx = '0')) == True and bool(seg.find(idx = '1')) == True:\n",
    "            hits = seg.find_all('hit')\n",
    "            if float(hits[0]['pvalue']) <= 1e-15 and float(hits[1]['pvalue']) <= 1e-15:\n",
    "                seqs.setdefault(seq['name'], []).append([int(hits[0]['pos']), int(hits[1]['pos'])])"
   ]
  },
  {
   "cell_type": "code",
   "execution_count": 82,
   "metadata": {},
   "outputs": [
    {
     "data": {
      "text/html": [
       "<div>\n",
       "<style scoped>\n",
       "    .dataframe tbody tr th:only-of-type {\n",
       "        vertical-align: middle;\n",
       "    }\n",
       "\n",
       "    .dataframe tbody tr th {\n",
       "        vertical-align: top;\n",
       "    }\n",
       "\n",
       "    .dataframe thead th {\n",
       "        text-align: right;\n",
       "    }\n",
       "</style>\n",
       "<table border=\"1\" class=\"dataframe\">\n",
       "  <thead>\n",
       "    <tr style=\"text-align: right;\">\n",
       "      <th></th>\n",
       "      <th>seq id</th>\n",
       "      <th>alignment start</th>\n",
       "      <th>alignment end</th>\n",
       "      <th>envelope start</th>\n",
       "      <th>envelope end</th>\n",
       "      <th>hmm acc</th>\n",
       "      <th>hmm name</th>\n",
       "      <th>type</th>\n",
       "      <th>hmm start</th>\n",
       "      <th>hmm end</th>\n",
       "      <th>hmm length</th>\n",
       "      <th>bit score</th>\n",
       "      <th>E-value</th>\n",
       "      <th>significance</th>\n",
       "      <th>clan</th>\n",
       "    </tr>\n",
       "  </thead>\n",
       "  <tbody>\n",
       "    <tr>\n",
       "      <th>17843</th>\n",
       "      <td>A0A126WYA8</td>\n",
       "      <td>138</td>\n",
       "      <td>233</td>\n",
       "      <td>130</td>\n",
       "      <td>234</td>\n",
       "      <td>PF13426.7</td>\n",
       "      <td>PAS_9</td>\n",
       "      <td>Domain</td>\n",
       "      <td>8</td>\n",
       "      <td>103</td>\n",
       "      <td>104</td>\n",
       "      <td>59.4</td>\n",
       "      <td>3.3e-16</td>\n",
       "      <td>1</td>\n",
       "      <td>CL0183</td>\n",
       "    </tr>\n",
       "    <tr>\n",
       "      <th>17844</th>\n",
       "      <td>A0A126WYA8</td>\n",
       "      <td>419</td>\n",
       "      <td>511</td>\n",
       "      <td>410</td>\n",
       "      <td>514</td>\n",
       "      <td>PF13426.7</td>\n",
       "      <td>PAS_9</td>\n",
       "      <td>Domain</td>\n",
       "      <td>9</td>\n",
       "      <td>101</td>\n",
       "      <td>104</td>\n",
       "      <td>71.4</td>\n",
       "      <td>6e-20</td>\n",
       "      <td>1</td>\n",
       "      <td>CL0183</td>\n",
       "    </tr>\n",
       "  </tbody>\n",
       "</table>\n",
       "</div>"
      ],
      "text/plain": [
       "           seq id alignment start alignment end envelope start envelope end  \\\n",
       "17843  A0A126WYA8             138           233            130          234   \n",
       "17844  A0A126WYA8             419           511            410          514   \n",
       "\n",
       "         hmm acc hmm name    type hmm start hmm end hmm length bit score  \\\n",
       "17843  PF13426.7    PAS_9  Domain         8     103        104      59.4   \n",
       "17844  PF13426.7    PAS_9  Domain         9     101        104      71.4   \n",
       "\n",
       "       E-value significance    clan  \n",
       "17843  3.3e-16            1  CL0183  \n",
       "17844    6e-20            1  CL0183  "
      ]
     },
     "execution_count": 82,
     "metadata": {},
     "output_type": "execute_result"
    }
   ],
   "source": [
    "seq_data = data.loc[data['seq id'] == 'A0A126WYA8']\n",
    "df = seq_data.loc[seq_data['clan'] == 'CL0183']\n",
    "df"
   ]
  },
  {
   "cell_type": "code",
   "execution_count": 178,
   "metadata": {},
   "outputs": [],
   "source": [
    "new_names = []\n",
    "wrong = []\n",
    "for k in seqs.keys():\n",
    "    seq_data = data.loc[data['seq id'] == k]\n",
    "    df = seq_data.loc[seq_data['clan'] == 'CL0183']\n",
    "    b = False\n",
    "    for hit in seqs[k]:\n",
    "        for i in range(df.shape[0]):\n",
    "            if int(df.iloc[i, 3]) - hit[0] <=5 and hit[1] + 43 - int(df.iloc[i, 4]) <= 1:\n",
    "                b = True\n",
    "    if not b:\n",
    "        data.drop(data[data['seq id'] == k].index, inplace=True)\n",
    "        wrong.append(k)\n",
    "    else:\n",
    "        new_names.append(k)    "
   ]
  },
  {
   "cell_type": "code",
   "execution_count": 181,
   "metadata": {
    "collapsed": true
   },
   "outputs": [],
   "source": [
    "with open('protein_4.txt', 'r') as f:\n",
    "    fasta = {}\n",
    "    for line in map(lambda st: st.rstrip('\\n'), f):\n",
    "        if line.startswith('>'):\n",
    "            name = line\n",
    "        else:\n",
    "            fasta.setdefault(name, []).append(line)"
   ]
  },
  {
   "cell_type": "code",
   "execution_count": 182,
   "metadata": {},
   "outputs": [],
   "source": [
    "new_file = []\n",
    "for name in new_names:\n",
    "    new_file.append('>' + name + '\\n')\n",
    "    for s in fasta.get('>' + name):\n",
    "        new_file.append(s + '\\n')"
   ]
  },
  {
   "cell_type": "code",
   "execution_count": 183,
   "metadata": {
    "collapsed": true
   },
   "outputs": [],
   "source": [
    "with open('With_Cys/final_proteins_4.fasta', 'w') as f:\n",
    "    f.write(''.join(new_file))"
   ]
  },
  {
   "cell_type": "markdown",
   "metadata": {
    "collapsed": true
   },
   "source": [
    "#### б) без Cys"
   ]
  },
  {
   "cell_type": "code",
   "execution_count": 125,
   "metadata": {},
   "outputs": [],
   "source": [
    "from bs4 import BeautifulSoup\n",
    "with open(\"Without_Cys/Cysless_sequences_4.xml\",\"r\") as f:\n",
    "    contents = f.read()\n",
    "soup = BeautifulSoup(contents,'xml')"
   ]
  },
  {
   "cell_type": "code",
   "execution_count": 126,
   "metadata": {},
   "outputs": [],
   "source": [
    "sequences = soup.sequences.find_all('sequence')"
   ]
  },
  {
   "cell_type": "code",
   "execution_count": 127,
   "metadata": {},
   "outputs": [],
   "source": [
    "seqs = {}\n",
    "for seq in sequences:\n",
    "    for seg in seq.find_all('seg'):\n",
    "        if (bool(seg.find(idx = '0')) == True and bool(seg.find(idx = '1')) == True and bool(seg.find(idx = '2')) == True):\n",
    "            hits = seg.find_all('hit')\n",
    "            if (float(hits[0]['pvalue']) <= 1e-15 and float(hits[1]['pvalue']) <= 1e-15 and float(hits[2]['pvalue']) <= 1e-15):\n",
    "                seqs.setdefault(seq['name'], []).append([int(hits[0]['pos']), int(hits[1]['pos']), \n",
    "                                                         int(hits[2]['pos'])])\n"
   ]
  },
  {
   "cell_type": "code",
   "execution_count": 128,
   "metadata": {},
   "outputs": [],
   "source": [
    "new_names = []\n",
    "wrong = []\n",
    "for k in seqs.keys():\n",
    "    seq_data = data.loc[data['seq id'] == k]\n",
    "    df = seq_data.loc[seq_data['clan'] == 'CL0183']\n",
    "    b = False\n",
    "    for hit in seqs[k]:\n",
    "        for i in range(df.shape[0]):\n",
    "            if int(df.iloc[i, 3]) - hit[0] <= 2 and hit[2] + 28 - int(df.iloc[i, 4]) <= 10:\n",
    "                b = True\n",
    "    if not b:\n",
    "        data.drop(data[data['seq id'] == k].index, inplace=True)\n",
    "        wrong.append(k)\n",
    "    else:\n",
    "        new_names.append(k)    "
   ]
  },
  {
   "cell_type": "code",
   "execution_count": 129,
   "metadata": {},
   "outputs": [
    {
     "data": {
      "text/plain": [
       "839"
      ]
     },
     "execution_count": 129,
     "metadata": {},
     "output_type": "execute_result"
    }
   ],
   "source": [
    "len(Cys_seq_names)"
   ]
  },
  {
   "cell_type": "code",
   "execution_count": 130,
   "metadata": {},
   "outputs": [
    {
     "data": {
      "text/plain": [
       "146"
      ]
     },
     "execution_count": 130,
     "metadata": {},
     "output_type": "execute_result"
    }
   ],
   "source": [
    "len(seqs)"
   ]
  },
  {
   "cell_type": "code",
   "execution_count": 131,
   "metadata": {},
   "outputs": [
    {
     "data": {
      "text/plain": [
       "146"
      ]
     },
     "execution_count": 131,
     "metadata": {},
     "output_type": "execute_result"
    }
   ],
   "source": [
    "len(new_names)"
   ]
  },
  {
   "cell_type": "code",
   "execution_count": 132,
   "metadata": {},
   "outputs": [],
   "source": [
    "with open('protein_4.txt', 'r') as f:\n",
    "    fasta = {}\n",
    "    for line in map(lambda st: st.rstrip('\\n'), f):\n",
    "        if line.startswith('>'):\n",
    "            name = line\n",
    "        else:\n",
    "            fasta.setdefault(name, []).append(line)"
   ]
  },
  {
   "cell_type": "code",
   "execution_count": 133,
   "metadata": {},
   "outputs": [],
   "source": [
    "new_file = []\n",
    "for name in new_names:\n",
    "    new_file.append('>' + name + '\\n')\n",
    "    for s in fasta.get('>' + name):\n",
    "        new_file.append(s + '\\n')"
   ]
  },
  {
   "cell_type": "code",
   "execution_count": 134,
   "metadata": {},
   "outputs": [],
   "source": [
    "with open('Without_Cys/final_proteins_4_cl.fasta', 'w') as f:\n",
    "    f.write(''.join(new_file))"
   ]
  },
  {
   "cell_type": "code",
   "execution_count": 1,
   "metadata": {},
   "outputs": [],
   "source": [
    "with open('With_Cys/final_proteins.fasta', 'r') as f:\n",
    "    fasta = {}\n",
    "    for line in map(lambda st: st.rstrip('\\n'), f):\n",
    "        if line.startswith('>'):\n",
    "            name = line\n",
    "        else:\n",
    "            fasta.setdefault(name, []).append(line)"
   ]
  },
  {
   "cell_type": "code",
   "execution_count": 2,
   "metadata": {},
   "outputs": [],
   "source": [
    "with open('Without_Cys/final_proteins_cl.fasta', 'r') as f:\n",
    "    fasta_cl = {}\n",
    "    for line in map(lambda st: st.rstrip('\\n'), f):\n",
    "        if line.startswith('>'):\n",
    "            name = line\n",
    "        else:\n",
    "            fasta_cl.setdefault(name, []).append(line)"
   ]
  },
  {
   "cell_type": "code",
   "execution_count": 8,
   "metadata": {},
   "outputs": [
    {
     "name": "stdout",
     "output_type": "stream",
     "text": [
      ">A0A0N0BRB8\n",
      ">A0A0S3U7K1\n",
      ">A0A126WXF5\n",
      ">A0A0F7PGH0\n",
      ">A0A1A0FLR5\n",
      ">A0A068N046\n",
      ">A0A139C4C1\n",
      ">A0A0Q8QBZ6\n",
      ">A0A0F9KE11\n",
      ">A0A162B8T1\n",
      ">A0A178MSM2\n",
      ">A0A011QGB6\n",
      ">A0A0U5B714\n",
      ">A0A1C0VN54\n",
      ">A0A0T5VWG4\n",
      ">A0A0Q6WCE0\n",
      ">A0A0P4UZG9\n",
      ">A0A0H4I6P8\n",
      ">A0A101D4P0\n",
      ">A0A139WYI3\n",
      ">A0A1B3E0Q1\n",
      ">A0A0T5PJY3\n",
      ">A0A196Q6V7\n",
      ">A0A0C1DQA4\n",
      ">A0A178FYQ9\n",
      ">A0A0N9MTI7\n",
      ">A0A086WFV9\n",
      ">A0A061JNJ7\n",
      ">A0A0B8TAN6\n",
      ">A0A1C0VQ40\n",
      ">A0A0Q5U6D4\n",
      ">A0A062BR53\n",
      ">A0A0N9MZ86\n",
      ">A0A0A0C3K7\n",
      ">A0A073CYU9\n",
      ">A0A0C1YGA3\n",
      ">A0A0P4UU60\n",
      ">A0A0D5N8D7\n",
      ">A0A178GER0\n",
      ">A0A0Q0FXN1\n",
      ">A0A0Q7FL64\n",
      ">A0A0S3PJ95\n",
      ">A0A0M4SNU1\n",
      ">A0A0D6AQB7\n",
      ">A0A0D6E5U2\n",
      ">A0A142XJX6\n",
      ">A0A0F9R7F3\n",
      ">A0A073CFE5\n",
      ">A0A0U3IE24\n",
      ">A0A126X1N4\n",
      ">A0A068YUC8\n",
      ">A0A0H3K5F9\n",
      ">A0A0S3PF21\n",
      ">A0A0E9K132\n",
      ">A0A177LY07\n",
      ">A0A126WZC4\n",
      ">A0A098YHK9\n",
      ">A0A1A9R256\n",
      ">A0A062BN89\n",
      ">A0A0E2GJU2\n",
      ">A0A0C1TZX7\n",
      ">A0A0D5YQV1\n",
      ">A0A1B3EA03\n",
      ">A0A126WVX2\n",
      ">A0A0F7PAY0\n",
      ">A0A0H4I0C1\n",
      ">A0A0M2VCH2\n",
      ">A0A177SXL9\n",
      ">A0A0W1R5N1\n",
      ">A0A0Q7EDV6\n",
      ">A0A120MZU9\n",
      ">A0A177U2T4\n",
      ">A0A1C0VV64\n",
      ">A0A0Q7CVH3\n",
      ">A0A0C2YV27\n",
      ">A0A1A0EQ35\n",
      ">A0A077XY97\n",
      ">A0A1C0V1D5\n",
      ">A0A0S7AQR6\n",
      ">A0A178GN66\n",
      ">A0A0J0Y9D2\n",
      ">A0A0Q5NLF1\n",
      ">A0A085Z7W1\n",
      ">A0A098S0G6\n",
      ">A0A0P7YT07\n",
      ">A0A0A6RI81\n",
      ">A0A073CSC5\n",
      ">A0A126X2E2\n",
      ">A0A120JW07\n",
      ">A0A0D6KSE9\n",
      ">Q9HPU8\n",
      ">A0A0U5MKD5\n",
      ">A0A126T3K6\n",
      ">A0A010S5W0\n",
      ">A0A0Q6W070\n",
      ">A0A0Q8QSP1\n",
      ">A0A126WX77\n",
      ">A0A1H1QY27\n",
      ">A0A1G7T6P9\n",
      ">A0A1Z8A6E5\n",
      ">A0A1H0AUV5\n",
      ">A0A1J1KGV3\n",
      ">A0A1F3ZBY9\n",
      ">A0A1Z4HNP1\n",
      ">A0A1Y3D1Z7\n",
      ">A0A1G7H4D1\n",
      ">A0A1J0VHQ4\n",
      ">A0A1G7KVI5\n",
      ">A0A1I0TNN8\n",
      ">A0A1J1KW53\n",
      ">A0A1J1JUD8\n",
      ">A0A1Y5GIS0\n",
      ">A0A1I7IIR4\n",
      ">A0A1S8CWW1\n",
      ">A0A1Z4KTG3\n",
      ">A0A1Y3A8D4\n",
      ">A0A1S8AZ11\n",
      ">A0A1G5QKR4\n",
      ">A0A1G3DN99\n",
      ">A0A1V3SGH4\n",
      ">A0A1H6W0S7\n",
      ">A0A1J1J9L8\n",
      ">A0A1Z4MX76\n",
      ">A0A1W9NNA9\n",
      ">A0A1H6IXY5\n",
      ">A0A1H7K226\n",
      ">A0A1U7I8Z8\n",
      ">A0A1G8XQX7\n",
      ">A0A1I3RA18\n",
      ">A0A1G6L8B1\n",
      ">A0A1H3ZGX9\n",
      ">A0A1Q3SKY2\n",
      ">A0A1H3HFD7\n",
      ">A0A1E3C9L3\n",
      ">A0A1X4GKW6\n",
      ">A0A1Z4GNL1\n",
      ">A0A1J1JGP6\n",
      ">A0A1H5U7T7\n",
      ">A0A1Y3D947\n",
      ">A0A1S9PHK2\n",
      ">A0A1H3HZ57\n",
      ">A0A1H8G5J5\n",
      ">A0A1R4I196\n",
      ">A0A1F4DFV0\n",
      ">A0A1I3IR90\n",
      ">A0A1W6CL06\n",
      ">A0A1Z4JAJ9\n",
      ">A0A1J5GQ67\n",
      ">A0A221V040\n",
      ">A0A1F4A9A4\n",
      ">A0A1H3D8N4\n",
      ">A0A1H3JKD3\n",
      ">A0A1J5GL19\n",
      ">A0A1F4AKZ5\n",
      ">A0A1X4GBI9\n",
      ">A0A1Q4GB28\n",
      ">A0A1Z4UFN5\n",
      ">A0A1Y0RV73\n",
      ">A0A1G7CZD5\n",
      ">A0A1I1GY21\n",
      ">A0A1P8R5Q2\n",
      ">A0A1J4LZ79\n",
      ">A0A1P8WCP8\n",
      ">A0A1H6SP53\n",
      ">A0A1G3ZWD7\n",
      ">A0A1D2RVF4\n",
      ">A0A1J1LSJ5\n",
      ">A0A1M5M0R7\n",
      ">A0A1J1KQV7\n",
      ">A0A1J1L031\n",
      ">A0A1W9NHA1\n",
      ">A0A1F3YM95\n",
      ">A0A1H3DIY9\n",
      ">A0A1Z4I7H9\n",
      ">A0A212BMM0\n",
      ">A0A1H7QVY5\n",
      ">A0A1G6JVQ4\n",
      ">A0A1Y3AJD6\n",
      ">A0A1N7IWC9\n",
      ">A0A1J5H6D1\n",
      ">A0A1Y6CTR4\n",
      ">A0A1J1J9A4\n",
      ">A0A1P8E5M5\n",
      ">A0A1Y3C4J7\n",
      ">A0A1H3IEC8\n",
      ">A0A1I3STE9\n",
      ">A0A1S2DBW6\n",
      ">A0A1F4MR67\n",
      ">A0A1G8FY30\n",
      ">A0A1J8PX53\n",
      ">A0A1H1Q3Z5\n",
      ">A0A1T4ZHA4\n",
      ">A0A1I7AEV2\n",
      ">A0A1E7D6E0\n",
      ">A0A1F2JSC6\n",
      ">A0A1Z4KHQ3\n",
      ">A0A1I0R3B6\n",
      ">A0A1Z4M4D2\n",
      ">A0A1I6GZI2\n",
      ">A0A1J6XPI2\n",
      ">A0A1M8VDH0\n",
      ">A0A1I6WAT9\n",
      ">A0A1G7XGE9\n",
      ">A0A1J1KYQ0\n",
      ">A0A1T4ZJ91\n",
      ">A0A1F2ZV65\n",
      ">A0A1I7LB45\n",
      ">A0A1J8P4P0\n",
      ">A0A1I2ZKF7\n",
      ">A0A1J1K1T2\n",
      ">A0A1I0B3I4\n",
      ">A0A1Z4GJZ6\n",
      ">A0A1G8UUF8\n",
      ">A0A1G7LAE6\n",
      ">A0A1H3HH78\n",
      ">A0A1L9QUH8\n",
      ">A0A1J5BML2\n",
      ">A0A1J1K040\n",
      ">A0A1N7MT77\n",
      ">A0A1Q8ZE36\n",
      ">A0A1I6FLQ2\n",
      ">A0A1E2WX39\n",
      ">A0A1G6U1I8\n",
      ">A0A1R4L821\n",
      ">A0A1I6G6V8\n",
      ">A0A1E3GI88\n",
      ">A0A1G8FTU8\n",
      ">A0A1H5X8A6\n",
      ">A0A1Z4I328\n",
      ">A0A1H1I1R6\n",
      ">A0A2T1DCE6\n",
      ">A0A2R6L097\n",
      ">A0A2T2V3W5\n",
      ">A0A2D8IQ53\n",
      ">A0A285MUA0\n",
      ">A0A256HHV3\n",
      ">A0A250KTS6\n",
      ">A0A2T5Y191\n",
      ">A0A2G1WUP5\n",
      ">A0A2T5SNI4\n",
      ">A0A256K3M5\n",
      ">A0A256HIR1\n",
      ">A0A2S5T5T9\n",
      ">A0A2D9FL54\n",
      ">A0A2R4CG39\n",
      ">A0A251X7D9\n",
      ">A0A256HDW9\n",
      ">A0A256I8X3\n",
      ">A0A2T1DXF5\n",
      ">A0A2A2E9S9\n",
      ">A0A286GIR1\n",
      ">A0A2D0A5E0\n",
      ">A0A265UXC0\n",
      ">A0A2T1KTE5\n",
      ">A0A256ITL5\n",
      ">A0A2R6L2A8\n",
      ">A0A256II67\n",
      ">A0A2D5RUA9\n",
      ">A0A2S8ESS1\n",
      ">A0A2E4U0F6\n",
      ">A0A2D9LJ40\n",
      ">A0A2D1ISA5\n",
      ">A0A2H5A2B3\n",
      ">A0A241V6D2\n",
      ">A0A256IB30\n",
      ">A0A2I8AC16\n",
      ">A0A256H8K6\n",
      ">A0A265DYN3\n",
      ">A0A2R6MNC9\n",
      ">A0A2S6H3D4\n",
      ">A0A238W3F5\n",
      ">A0A2S5ZDQ9\n",
      ">A0A2R6LF71\n",
      ">A0A2R6DPF0\n",
      ">A0A2R6JED3\n",
      ">A0A256HHY4\n",
      ">A0A2E9XPK5\n",
      ">A0A2R6IVZ2\n",
      ">A0A225DTM9\n",
      ">A0A256IMZ8\n",
      ">A0A2T1IYA3\n",
      ">A0A2D4YBV9\n",
      ">A0A2N7CUQ4\n",
      ">A0A2H9ULP7\n",
      ">A0A2E1XWH7\n",
      ">A0A2I8VGZ8\n",
      ">A0A2A5CHV0\n",
      ">A0A2T5P9D1\n",
      ">A0A2R4CBJ3\n",
      ">A0A238V716\n",
      ">A0A252DKD4\n",
      ">A0A2E2N4X2\n",
      ">A0A256HJZ8\n",
      ">A0A256I1W5\n",
      ">A0A2T0V2N9\n",
      ">A0A2R6HBP1\n",
      ">A0A256HF66\n",
      ">A0A2P7R4D5\n",
      ">A0A2T1DPZ0\n",
      ">A0A2G1ULH4\n",
      ">A0A2E6VBV1\n",
      ">A0A2I8VG70\n",
      ">A0A2N1ZW61\n",
      ">A0A241VFX1\n",
      ">A0A2G1X1D5\n",
      ">A0A271J9G9\n",
      ">A0A256I590\n",
      ">A0A2S5AFH0\n",
      ">A0A2G8TF68\n",
      ">A0A2R6F643\n",
      ">A0A2G1WNA9\n",
      ">A0A256IHV4\n",
      ">A0A2T1DXD6\n",
      ">A0A2T1G5S3\n",
      ">A0A250KUR4\n",
      ">A0A239RRF9\n",
      ">A0A290Q8J9\n",
      ">A0A256H7J7\n",
      ">A0A286GPI6\n",
      ">A0A2A9FRX6\n",
      ">A0A252DP48\n",
      ">A0A2G3PF86\n",
      ">A0A2E0IZC7\n",
      ">A0A2N5KT77\n",
      ">A0A2R6HXJ8\n",
      ">A0A2K8URL6\n",
      ">A0A2T1DAT1\n",
      ">A0A2T5JEL1\n",
      ">A0A2T2V0L6\n",
      ">A0A2M7CSM7\n",
      ">A0A2D8CZZ1\n",
      ">A0A259W0K5\n",
      ">A0A2T5SX15\n",
      ">A0A2E2AWJ8\n",
      ">A0A256HT10\n",
      ">A0A2R6DCX8\n",
      ">A0A2S2DEX3\n",
      ">A0A2G1VHK0\n",
      ">A0A2R6CYJ7\n",
      ">A0A2E3R004\n",
      ">A0A2S5Z8C7\n",
      ">A0A2E9N872\n",
      ">A0A2R6HMM8\n",
      ">A0A2T1FL27\n",
      ">A0A2S6G3J0\n",
      ">A0A285P4Y8\n",
      ">M0D0B1\n",
      ">K1W4H5\n",
      ">H3ZFV5\n",
      ">D2S7Y1\n",
      ">W7Q916\n",
      ">Q8YXI4\n",
      ">N8NWV8\n",
      ">M0F4R6\n",
      ">N9HNY3\n",
      ">C6RJR5\n",
      ">F5UBY6\n",
      ">A4TY70\n",
      ">A0YI13\n",
      ">W9H3B4\n",
      ">F7SMS1\n",
      ">L8ARN4\n",
      ">Q74FX8\n",
      ">E4U0K3\n",
      ">W7WE26\n",
      ">G2PRN8\n",
      ">K9QT62\n",
      ">B5W5T2\n",
      ">A0A2V4A1P4\n",
      ">U7QM16\n",
      ">F4CCK0\n",
      ">B5M445\n",
      ">L8MMM4\n",
      ">E6XF72\n",
      ">F5UNN6\n",
      ">N9QK63\n",
      ">A0A2W7AI52\n",
      ">K9SC95\n",
      ">L9XE91\n",
      ">K9QBD4\n",
      ">A0B653\n",
      ">U7QJZ9\n",
      ">M0D005\n",
      ">M0PQ37\n",
      ">A0A2U8TW45\n",
      ">M0NXY4\n",
      ">M7MMR6\n",
      ">Q31NI4\n",
      ">M0D0B9\n",
      ">M1FER5\n",
      ">B0R5N6\n",
      ">A3JIW6\n",
      ">S2KPA1\n",
      ">Q8YT51\n",
      ">M0EAL1\n",
      ">A0A2U3MGK7\n",
      ">V2U4T5\n",
      ">D8G759\n",
      ">K9VJW6\n",
      ">E4NMD1\n",
      ">A0A2W4P699\n",
      ">H1WBU5\n",
      ">L0JTP7\n",
      ">C6RKM7\n",
      ">I9DPX4\n",
      ">A6EZP7\n",
      ">Q3MFG5\n",
      ">D0SWD2\n",
      ">A0A2W4QJ37\n",
      ">U7QLM6\n",
      ">M0FIW0\n",
      ">U7QAD2\n",
      ">G3IYB4\n",
      ">M1F980\n",
      ">U7QJX5\n",
      ">M0JX42\n",
      ">M0EMA9\n",
      ">A0A2V3CR04\n",
      ">U1NSI0\n",
      ">G4E1Z1\n",
      ">V2UQP7\n",
      ">U7G3B4\n",
      ">Q55576\n",
      ">M0PJ89\n",
      ">N9KQ40\n",
      ">M2ZV60\n",
      ">M0JHD8\n",
      ">M0NUF3\n",
      ">A0A2V7V7T2\n",
      ">A0A2V1H3C2\n",
      ">A0YYE8\n",
      ">D5A3S6\n",
      ">E8WMC9\n",
      ">V2QAF0\n",
      ">B4VSY1\n",
      ">C1CYA5\n",
      ">K9VN58\n",
      ">K9PQB9\n",
      ">G4FAF4\n",
      ">K9VDJ7\n",
      ">K9Z5T6\n",
      ">U7PA00\n",
      ">G4T0F8\n",
      ">V6EZ67\n",
      ">N9H4F1\n",
      ">Q5UWI7\n",
      ">K9S9T8\n",
      ">R9LFR4\n",
      ">B4VKN6\n",
      ">W7VWJ8\n",
      ">Q2W4Y0\n",
      ">K9ZLV9\n",
      ">L9XAN4\n",
      ">K9WTZ1\n",
      ">N8Q6A8\n",
      ">K9Q8K2\n",
      ">M0DW79\n",
      ">K2EZH7\n",
      ">C6HXY9\n",
      ">A0A2U2PIL9\n",
      ">D3PRD8\n",
      ">L8LH99\n",
      ">M1XS32\n",
      ">M0EVT3\n",
      ">W7QD64\n",
      ">L8MY36\n",
      ">M0KC56\n",
      ">M0PJA7\n",
      ">L9VKX1\n",
      ">F5UCI6\n",
      ">N9PKC5\n",
      ">A0A2V1H6M6\n",
      ">K9QU67\n",
      ">W4Q222\n",
      ">M0NND4\n",
      ">K9WJW9\n",
      ">M5RDE8\n",
      ">Q2SFK1\n",
      ">A0YYE0\n",
      ">U7P7S6\n",
      ">L0ALW4\n",
      ">N8TVY4\n",
      ">A7U0Y3\n",
      ">C6IY91\n",
      ">N9QD69\n",
      ">M0NXF1\n",
      ">N8VCG8\n",
      ">A0A2W4WZD7\n",
      ">A2SIR0\n",
      ">N9PS41\n",
      ">M0DQM9\n",
      ">M1F9V6\n"
     ]
    }
   ],
   "source": [
    "result = list(fasta.keys() & fasta_cl.keys())\n",
    "re"
   ]
  },
  {
   "cell_type": "code",
   "execution_count": null,
   "metadata": {},
   "outputs": [],
   "source": []
  },
  {
   "cell_type": "code",
   "execution_count": null,
   "metadata": {},
   "outputs": [],
   "source": []
  }
 ],
 "metadata": {
  "kernelspec": {
   "display_name": "Python 3",
   "language": "python",
   "name": "python3"
  },
  "language_info": {
   "codemirror_mode": {
    "name": "ipython",
    "version": 3
   },
   "file_extension": ".py",
   "mimetype": "text/x-python",
   "name": "python",
   "nbconvert_exporter": "python",
   "pygments_lexer": "ipython3",
   "version": "3.6.6"
  }
 },
 "nbformat": 4,
 "nbformat_minor": 2
}
