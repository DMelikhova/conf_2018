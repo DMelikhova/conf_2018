{
 "cells": [
  {
   "cell_type": "markdown",
   "metadata": {},
   "source": [
    "### Поиск LOV и его соседей"
   ]
  },
  {
   "cell_type": "code",
   "execution_count": 201,
   "metadata": {
    "collapsed": true
   },
   "outputs": [],
   "source": [
    "from bs4 import BeautifulSoup\n",
    "'''Доступ к Uniprot'''\n",
    "from Bio import ExPASy\n",
    "from Bio import SwissProt\n",
    "import pandas as pd\n"
   ]
  },
  {
   "cell_type": "code",
   "execution_count": 202,
   "metadata": {
    "collapsed": true
   },
   "outputs": [],
   "source": [
    "with open(\"With_Cys/Cys_sequences_4.xml\",\"r\") as f:\n",
    "    contents = f.read()\n",
    "soup = BeautifulSoup(contents,'xml')\n",
    "\n",
    "sequences = soup.sequences.findAll('sequence')"
   ]
  },
  {
   "cell_type": "code",
   "execution_count": 203,
   "metadata": {
    "collapsed": true
   },
   "outputs": [],
   "source": [
    "seqs = {}\n",
    "for seq in sequences:\n",
    "    for seg in seq.find_all('seg'):\n",
    "        if bool(seg.find(idx = '0')) == True and bool(seg.find(idx = '1')) == True:\n",
    "            hits = seg.find_all('hit')\n",
    "            if float(hits[0]['pvalue']) <= 1e-15 and float(hits[1]['pvalue']) <= 1e-15:\n",
    "                seqs.setdefault(seq['name'], []).append([int(hits[0]['pos']), int(hits[1]['pos'])])"
   ]
  },
  {
   "cell_type": "code",
   "execution_count": 204,
   "metadata": {
    "collapsed": true
   },
   "outputs": [],
   "source": [
    "with open('With_Cys/final_proteins_4.fasta', 'r') as f:\n",
    "    fasta = {}\n",
    "    for line in map(lambda st: st.rstrip('\\n'), f):\n",
    "        if line.startswith('>'):\n",
    "            name = line.lstrip('>')\n",
    "        else:\n",
    "            fasta.setdefault(name, []).append(line)"
   ]
  },
  {
   "cell_type": "code",
   "execution_count": 205,
   "metadata": {
    "collapsed": true
   },
   "outputs": [],
   "source": [
    "new_seq = {}\n",
    "for key in seqs.keys():\n",
    "    if key in fasta:\n",
    "        new_seq[key] = seqs[key]\n",
    "seqs = new_seq"
   ]
  },
  {
   "cell_type": "code",
   "execution_count": 206,
   "metadata": {
    "collapsed": true
   },
   "outputs": [],
   "source": [
    "data = pd.read_csv('With_Cys/domains_4.csv')"
   ]
  },
  {
   "cell_type": "code",
   "execution_count": 207,
   "metadata": {},
   "outputs": [],
   "source": [
    "data = data[data['seq id'].isin(seqs.keys())].reset_index(drop = True)"
   ]
  },
  {
   "cell_type": "code",
   "execution_count": 208,
   "metadata": {},
   "outputs": [
    {
     "data": {
      "text/html": [
       "<div>\n",
       "<style scoped>\n",
       "    .dataframe tbody tr th:only-of-type {\n",
       "        vertical-align: middle;\n",
       "    }\n",
       "\n",
       "    .dataframe tbody tr th {\n",
       "        vertical-align: top;\n",
       "    }\n",
       "\n",
       "    .dataframe thead th {\n",
       "        text-align: right;\n",
       "    }\n",
       "</style>\n",
       "<table border=\"1\" class=\"dataframe\">\n",
       "  <thead>\n",
       "    <tr style=\"text-align: right;\">\n",
       "      <th></th>\n",
       "      <th>seq id</th>\n",
       "      <th>alignment start</th>\n",
       "      <th>alignment end</th>\n",
       "      <th>envelope start</th>\n",
       "      <th>envelope end</th>\n",
       "      <th>hmm acc</th>\n",
       "      <th>hmm name</th>\n",
       "      <th>type</th>\n",
       "      <th>hmm start</th>\n",
       "      <th>hmm end</th>\n",
       "      <th>hmm length</th>\n",
       "      <th>bit score</th>\n",
       "      <th>E-value</th>\n",
       "      <th>significance</th>\n",
       "      <th>clan</th>\n",
       "      <th>kingdom</th>\n",
       "    </tr>\n",
       "  </thead>\n",
       "  <tbody>\n",
       "    <tr>\n",
       "      <th>0</th>\n",
       "      <td>M0TGC4</td>\n",
       "      <td>170</td>\n",
       "      <td>266</td>\n",
       "      <td>162</td>\n",
       "      <td>267</td>\n",
       "      <td>PF13426.7</td>\n",
       "      <td>PAS_9</td>\n",
       "      <td>Domain</td>\n",
       "      <td>7</td>\n",
       "      <td>103</td>\n",
       "      <td>104</td>\n",
       "      <td>58.9</td>\n",
       "      <td>4.900000e-16</td>\n",
       "      <td>1</td>\n",
       "      <td>CL0183</td>\n",
       "      <td>Eukaryota Viridiplantae</td>\n",
       "    </tr>\n",
       "    <tr>\n",
       "      <th>1</th>\n",
       "      <td>M0TGC4</td>\n",
       "      <td>452</td>\n",
       "      <td>544</td>\n",
       "      <td>443</td>\n",
       "      <td>547</td>\n",
       "      <td>PF13426.7</td>\n",
       "      <td>PAS_9</td>\n",
       "      <td>Domain</td>\n",
       "      <td>9</td>\n",
       "      <td>101</td>\n",
       "      <td>104</td>\n",
       "      <td>73.1</td>\n",
       "      <td>1.900000e-20</td>\n",
       "      <td>1</td>\n",
       "      <td>CL0183</td>\n",
       "      <td>Eukaryota Viridiplantae</td>\n",
       "    </tr>\n",
       "    <tr>\n",
       "      <th>2</th>\n",
       "      <td>M0TGC4</td>\n",
       "      <td>633</td>\n",
       "      <td>918</td>\n",
       "      <td>630</td>\n",
       "      <td>918</td>\n",
       "      <td>PF00069.25</td>\n",
       "      <td>Pkinase</td>\n",
       "      <td>Domain</td>\n",
       "      <td>4</td>\n",
       "      <td>264</td>\n",
       "      <td>264</td>\n",
       "      <td>212.2</td>\n",
       "      <td>8.300000e-63</td>\n",
       "      <td>1</td>\n",
       "      <td>CL0016</td>\n",
       "      <td>Eukaryota Viridiplantae</td>\n",
       "    </tr>\n",
       "    <tr>\n",
       "      <th>3</th>\n",
       "      <td>M0KWF6</td>\n",
       "      <td>10</td>\n",
       "      <td>115</td>\n",
       "      <td>10</td>\n",
       "      <td>121</td>\n",
       "      <td>PF00072.24</td>\n",
       "      <td>Response_reg</td>\n",
       "      <td>Domain</td>\n",
       "      <td>1</td>\n",
       "      <td>105</td>\n",
       "      <td>112</td>\n",
       "      <td>70.0</td>\n",
       "      <td>1.800000e-19</td>\n",
       "      <td>1</td>\n",
       "      <td>CL0304</td>\n",
       "      <td>Archaea Euryarchaeota</td>\n",
       "    </tr>\n",
       "    <tr>\n",
       "      <th>4</th>\n",
       "      <td>M0KWF6</td>\n",
       "      <td>149</td>\n",
       "      <td>246</td>\n",
       "      <td>148</td>\n",
       "      <td>246</td>\n",
       "      <td>PF13426.7</td>\n",
       "      <td>PAS_9</td>\n",
       "      <td>Domain</td>\n",
       "      <td>2</td>\n",
       "      <td>104</td>\n",
       "      <td>104</td>\n",
       "      <td>39.1</td>\n",
       "      <td>7.000000e-10</td>\n",
       "      <td>1</td>\n",
       "      <td>CL0183</td>\n",
       "      <td>Archaea Euryarchaeota</td>\n",
       "    </tr>\n",
       "  </tbody>\n",
       "</table>\n",
       "</div>"
      ],
      "text/plain": [
       "   seq id  alignment start  alignment end  envelope start  envelope end  \\\n",
       "0  M0TGC4              170            266             162           267   \n",
       "1  M0TGC4              452            544             443           547   \n",
       "2  M0TGC4              633            918             630           918   \n",
       "3  M0KWF6               10            115              10           121   \n",
       "4  M0KWF6              149            246             148           246   \n",
       "\n",
       "      hmm acc      hmm name    type  hmm start  hmm end  hmm length  \\\n",
       "0   PF13426.7         PAS_9  Domain          7      103         104   \n",
       "1   PF13426.7         PAS_9  Domain          9      101         104   \n",
       "2  PF00069.25       Pkinase  Domain          4      264         264   \n",
       "3  PF00072.24  Response_reg  Domain          1      105         112   \n",
       "4   PF13426.7         PAS_9  Domain          2      104         104   \n",
       "\n",
       "   bit score       E-value  significance    clan                  kingdom  \n",
       "0       58.9  4.900000e-16             1  CL0183  Eukaryota Viridiplantae  \n",
       "1       73.1  1.900000e-20             1  CL0183  Eukaryota Viridiplantae  \n",
       "2      212.2  8.300000e-63             1  CL0016  Eukaryota Viridiplantae  \n",
       "3       70.0  1.800000e-19             1  CL0304    Archaea Euryarchaeota  \n",
       "4       39.1  7.000000e-10             1  CL0183    Archaea Euryarchaeota  "
      ]
     },
     "execution_count": 208,
     "metadata": {},
     "output_type": "execute_result"
    }
   ],
   "source": [
    "data.drop('Unnamed: 0', axis = 1, inplace = True)\n",
    "data.head()"
   ]
  },
  {
   "cell_type": "code",
   "execution_count": 214,
   "metadata": {},
   "outputs": [
    {
     "data": {
      "text/plain": [
       "(5615, 16)"
      ]
     },
     "execution_count": 214,
     "metadata": {},
     "output_type": "execute_result"
    }
   ],
   "source": [
    "data.shape"
   ]
  },
  {
   "cell_type": "markdown",
   "metadata": {},
   "source": [
    "#### Находим LOV "
   ]
  },
  {
   "cell_type": "code",
   "execution_count": 210,
   "metadata": {
    "collapsed": true
   },
   "outputs": [],
   "source": [
    "def IfLOV(row):\n",
    "    b = False\n",
    "    if row['clan'] == 'CL0183':\n",
    "        for hit in seqs[row['seq id']]:\n",
    "            if (int(row[3]) - hit[0]) <=5 and (hit[1] + 43 - int(row[4])) <= 1:\n",
    "                return 'LOV'\n",
    "    return row['hmm name']\n",
    "        "
   ]
  },
  {
   "cell_type": "code",
   "execution_count": 211,
   "metadata": {
    "collapsed": true
   },
   "outputs": [],
   "source": [
    "data['hmm name'] = data.apply(IfLOV, axis = 1)"
   ]
  },
  {
   "cell_type": "markdown",
   "metadata": {},
   "source": [
    "#### Находим Tandem LOV"
   ]
  },
  {
   "cell_type": "code",
   "execution_count": 212,
   "metadata": {},
   "outputs": [
    {
     "name": "stderr",
     "output_type": "stream",
     "text": [
      "100%|██████████| 1737/1737 [00:01<00:00, 875.63it/s]\n"
     ]
    }
   ],
   "source": [
    "from tqdm import tqdm\n",
    "\n",
    "for name in tqdm(seqs.keys()):\n",
    "    indexes = data[(data['seq id'] == name) & (data['hmm name'] == 'LOV')].index.values\n",
    "    for i in indexes[:-1]:\n",
    "        if (data.loc[i+1, 'hmm name'] == 'LOV' and \n",
    "            int(data.loc[i+1, 'envelope start']) - int(data.loc[i, 'envelope end']) <= 125):\n",
    "            data.loc[i, 'envelope end'] = data.loc[i+1, 'envelope end']\n",
    "            data.loc[i, 'hmm name'], data.loc[i+1, 'hmm name'] = 'TLOV', '_LOV'"
   ]
  },
  {
   "cell_type": "code",
   "execution_count": 213,
   "metadata": {
    "collapsed": true
   },
   "outputs": [],
   "source": [
    "data = data.loc[data['hmm name'] != '_LOV']"
   ]
  },
  {
   "cell_type": "markdown",
   "metadata": {},
   "source": [
    "Отсеяла все лишние ловы (те которые входят вторыми в TLOV) теперь необходимо записать получившееся в отдельный файл, и уже теперь разбивать по царствам"
   ]
  },
  {
   "cell_type": "code",
   "execution_count": 215,
   "metadata": {
    "collapsed": true
   },
   "outputs": [],
   "source": [
    "tfile = open('With_Cys/domains_LOV_4.csv', 'a')\n",
    "tfile.write(data.to_csv())\n",
    "tfile.close()"
   ]
  },
  {
   "cell_type": "markdown",
   "metadata": {},
   "source": [
    "### Primary effector"
   ]
  },
  {
   "cell_type": "markdown",
   "metadata": {},
   "source": [
    "Пока без проверки еще и в Interpro так как запросы туда достаточно длительны + PAS domain там разбит на PAS и PAC. В будущем подделаю это"
   ]
  },
  {
   "cell_type": "markdown",
   "metadata": {},
   "source": [
    "#### Бактерии"
   ]
  },
  {
   "cell_type": "code",
   "execution_count": 223,
   "metadata": {
    "collapsed": true
   },
   "outputs": [],
   "source": [
    "data_b = pd.read_csv('bacteria.csv')"
   ]
  },
  {
   "cell_type": "code",
   "execution_count": 224,
   "metadata": {},
   "outputs": [
    {
     "data": {
      "text/html": [
       "<div>\n",
       "<style scoped>\n",
       "    .dataframe tbody tr th:only-of-type {\n",
       "        vertical-align: middle;\n",
       "    }\n",
       "\n",
       "    .dataframe tbody tr th {\n",
       "        vertical-align: top;\n",
       "    }\n",
       "\n",
       "    .dataframe thead th {\n",
       "        text-align: right;\n",
       "    }\n",
       "</style>\n",
       "<table border=\"1\" class=\"dataframe\">\n",
       "  <thead>\n",
       "    <tr style=\"text-align: right;\">\n",
       "      <th></th>\n",
       "      <th>seq id</th>\n",
       "      <th>alignment start</th>\n",
       "      <th>alignment end</th>\n",
       "      <th>envelope start</th>\n",
       "      <th>envelope end</th>\n",
       "      <th>hmm acc</th>\n",
       "      <th>hmm name</th>\n",
       "      <th>type</th>\n",
       "      <th>hmm start</th>\n",
       "      <th>hmm end</th>\n",
       "      <th>hmm length</th>\n",
       "      <th>bit score</th>\n",
       "      <th>E-value</th>\n",
       "      <th>significance</th>\n",
       "      <th>clan</th>\n",
       "      <th>kingdom</th>\n",
       "    </tr>\n",
       "  </thead>\n",
       "  <tbody>\n",
       "    <tr>\n",
       "      <th>0</th>\n",
       "      <td>A0A0J6VGA8</td>\n",
       "      <td>62</td>\n",
       "      <td>156</td>\n",
       "      <td>52</td>\n",
       "      <td>157</td>\n",
       "      <td>PF13426.7</td>\n",
       "      <td>LOV</td>\n",
       "      <td>Domain</td>\n",
       "      <td>9</td>\n",
       "      <td>103</td>\n",
       "      <td>104</td>\n",
       "      <td>69.7</td>\n",
       "      <td>2.100000e-19</td>\n",
       "      <td>1</td>\n",
       "      <td>CL0183</td>\n",
       "      <td>Bacteria Proteobacteria</td>\n",
       "    </tr>\n",
       "    <tr>\n",
       "      <th>1</th>\n",
       "      <td>A0A0J6VGA8</td>\n",
       "      <td>175</td>\n",
       "      <td>235</td>\n",
       "      <td>173</td>\n",
       "      <td>237</td>\n",
       "      <td>PF00512.25</td>\n",
       "      <td>HisKA</td>\n",
       "      <td>Domain</td>\n",
       "      <td>3</td>\n",
       "      <td>64</td>\n",
       "      <td>67</td>\n",
       "      <td>34.0</td>\n",
       "      <td>2.200000e-08</td>\n",
       "      <td>1</td>\n",
       "      <td>CL0025</td>\n",
       "      <td>Bacteria Proteobacteria</td>\n",
       "    </tr>\n",
       "    <tr>\n",
       "      <th>2</th>\n",
       "      <td>A0A0J6VGA8</td>\n",
       "      <td>280</td>\n",
       "      <td>402</td>\n",
       "      <td>279</td>\n",
       "      <td>405</td>\n",
       "      <td>PF02518.26</td>\n",
       "      <td>HATPase_c</td>\n",
       "      <td>Domain</td>\n",
       "      <td>2</td>\n",
       "      <td>109</td>\n",
       "      <td>112</td>\n",
       "      <td>49.2</td>\n",
       "      <td>6.500000e-13</td>\n",
       "      <td>1</td>\n",
       "      <td>CL0025</td>\n",
       "      <td>Bacteria Proteobacteria</td>\n",
       "    </tr>\n",
       "    <tr>\n",
       "      <th>3</th>\n",
       "      <td>A0A0J6VGA8</td>\n",
       "      <td>427</td>\n",
       "      <td>537</td>\n",
       "      <td>427</td>\n",
       "      <td>538</td>\n",
       "      <td>PF00072.24</td>\n",
       "      <td>Response_reg</td>\n",
       "      <td>Domain</td>\n",
       "      <td>1</td>\n",
       "      <td>111</td>\n",
       "      <td>112</td>\n",
       "      <td>67.4</td>\n",
       "      <td>1.100000e-18</td>\n",
       "      <td>1</td>\n",
       "      <td>CL0304</td>\n",
       "      <td>Bacteria Proteobacteria</td>\n",
       "    </tr>\n",
       "    <tr>\n",
       "      <th>4</th>\n",
       "      <td>A0A098T9D3</td>\n",
       "      <td>47</td>\n",
       "      <td>149</td>\n",
       "      <td>46</td>\n",
       "      <td>150</td>\n",
       "      <td>PF13426.7</td>\n",
       "      <td>LOV</td>\n",
       "      <td>Domain</td>\n",
       "      <td>2</td>\n",
       "      <td>103</td>\n",
       "      <td>104</td>\n",
       "      <td>61.8</td>\n",
       "      <td>6.100000e-17</td>\n",
       "      <td>1</td>\n",
       "      <td>CL0183</td>\n",
       "      <td>Bacteria Proteobacteria</td>\n",
       "    </tr>\n",
       "  </tbody>\n",
       "</table>\n",
       "</div>"
      ],
      "text/plain": [
       "       seq id  alignment start  alignment end  envelope start  envelope end  \\\n",
       "0  A0A0J6VGA8               62            156              52           157   \n",
       "1  A0A0J6VGA8              175            235             173           237   \n",
       "2  A0A0J6VGA8              280            402             279           405   \n",
       "3  A0A0J6VGA8              427            537             427           538   \n",
       "4  A0A098T9D3               47            149              46           150   \n",
       "\n",
       "      hmm acc      hmm name    type  hmm start  hmm end  hmm length  \\\n",
       "0   PF13426.7           LOV  Domain          9      103         104   \n",
       "1  PF00512.25         HisKA  Domain          3       64          67   \n",
       "2  PF02518.26     HATPase_c  Domain          2      109         112   \n",
       "3  PF00072.24  Response_reg  Domain          1      111         112   \n",
       "4   PF13426.7           LOV  Domain          2      103         104   \n",
       "\n",
       "   bit score       E-value  significance    clan                  kingdom  \n",
       "0       69.7  2.100000e-19             1  CL0183  Bacteria Proteobacteria  \n",
       "1       34.0  2.200000e-08             1  CL0025  Bacteria Proteobacteria  \n",
       "2       49.2  6.500000e-13             1  CL0025  Bacteria Proteobacteria  \n",
       "3       67.4  1.100000e-18             1  CL0304  Bacteria Proteobacteria  \n",
       "4       61.8  6.100000e-17             1  CL0183  Bacteria Proteobacteria  "
      ]
     },
     "execution_count": 224,
     "metadata": {},
     "output_type": "execute_result"
    }
   ],
   "source": [
    "data_b.head()"
   ]
  },
  {
   "cell_type": "code",
   "execution_count": 225,
   "metadata": {},
   "outputs": [],
   "source": [
    "names = set(data_b['seq id']) #множество всех имен"
   ]
  },
  {
   "cell_type": "code",
   "execution_count": 226,
   "metadata": {
    "collapsed": true
   },
   "outputs": [],
   "source": [
    "prim_eff_bac = {}"
   ]
  },
  {
   "cell_type": "code",
   "execution_count": 227,
   "metadata": {},
   "outputs": [
    {
     "name": "stderr",
     "output_type": "stream",
     "text": [
      "100%|██████████| 4015/4015 [00:03<00:00, 1076.48it/s]\n"
     ]
    }
   ],
   "source": [
    "from tqdm import tqdm\n",
    "for name in tqdm(names):\n",
    "    indexes = data_b[data_b['seq id'] == name].index.values\n",
    "    for i in indexes:\n",
    "        if data_b.loc[i, 'hmm name'] == 'LOV':\n",
    "            if (i < indexes[-1] and \n",
    "                int(data_b.loc[i+1, 'envelope start']) - int(data_b.loc[i, 'envelope end']) <= 125 and\n",
    "                float(data_b.loc[i+1, 'E-value']) <= 1e-3):\n",
    "                n = prim_eff_bac.setdefault(data_b.loc[i+1, 'hmm name'], 0) \n",
    "                n += 1\n",
    "                prim_eff_bac[data_b.loc[i+1, 'hmm name']] = n\n",
    "            elif (i > indexes[0] and \n",
    "                  int(data_b.loc[i, 'envelope start']) - int(data_b.loc[i-1, 'envelope end']) <= 125 and \n",
    "                  float(data_b.loc[i-1, 'E-value']) <= 1e-3):\n",
    "                n = prim_eff_bac.setdefault(data_b.loc[i-1, 'hmm name'], 0) \n",
    "                n += 1\n",
    "                prim_eff_bac[data_b.loc[i-1, 'hmm name']] = n\n",
    "            else:\n",
    "                n = prim_eff_bac.setdefault('No domain', 0) \n",
    "                n += 1\n",
    "                prim_eff_bac['No domain'] = n"
   ]
  },
  {
   "cell_type": "code",
   "execution_count": 228,
   "metadata": {},
   "outputs": [
    {
     "data": {
      "text/plain": [
       "{'ANTAR': 1,\n",
       " 'EAL': 1,\n",
       " 'GAF': 70,\n",
       " 'GAF_2': 45,\n",
       " 'GAF_3': 7,\n",
       " 'GGDEF': 496,\n",
       " 'GerE': 161,\n",
       " 'Guanylate_cyc': 4,\n",
       " 'HATPase_c': 41,\n",
       " 'HATPase_c_2': 5,\n",
       " 'HTH_18': 4,\n",
       " 'HWE_HK': 157,\n",
       " 'HisKA': 427,\n",
       " 'HisKA_2': 324,\n",
       " 'HisKA_3': 4,\n",
       " 'MASE1': 17,\n",
       " 'MCPsignal': 10,\n",
       " 'No domain': 1451,\n",
       " 'PAS': 87,\n",
       " 'PAS_3': 267,\n",
       " 'PAS_4': 66,\n",
       " 'PAS_7': 3,\n",
       " 'PAS_8': 51,\n",
       " 'PAS_9': 89,\n",
       " 'Response_reg': 3,\n",
       " 'SBP_bac_3': 1,\n",
       " 'STAS': 204,\n",
       " 'SpoIIE': 16,\n",
       " 'Trans_reg_C': 1}"
      ]
     },
     "execution_count": 228,
     "metadata": {},
     "output_type": "execute_result"
    }
   ],
   "source": [
    "prim_eff_bac"
   ]
  },
  {
   "cell_type": "markdown",
   "metadata": {},
   "source": [
    "#### Археи"
   ]
  },
  {
   "cell_type": "code",
   "execution_count": 229,
   "metadata": {
    "collapsed": true
   },
   "outputs": [],
   "source": [
    "data_a = pd.read_csv('archaea.csv')"
   ]
  },
  {
   "cell_type": "code",
   "execution_count": 230,
   "metadata": {},
   "outputs": [
    {
     "data": {
      "text/html": [
       "<div>\n",
       "<style scoped>\n",
       "    .dataframe tbody tr th:only-of-type {\n",
       "        vertical-align: middle;\n",
       "    }\n",
       "\n",
       "    .dataframe tbody tr th {\n",
       "        vertical-align: top;\n",
       "    }\n",
       "\n",
       "    .dataframe thead th {\n",
       "        text-align: right;\n",
       "    }\n",
       "</style>\n",
       "<table border=\"1\" class=\"dataframe\">\n",
       "  <thead>\n",
       "    <tr style=\"text-align: right;\">\n",
       "      <th></th>\n",
       "      <th>seq id</th>\n",
       "      <th>alignment start</th>\n",
       "      <th>alignment end</th>\n",
       "      <th>envelope start</th>\n",
       "      <th>envelope end</th>\n",
       "      <th>hmm acc</th>\n",
       "      <th>hmm name</th>\n",
       "      <th>type</th>\n",
       "      <th>hmm start</th>\n",
       "      <th>hmm end</th>\n",
       "      <th>hmm length</th>\n",
       "      <th>bit score</th>\n",
       "      <th>E-value</th>\n",
       "      <th>significance</th>\n",
       "      <th>clan</th>\n",
       "      <th>kingdom</th>\n",
       "    </tr>\n",
       "  </thead>\n",
       "  <tbody>\n",
       "  </tbody>\n",
       "</table>\n",
       "</div>"
      ],
      "text/plain": [
       "Empty DataFrame\n",
       "Columns: [seq id, alignment start, alignment end, envelope start, envelope end, hmm acc, hmm name, type, hmm start, hmm end, hmm length, bit score, E-value, significance, clan, kingdom]\n",
       "Index: []"
      ]
     },
     "execution_count": 230,
     "metadata": {},
     "output_type": "execute_result"
    }
   ],
   "source": [
    "data_a[data_a['hmm name'] == 'TLOV']"
   ]
  },
  {
   "cell_type": "code",
   "execution_count": 231,
   "metadata": {
    "collapsed": true
   },
   "outputs": [],
   "source": [
    "prim_eff_arch = {}"
   ]
  },
  {
   "cell_type": "code",
   "execution_count": 232,
   "metadata": {},
   "outputs": [
    {
     "name": "stderr",
     "output_type": "stream",
     "text": [
      "100%|██████████| 362/362 [00:00<00:00, 1990.22it/s]\n"
     ]
    }
   ],
   "source": [
    "from tqdm import tqdm\n",
    "\n",
    "for name in tqdm(set(data_a['seq id'])):\n",
    "    indexes = data_a[data_a['seq id'] == name].index.values\n",
    "    for i in indexes:\n",
    "        if data_a.loc[i, 'hmm name'] == 'LOV':\n",
    "            if (i < indexes[-1] and \n",
    "                int(data_a.loc[i+1, 'envelope start']) - int(data_a.loc[i, 'envelope end']) <= 125 and\n",
    "                float(data_a.loc[i+1, 'E-value']) <= 1e-3):\n",
    "                n = prim_eff_arch.setdefault(data_a.loc[i+1, 'hmm name'], 0) \n",
    "                n += 1\n",
    "                prim_eff_arch[data_a.loc[i+1, 'hmm name']] = n\n",
    "            elif (i > indexes[0] and \n",
    "                  int(data_a.loc[i, 'envelope start']) - int(data_a.loc[i-1, 'envelope end']) <= 125 and \n",
    "                  float(data_a.loc[i-1, 'E-value']) <= 1e-3):\n",
    "                n = prim_eff_arch.setdefault(data_a.loc[i-1, 'hmm name'], 0) \n",
    "                n += 1\n",
    "                prim_eff_arch[data_a.loc[i-1, 'hmm name']] = n\n",
    "            else:\n",
    "                n = prim_eff_arch.setdefault('No domain', 0) \n",
    "                n += 1\n",
    "                prim_eff_arch['No domain'] = n"
   ]
  },
  {
   "cell_type": "code",
   "execution_count": 233,
   "metadata": {},
   "outputs": [
    {
     "data": {
      "text/plain": [
       "{'GAF': 1,\n",
       " 'GAF_2': 92,\n",
       " 'GAF_3': 1,\n",
       " 'HATPase_c': 30,\n",
       " 'HisKA': 55,\n",
       " 'No domain': 53,\n",
       " 'PAS': 23,\n",
       " 'PAS_3': 6,\n",
       " 'PAS_4': 58,\n",
       " 'PAS_8': 5,\n",
       " 'PAS_9': 36,\n",
       " 'Response_reg': 1}"
      ]
     },
     "execution_count": 233,
     "metadata": {},
     "output_type": "execute_result"
    }
   ],
   "source": [
    "prim_eff_arch"
   ]
  },
  {
   "cell_type": "markdown",
   "metadata": {},
   "source": [
    "#### Грибы"
   ]
  },
  {
   "cell_type": "code",
   "execution_count": 234,
   "metadata": {
    "collapsed": true
   },
   "outputs": [],
   "source": [
    "data_f = pd.read_csv('fungi.csv')"
   ]
  },
  {
   "cell_type": "code",
   "execution_count": 235,
   "metadata": {
    "collapsed": true
   },
   "outputs": [],
   "source": [
    "prim_eff_fung = {}"
   ]
  },
  {
   "cell_type": "code",
   "execution_count": 236,
   "metadata": {},
   "outputs": [
    {
     "name": "stderr",
     "output_type": "stream",
     "text": [
      "100%|██████████| 1148/1148 [00:00<00:00, 1890.13it/s]\n"
     ]
    }
   ],
   "source": [
    "from tqdm import tqdm\n",
    "\n",
    "for name in tqdm(set(data_f['seq id'])):\n",
    "    indexes = data_f[data_f['seq id'] == name].index.values\n",
    "    for i in indexes:\n",
    "        if data_f.loc[i, 'hmm name'] == 'LOV':\n",
    "            if (i < indexes[-1] and \n",
    "                int(data_f.loc[i+1, 'envelope start']) - int(data_f.loc[i, 'envelope end']) <= 125 and\n",
    "                float(data_f.loc[i+1, 'E-value']) <= 1e-3):\n",
    "                n = prim_eff_fung.setdefault(data_f.loc[i+1, 'hmm name'], 0) \n",
    "                n += 1\n",
    "                prim_eff_fung[data_f.loc[i+1, 'hmm name']] = n\n",
    "            elif (i > indexes[0] and \n",
    "                  int(data_f.loc[i, 'envelope start']) - int(data_f.loc[i-1, 'envelope end']) <= 125 and \n",
    "                  float(data_f.loc[i-1, 'E-value']) <= 1e-3):\n",
    "                n = prim_eff_fung.setdefault(data_f.loc[i-1, 'hmm name'], 0) \n",
    "                n += 1\n",
    "                prim_eff_fung[data_f.loc[i-1, 'hmm name']] = n\n",
    "            else:\n",
    "                n = prim_eff_fung.setdefault('No domain', 0) \n",
    "                n += 1\n",
    "                prim_eff_fung['No domain'] = n"
   ]
  },
  {
   "cell_type": "code",
   "execution_count": 237,
   "metadata": {},
   "outputs": [
    {
     "data": {
      "text/plain": [
       "{'Cupin_2': 2,\n",
       " 'GGDEF': 1,\n",
       " 'No domain': 529,\n",
       " 'PAS': 36,\n",
       " 'PAS_11': 1,\n",
       " 'PAS_3': 488,\n",
       " 'PAS_4': 2,\n",
       " 'PAS_8': 1,\n",
       " 'RGS': 88}"
      ]
     },
     "execution_count": 237,
     "metadata": {},
     "output_type": "execute_result"
    }
   ],
   "source": [
    "prim_eff_fung"
   ]
  },
  {
   "cell_type": "markdown",
   "metadata": {},
   "source": [
    "#### Протисты"
   ]
  },
  {
   "cell_type": "code",
   "execution_count": 238,
   "metadata": {
    "collapsed": true
   },
   "outputs": [],
   "source": [
    "data_pr = pd.read_csv('protista.csv')"
   ]
  },
  {
   "cell_type": "code",
   "execution_count": 239,
   "metadata": {
    "collapsed": true
   },
   "outputs": [],
   "source": [
    "prim_eff_prot = {}"
   ]
  },
  {
   "cell_type": "code",
   "execution_count": 242,
   "metadata": {},
   "outputs": [
    {
     "name": "stderr",
     "output_type": "stream",
     "text": [
      "100%|██████████| 180/180 [00:00<00:00, 2125.54it/s]\n"
     ]
    }
   ],
   "source": [
    "from tqdm import tqdm\n",
    "\n",
    "for name in tqdm(set(data_pr['seq id'])):\n",
    "    indexes = data_pr[data_pr['seq id'] == name].index.values\n",
    "    for i in indexes:\n",
    "        if data_pr.loc[i, 'hmm name'] == 'LOV':\n",
    "            if (i < indexes[-1] and \n",
    "                int(data_pr.loc[i+1, 'envelope start']) - int(data_pr.loc[i, 'envelope end']) <= 125 and\n",
    "                float(data_pr.loc[i+1, 'E-value']) <= 1e-3):\n",
    "                n = prim_eff_prot.setdefault(data_pr.loc[i+1, 'hmm name'], 0) \n",
    "                n += 1\n",
    "                prim_eff_prot[data_pr.loc[i+1, 'hmm name']] = n\n",
    "            elif (i > indexes[0] and \n",
    "                  int(data_pr.loc[i, 'envelope start']) - int(data_pr.loc[i-1, 'envelope end']) <= 125 and \n",
    "                  float(data_pr.loc[i-1, 'E-value']) <= 1e-3):\n",
    "                n = prim_eff_prot.setdefault(data_pr.loc[i-1, 'hmm name'], 0) \n",
    "                n += 1\n",
    "                prim_eff_prot[data_pr.loc[i-1, 'hmm name']] = n\n",
    "            else:\n",
    "                n = prim_eff_prot.setdefault('No domain', 0) \n",
    "                n += 1\n",
    "                prim_eff_prot['No domain'] = n"
   ]
  },
  {
   "cell_type": "code",
   "execution_count": 243,
   "metadata": {},
   "outputs": [
    {
     "data": {
      "text/plain": [
       "{'No domain': 67, 'RGS': 4, 'SAM_2': 3, 'bZIP_1': 21, 'bZIP_2': 86}"
      ]
     },
     "execution_count": 243,
     "metadata": {},
     "output_type": "execute_result"
    }
   ],
   "source": [
    "prim_eff_prot"
   ]
  },
  {
   "cell_type": "markdown",
   "metadata": {},
   "source": [
    "#### Растения"
   ]
  },
  {
   "cell_type": "code",
   "execution_count": 244,
   "metadata": {
    "collapsed": true
   },
   "outputs": [],
   "source": [
    "data_p = pd.read_csv('plants.csv')"
   ]
  },
  {
   "cell_type": "code",
   "execution_count": 245,
   "metadata": {
    "collapsed": true
   },
   "outputs": [],
   "source": [
    "prim_eff_pl = {}"
   ]
  },
  {
   "cell_type": "code",
   "execution_count": 248,
   "metadata": {},
   "outputs": [
    {
     "name": "stderr",
     "output_type": "stream",
     "text": [
      "100%|██████████| 4421/4421 [00:04<00:00, 975.01it/s]\n"
     ]
    }
   ],
   "source": [
    "from tqdm import tqdm\n",
    "\n",
    "for name in tqdm(set(data_p['seq id'])):\n",
    "    indexes = data_p[data_p['seq id'] == name].index.values\n",
    "    for i in indexes:\n",
    "        if data_p.loc[i, 'hmm name'] == 'LOV':\n",
    "            if (i < indexes[-1] and \n",
    "                int(data_p.loc[i+1, 'envelope start']) - int(data_p.loc[i, 'envelope end']) <= 125 and\n",
    "                float(data_p.loc[i+1, 'E-value']) <= 1e-3):\n",
    "                n = prim_eff_pl.setdefault(data_p.loc[i+1, 'hmm name'], 0) \n",
    "                n += 1\n",
    "                prim_eff_pl[data_p.loc[i+1, 'hmm name']] = n\n",
    "            elif (i > indexes[0] and \n",
    "                  int(data_p.loc[i, 'envelope start']) - int(data_p.loc[i-1, 'envelope end']) <= 125 and \n",
    "                  float(data_p.loc[i-1, 'E-value']) <= 1e-3):\n",
    "                n = prim_eff_pl.setdefault(data_p.loc[i-1, 'hmm name'], 0) \n",
    "                n += 1\n",
    "                prim_eff_pl[data_p.loc[i-1, 'hmm name']] = n\n",
    "            else:\n",
    "                n = prim_eff_pl.setdefault('No domain', 0) \n",
    "                n += 1\n",
    "                prim_eff_pl['No domain'] = n"
   ]
  },
  {
   "cell_type": "code",
   "execution_count": 249,
   "metadata": {},
   "outputs": [
    {
     "data": {
      "text/plain": [
       "{'DUF3700': 1,\n",
       " 'F-box': 441,\n",
       " 'F-box-like': 630,\n",
       " 'GAF': 1,\n",
       " 'HisKA': 47,\n",
       " 'Kelch_3': 1,\n",
       " 'Kelch_4': 1,\n",
       " 'Lipase_GDSL_2': 2,\n",
       " 'No domain': 2791,\n",
       " 'PAS_3': 4,\n",
       " 'PAS_9': 204,\n",
       " 'Pkinase': 1955,\n",
       " 'RGS': 1}"
      ]
     },
     "execution_count": 249,
     "metadata": {},
     "output_type": "execute_result"
    }
   ],
   "source": [
    "prim_eff_pl"
   ]
  },
  {
   "cell_type": "markdown",
   "metadata": {},
   "source": [
    "###  Мультидоменные структуры"
   ]
  },
  {
   "cell_type": "markdown",
   "metadata": {},
   "source": [
    "#### Археи"
   ]
  },
  {
   "cell_type": "code",
   "execution_count": 250,
   "metadata": {},
   "outputs": [
    {
     "data": {
      "text/plain": [
       "{'BAT': Int64Index([  18,   50,   54,   71,   87,  100,  104,  118,  138,  142,\n",
       "             ...\n",
       "             1559, 1567, 1583, 1593, 1597, 1600, 1613, 1617, 1626, 1648],\n",
       "            dtype='int64', length=132),\n",
       " 'GAF': Int64Index([10, 120, 177, 404, 450, 471, 504, 585, 810, 875, 879, 992, 1102,\n",
       "             1528],\n",
       "            dtype='int64'),\n",
       " 'GAF_2': Int64Index([  17,   49,   59,   70,   76,   86,  103,  109,  117,  137,\n",
       "             ...\n",
       "             1507, 1522, 1549, 1558, 1582, 1592, 1621, 1625, 1637, 1647],\n",
       "            dtype='int64', length=109),\n",
       " 'GAF_3': Int64Index([448, 491, 549, 1157], dtype='int64'),\n",
       " 'HATPase_c': Int64Index([   4,    9,   13,   24,   30,   35,   41,   47,   61,   68,\n",
       "             ...\n",
       "             1574, 1580, 1590, 1607, 1610, 1623, 1633, 1639, 1644, 1654],\n",
       "            dtype='int64', length=195),\n",
       " 'HATPase_c_2': Int64Index([403, 513, 605, 619, 631], dtype='int64'),\n",
       " 'HTH_10': Int64Index([  19,   51,   55,   72,   88,  101,  105,  119,  139,  143,\n",
       "             ...\n",
       "             1560, 1568, 1584, 1594, 1598, 1601, 1614, 1618, 1627, 1649],\n",
       "            dtype='int64', length=132),\n",
       " 'HisKA': Int64Index([   3,    8,   23,   29,   34,   40,   46,   60,   77,   93,\n",
       "             ...\n",
       "             1538, 1542, 1555, 1573, 1579, 1589, 1606, 1622, 1638, 1653],\n",
       "            dtype='int64', length=116),\n",
       " 'HisKA_7TM': Int64Index([318, 484, 565, 710, 802, 856], dtype='int64'),\n",
       " 'LOV': Int64Index([   2,    6,   12,   14,   16,   22,   27,   33,   38,   44,\n",
       "             ...\n",
       "             1609, 1612, 1616, 1619, 1624, 1630, 1636, 1643, 1646, 1652],\n",
       "            dtype='int64', length=361),\n",
       " 'PAS': Int64Index([  21,   32,   37,   67,   82,   97,  125,  129,  159,  171,  178,\n",
       "              183,  199,  238,  259,  327,  355,  382,  402,  503,  509,  515,\n",
       "              544,  556,  578,  604,  611,  675,  686,  691,  721,  729,  732,\n",
       "              753,  759,  765,  785,  790,  809,  836,  841,  855,  890,  895,\n",
       "              900,  921,  952,  960,  997, 1002, 1015, 1032, 1046, 1047, 1054,\n",
       "             1065, 1082, 1098, 1110, 1127, 1158, 1159, 1165, 1168, 1179, 1219,\n",
       "             1223, 1241, 1246, 1253, 1254, 1258, 1260, 1262, 1283, 1327, 1329,\n",
       "             1352, 1363, 1372, 1402, 1476, 1497, 1515, 1517, 1553, 1562, 1565,\n",
       "             1651],\n",
       "            dtype='int64'),\n",
       " 'PAS_3': Int64Index([  66,   81,   95,  112,  113,  115,  134,  135,  136,  179,  196,\n",
       "              212,  213,  214,  215,  222,  294,  321,  339,  424,  487,  557,\n",
       "              638,  640,  687,  713,  726,  859,  886,  917,  924,  932,  934,\n",
       "              959,  964,  985,  986,  987,  998, 1027, 1049, 1066, 1081, 1128,\n",
       "             1162, 1164, 1169, 1226, 1240, 1252, 1286, 1322, 1325, 1353, 1362,\n",
       "             1423, 1451, 1456, 1498, 1502, 1503, 1504, 1505, 1529, 1530, 1628,\n",
       "             1632, 1642],\n",
       "            dtype='int64'),\n",
       " 'PAS_4': Int64Index([  11,   26,   28,   43,   45,   65,   80,   92,  114,  121,\n",
       "             ...\n",
       "             1578, 1586, 1588, 1603, 1605, 1608, 1620, 1629, 1631, 1635],\n",
       "            dtype='int64', length=154),\n",
       " 'PAS_8': Int64Index([  52,  149,  166,  187,  203,  229,  252,  262,  266,  269,  272,\n",
       "              275,  282,  290,  325,  329,  364,  392,  408,  490,  606,  663,\n",
       "              740,  823, 1019, 1028, 1075, 1093, 1115, 1119, 1228, 1274, 1288,\n",
       "             1293, 1297, 1311, 1337, 1405, 1510, 1544, 1595, 1611, 1615],\n",
       "            dtype='int64'),\n",
       " 'PAS_9': Int64Index([   1,    7,   15,   39,   57,   62,   74,   90,  107,  131,  145,\n",
       "              153,  155,  193,  197,  201,  257,  284,  295,  302,  313,  315,\n",
       "              340,  384,  388,  418,  425,  454,  541,  546,  586,  593,  621,\n",
       "              630,  637,  660,  728,  850,  863,  876,  911,  919,  940,  954,\n",
       "              968,  970,  974,  980, 1007, 1038, 1043, 1059, 1070, 1072, 1087,\n",
       "             1134, 1148, 1156, 1160, 1161, 1183, 1185, 1209, 1233, 1256, 1267,\n",
       "             1280, 1306, 1344, 1387, 1394, 1400, 1407, 1411, 1416, 1418, 1427,\n",
       "             1429, 1470, 1484, 1526, 1532, 1534, 1572, 1641],\n",
       "            dtype='int64'),\n",
       " 'Pkinase': Int64Index([84], dtype='int64'),\n",
       " 'Response_reg': Int64Index([   0,    5,   20,   25,   31,   36,   42,   56,   73,   89,\n",
       "             ...\n",
       "             1552, 1561, 1569, 1575, 1585, 1602, 1634, 1640, 1645, 1650],\n",
       "            dtype='int64', length=141)}"
      ]
     },
     "execution_count": 250,
     "metadata": {},
     "output_type": "execute_result"
    }
   ],
   "source": [
    "data_a.groupby(by = 'hmm name').groups"
   ]
  },
  {
   "cell_type": "code",
   "execution_count": 274,
   "metadata": {},
   "outputs": [
    {
     "name": "stderr",
     "output_type": "stream",
     "text": [
      "100%|██████████| 362/362 [00:00<00:00, 737.95it/s]\n"
     ]
    }
   ],
   "source": [
    "from tqdm import tqdm\n",
    "forward = {}\n",
    "backward = {}\n",
    "for name in tqdm(set(data_a['seq id'])):\n",
    "    index = data_a[data_a['seq id'] == name].index.values\n",
    "    LOV = data_a[(data_a['seq id'] == name) & (data_a['hmm name'] == 'LOV')].index.values\n",
    "    for L in LOV:\n",
    "        for i in range(L, index[-1]):\n",
    "            if (int(data_a.loc[i+1, 'envelope start']) - int(data_a.loc[i, 'envelope end']) <= 125 and\n",
    "                float(data_a.loc[i+1, 'E-value']) <= 1e-3):\n",
    "                s = forward.setdefault(data_a.loc[i+1, 'hmm name'], [0 for i in range(8)]) \n",
    "                if (i+1 - L) < len(s):\n",
    "                    s[i-L] += 1\n",
    "                forward[data_a.loc[i+1, 'hmm name']] = s\n",
    "            else:\n",
    "                break\n",
    "        for i in range(L, index[0], -1):\n",
    "            if (int(data_a.loc[i, 'envelope start']) - int(data_a.loc[i-1, 'envelope end']) <= 125 and\n",
    "                float(data_a.loc[i-1, 'E-value']) <= 1e-3):\n",
    "                s = backward.setdefault(data_a.loc[i+1, 'hmm name'], [0 for i in range(8)]) \n",
    "                if (L - i + 1) < len(s):\n",
    "                    s[L - i] += 1\n",
    "                backward[data_a.loc[i+1, 'hmm name']] = s\n",
    "            else:\n",
    "                break"
   ]
  },
  {
   "cell_type": "code",
   "execution_count": 261,
   "metadata": {},
   "outputs": [],
   "source": [
    "forward = {}\n",
    "backward = {}\n",
    "index = data_a[data_a['seq id'] == 'A0A0D6JLL4'].index.values\n",
    "LOV = data_a[(data_a['seq id'] == 'A0A0D6JLL4') & (data_a['hmm name'] == 'LOV')].index.values\n",
    "for L in LOV:\n",
    "    for i in range(L, index[-1]):\n",
    "        if (int(data_a.loc[i+1, 'envelope start']) - int(data_a.loc[i, 'envelope end']) <= 125 and\n",
    "            float(data_a.loc[i+1, 'E-value']) <= 1e-3):\n",
    "            s = forward.setdefault(data_a.loc[i+1, 'hmm name'], [0 for i in range(8)]) \n",
    "            if (i+1 - L) < len(s):\n",
    "                s[i - L] += 1\n",
    "            forward[data_a.loc[i+1, 'hmm name']] = s\n",
    "        else:\n",
    "            break\n",
    "    for i in range(L, index[0], -1):\n",
    "        if (int(data_a.loc[i, 'envelope start']) - int(data_a.loc[i-1, 'envelope end']) <= 125 and\n",
    "            float(data_a.loc[i-1, 'E-value']) <= 1e-3):\n",
    "            s = backward.setdefault(data_a.loc[i+1, 'hmm name'], [0 for i in range(8)]) \n",
    "            if (L - i + 1) < len(s):\n",
    "                s[L - i] += 1\n",
    "            backward[data_a.loc[i+1, 'hmm name']] = s\n",
    "        else:\n",
    "            break"
   ]
  },
  {
   "cell_type": "code",
   "execution_count": 275,
   "metadata": {},
   "outputs": [
    {
     "data": {
      "text/plain": [
       "{'BAT': [0, 74, 0, 1, 0, 1, 2, 0],\n",
       " 'GAF': [1, 0, 1, 0, 0, 0, 0, 0],\n",
       " 'GAF_2': [92, 3, 1, 1, 3, 2, 0, 0],\n",
       " 'GAF_3': [1, 0, 0, 0, 0, 0, 0, 0],\n",
       " 'HATPase_c': [30, 70, 59, 28, 4, 0, 0, 0],\n",
       " 'HATPase_c_2': [0, 3, 0, 1, 1, 0, 0, 0],\n",
       " 'HTH_10': [0, 0, 74, 0, 1, 0, 1, 0],\n",
       " 'HisKA': [55, 53, 6, 2, 0, 0, 0, 0],\n",
       " 'PAS': [19, 2, 6, 2, 1, 1, 0, 0],\n",
       " 'PAS_3': [5, 32, 6, 2, 0, 0, 0, 0],\n",
       " 'PAS_4': [52, 10, 20, 3, 0, 0, 1, 0],\n",
       " 'PAS_8': [0, 2, 1, 0, 0, 0, 0, 0],\n",
       " 'PAS_9': [31, 1, 1, 0, 0, 0, 0, 0]}"
      ]
     },
     "execution_count": 275,
     "metadata": {},
     "output_type": "execute_result"
    }
   ],
   "source": [
    "forward"
   ]
  },
  {
   "cell_type": "markdown",
   "metadata": {},
   "source": [
    "### Графики "
   ]
  },
  {
   "cell_type": "code",
   "execution_count": 280,
   "metadata": {},
   "outputs": [
    {
     "name": "stdout",
     "output_type": "stream",
     "text": [
      "Using matplotlib backend: TkAgg\n"
     ]
    }
   ],
   "source": [
    "import matplotlib.pyplot as plt\n",
    "import numpy as np\n",
    "%matplotlib"
   ]
  },
  {
   "cell_type": "code",
   "execution_count": 279,
   "metadata": {},
   "outputs": [],
   "source": [
    "fig, (a, b, f, pr, pl) = plt.subplots(1, 5, sharey=True)\n",
    "ind = np.arrange(19)"
   ]
  },
  {
   "cell_type": "code",
   "execution_count": null,
   "metadata": {
    "collapsed": true
   },
   "outputs": [],
   "source": [
    "a.barh(ind, )"
   ]
  }
 ],
 "metadata": {
  "kernelspec": {
   "display_name": "Python 3",
   "language": "python",
   "name": "python3"
  },
  "language_info": {
   "codemirror_mode": {
    "name": "ipython",
    "version": 3
   },
   "file_extension": ".py",
   "mimetype": "text/x-python",
   "name": "python",
   "nbconvert_exporter": "python",
   "pygments_lexer": "ipython3",
   "version": "3.5.2"
  }
 },
 "nbformat": 4,
 "nbformat_minor": 2
}
