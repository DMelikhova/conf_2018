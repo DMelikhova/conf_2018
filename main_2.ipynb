{
 "cells": [
  {
   "cell_type": "markdown",
   "metadata": {},
   "source": [
    "### Поиск LOV и его соседей"
   ]
  },
  {
   "cell_type": "code",
   "execution_count": 168,
   "metadata": {
    "collapsed": true
   },
   "outputs": [],
   "source": [
    "from bs4 import BeautifulSoup\n",
    "'''Доступ к Uniprot'''\n",
    "from Bio import ExPASy\n",
    "from Bio import SwissProt\n",
    "import pandas as pd\n"
   ]
  },
  {
   "cell_type": "code",
   "execution_count": 59,
   "metadata": {},
   "outputs": [],
   "source": [
    "with open(\"With_Cys/Cys_sequences_2.xml\",\"r\") as f:\n",
    "    contents = f.read()\n",
    "soup = BeautifulSoup(contents,'xml')\n",
    "\n",
    "sequences = soup.sequences.findAll('sequence')"
   ]
  },
  {
   "cell_type": "code",
   "execution_count": 60,
   "metadata": {
    "collapsed": true
   },
   "outputs": [],
   "source": [
    "seqs = {}\n",
    "for seq in sequences:\n",
    "    for seg in seq.find_all('seg'):\n",
    "        if bool(seg.find(idx = '0')) == True and bool(seg.find(idx = '1')) == True:\n",
    "            hits = seg.find_all('hit')\n",
    "            if float(hits[0]['pvalue']) <= 1e-15 and float(hits[1]['pvalue']) <= 1e-15:\n",
    "                seqs.setdefault(seq['name'], []).append([int(hits[0]['pos']), int(hits[1]['pos'])])"
   ]
  },
  {
   "cell_type": "code",
   "execution_count": 61,
   "metadata": {
    "collapsed": true
   },
   "outputs": [],
   "source": [
    "with open('With_Cys/final_proteins_2.fasta', 'r') as f:\n",
    "    fasta = {}\n",
    "    for line in map(lambda st: st.rstrip('\\n'), f):\n",
    "        if line.startswith('>'):\n",
    "            name = line.lstrip('>')\n",
    "        else:\n",
    "            fasta.setdefault(name, []).append(line)"
   ]
  },
  {
   "cell_type": "code",
   "execution_count": 45,
   "metadata": {
    "collapsed": true
   },
   "outputs": [],
   "source": [
    "new_seq = {}\n",
    "for key in seqs.keys():\n",
    "    if key in fasta:\n",
    "        new_seq[key] = seqs[key]\n",
    "seqs = new_seq"
   ]
  },
  {
   "cell_type": "code",
   "execution_count": 72,
   "metadata": {
    "collapsed": true
   },
   "outputs": [],
   "source": [
    "data = pd.read_csv('With_Cys/domains_2.csv')"
   ]
  },
  {
   "cell_type": "code",
   "execution_count": 74,
   "metadata": {
    "collapsed": true
   },
   "outputs": [],
   "source": [
    "data = data[data['seq id'].isin(seqs.keys())].reset_index(drop = True)"
   ]
  },
  {
   "cell_type": "code",
   "execution_count": 75,
   "metadata": {},
   "outputs": [
    {
     "data": {
      "text/html": [
       "<div>\n",
       "<style scoped>\n",
       "    .dataframe tbody tr th:only-of-type {\n",
       "        vertical-align: middle;\n",
       "    }\n",
       "\n",
       "    .dataframe tbody tr th {\n",
       "        vertical-align: top;\n",
       "    }\n",
       "\n",
       "    .dataframe thead th {\n",
       "        text-align: right;\n",
       "    }\n",
       "</style>\n",
       "<table border=\"1\" class=\"dataframe\">\n",
       "  <thead>\n",
       "    <tr style=\"text-align: right;\">\n",
       "      <th></th>\n",
       "      <th>seq id</th>\n",
       "      <th>alignment start</th>\n",
       "      <th>alignment end</th>\n",
       "      <th>envelope start</th>\n",
       "      <th>envelope end</th>\n",
       "      <th>hmm acc</th>\n",
       "      <th>hmm name</th>\n",
       "      <th>type</th>\n",
       "      <th>hmm start</th>\n",
       "      <th>hmm end</th>\n",
       "      <th>hmm length</th>\n",
       "      <th>bit score</th>\n",
       "      <th>E-value</th>\n",
       "      <th>significance</th>\n",
       "      <th>clan</th>\n",
       "      <th>kingdom</th>\n",
       "    </tr>\n",
       "  </thead>\n",
       "  <tbody>\n",
       "    <tr>\n",
       "      <th>0</th>\n",
       "      <td>A0A1H3L262</td>\n",
       "      <td>59.0</td>\n",
       "      <td>151.0</td>\n",
       "      <td>49.0</td>\n",
       "      <td>155.0</td>\n",
       "      <td>PF13426.7</td>\n",
       "      <td>PAS_9</td>\n",
       "      <td>Domain</td>\n",
       "      <td>8.0</td>\n",
       "      <td>100.0</td>\n",
       "      <td>104.0</td>\n",
       "      <td>64.8</td>\n",
       "      <td>7.100000e-18</td>\n",
       "      <td>1.0</td>\n",
       "      <td>CL0183</td>\n",
       "      <td>Bacteria Proteobacteria</td>\n",
       "    </tr>\n",
       "    <tr>\n",
       "      <th>1</th>\n",
       "      <td>A0A1Q3I4W4</td>\n",
       "      <td>16.0</td>\n",
       "      <td>121.0</td>\n",
       "      <td>15.0</td>\n",
       "      <td>122.0</td>\n",
       "      <td>PF13426.7</td>\n",
       "      <td>PAS_9</td>\n",
       "      <td>Domain</td>\n",
       "      <td>2.0</td>\n",
       "      <td>103.0</td>\n",
       "      <td>104.0</td>\n",
       "      <td>79.0</td>\n",
       "      <td>2.600000e-22</td>\n",
       "      <td>1.0</td>\n",
       "      <td>CL0183</td>\n",
       "      <td>Bacteria Proteobacteria</td>\n",
       "    </tr>\n",
       "    <tr>\n",
       "      <th>2</th>\n",
       "      <td>A0A1F1PYR5</td>\n",
       "      <td>16.0</td>\n",
       "      <td>120.0</td>\n",
       "      <td>15.0</td>\n",
       "      <td>121.0</td>\n",
       "      <td>PF13426.7</td>\n",
       "      <td>PAS_9</td>\n",
       "      <td>Domain</td>\n",
       "      <td>2.0</td>\n",
       "      <td>103.0</td>\n",
       "      <td>104.0</td>\n",
       "      <td>72.3</td>\n",
       "      <td>3.300000e-20</td>\n",
       "      <td>1.0</td>\n",
       "      <td>CL0183</td>\n",
       "      <td>Bacteria Proteobacteria</td>\n",
       "    </tr>\n",
       "    <tr>\n",
       "      <th>3</th>\n",
       "      <td>A0A1G3K5R8</td>\n",
       "      <td>16.0</td>\n",
       "      <td>107.0</td>\n",
       "      <td>6.0</td>\n",
       "      <td>111.0</td>\n",
       "      <td>PF13426.7</td>\n",
       "      <td>PAS_9</td>\n",
       "      <td>Domain</td>\n",
       "      <td>8.0</td>\n",
       "      <td>99.0</td>\n",
       "      <td>104.0</td>\n",
       "      <td>65.9</td>\n",
       "      <td>3.200000e-18</td>\n",
       "      <td>1.0</td>\n",
       "      <td>CL0183</td>\n",
       "      <td>Bacteria Proteobacteria</td>\n",
       "    </tr>\n",
       "    <tr>\n",
       "      <th>4</th>\n",
       "      <td>A0A1G3K5R8</td>\n",
       "      <td>130.0</td>\n",
       "      <td>185.0</td>\n",
       "      <td>129.0</td>\n",
       "      <td>185.0</td>\n",
       "      <td>PF00196.19</td>\n",
       "      <td>GerE</td>\n",
       "      <td>Domain</td>\n",
       "      <td>2.0</td>\n",
       "      <td>57.0</td>\n",
       "      <td>57.0</td>\n",
       "      <td>58.6</td>\n",
       "      <td>3.300000e-16</td>\n",
       "      <td>1.0</td>\n",
       "      <td>CL0123</td>\n",
       "      <td>Bacteria Proteobacteria</td>\n",
       "    </tr>\n",
       "  </tbody>\n",
       "</table>\n",
       "</div>"
      ],
      "text/plain": [
       "       seq id  alignment start  alignment end  envelope start  envelope end  \\\n",
       "0  A0A1H3L262             59.0          151.0            49.0         155.0   \n",
       "1  A0A1Q3I4W4             16.0          121.0            15.0         122.0   \n",
       "2  A0A1F1PYR5             16.0          120.0            15.0         121.0   \n",
       "3  A0A1G3K5R8             16.0          107.0             6.0         111.0   \n",
       "4  A0A1G3K5R8            130.0          185.0           129.0         185.0   \n",
       "\n",
       "      hmm acc hmm name    type  hmm start  hmm end  hmm length  bit score  \\\n",
       "0   PF13426.7    PAS_9  Domain        8.0    100.0       104.0       64.8   \n",
       "1   PF13426.7    PAS_9  Domain        2.0    103.0       104.0       79.0   \n",
       "2   PF13426.7    PAS_9  Domain        2.0    103.0       104.0       72.3   \n",
       "3   PF13426.7    PAS_9  Domain        8.0     99.0       104.0       65.9   \n",
       "4  PF00196.19     GerE  Domain        2.0     57.0        57.0       58.6   \n",
       "\n",
       "        E-value  significance    clan                  kingdom  \n",
       "0  7.100000e-18           1.0  CL0183  Bacteria Proteobacteria  \n",
       "1  2.600000e-22           1.0  CL0183  Bacteria Proteobacteria  \n",
       "2  3.300000e-20           1.0  CL0183  Bacteria Proteobacteria  \n",
       "3  3.200000e-18           1.0  CL0183  Bacteria Proteobacteria  \n",
       "4  3.300000e-16           1.0  CL0123  Bacteria Proteobacteria  "
      ]
     },
     "execution_count": 75,
     "metadata": {},
     "output_type": "execute_result"
    }
   ],
   "source": [
    "data.drop('Unnamed: 0', axis = 1, inplace = True)\n",
    "data.head()"
   ]
  },
  {
   "cell_type": "code",
   "execution_count": 76,
   "metadata": {},
   "outputs": [
    {
     "data": {
      "text/plain": [
       "(4510, 16)"
      ]
     },
     "execution_count": 76,
     "metadata": {},
     "output_type": "execute_result"
    }
   ],
   "source": [
    "data.shape"
   ]
  },
  {
   "cell_type": "markdown",
   "metadata": {},
   "source": [
    "#### Находим LOV "
   ]
  },
  {
   "cell_type": "code",
   "execution_count": 77,
   "metadata": {
    "collapsed": true
   },
   "outputs": [],
   "source": [
    "def IfLOV(row):\n",
    "    b = False\n",
    "    if row['clan'] == 'CL0183':\n",
    "        for hit in seqs[row['seq id']]:\n",
    "            if (int(row[3]) - hit[0]) <=5 and (hit[1] + 43 - int(row[4])) <= 1:\n",
    "                return 'LOV'\n",
    "    return row['hmm name']\n",
    "        "
   ]
  },
  {
   "cell_type": "code",
   "execution_count": 78,
   "metadata": {
    "collapsed": true
   },
   "outputs": [],
   "source": [
    "data['hmm name'] = data.apply(IfLOV, axis = 1)"
   ]
  },
  {
   "cell_type": "markdown",
   "metadata": {},
   "source": [
    "#### Находим Tandem LOV"
   ]
  },
  {
   "cell_type": "code",
   "execution_count": 79,
   "metadata": {},
   "outputs": [
    {
     "name": "stderr",
     "output_type": "stream",
     "text": [
      "100%|██████████| 1477/1477 [00:02<00:00, 506.25it/s]\n"
     ]
    }
   ],
   "source": [
    "from tqdm import tqdm\n",
    "\n",
    "for name in tqdm(seqs.keys()):\n",
    "    indexes = data[(data['seq id'] == name) & (data['hmm name'] == 'LOV')].index.values\n",
    "    for i in indexes[:-1]:\n",
    "        if (data.loc[i+1, 'hmm name'] == 'LOV' and \n",
    "            int(data.loc[i+1, 'envelope start']) - int(data.loc[i, 'envelope end']) <= 125):\n",
    "            data.loc[i, 'envelope end'] = data.loc[i+1, 'envelope end']\n",
    "            data.loc[i, 'hmm name'], data.loc[i+1, 'hmm name'] = 'TLOV', '_LOV'"
   ]
  },
  {
   "cell_type": "code",
   "execution_count": 82,
   "metadata": {},
   "outputs": [],
   "source": [
    "data = data.loc[data['hmm name'] != '_LOV']"
   ]
  },
  {
   "cell_type": "markdown",
   "metadata": {},
   "source": [
    "Отсеяла все лишние ловы (те которые входят вторыми в TLOV) теперь необходимо записать получившееся в отдельный файл, и уже теперь разбивать по царствам"
   ]
  },
  {
   "cell_type": "code",
   "execution_count": 83,
   "metadata": {
    "collapsed": true
   },
   "outputs": [],
   "source": [
    "tfile = open('With_Cys/domains_LOV_2.csv', 'a')\n",
    "tfile.write(data.to_csv())\n",
    "tfile.close()"
   ]
  },
  {
   "cell_type": "code",
   "execution_count": null,
   "metadata": {
    "collapsed": true
   },
   "outputs": [],
   "source": [
    "for name in tqdm(seqs.keys()):\n",
    "    indexes = data[(data['seq id'] == name) & (data['hmm name'] == 'LOV')].index.values\n",
    "    for i in indexes[:-1]:\n",
    "        if (data.loc[i+1, 'hmm name'] == 'LOV' and \n",
    "            int(data.loc[i+1, 'envelope start']) - int(data.loc[i, 'envelope end']) <= 125):\n",
    "            data.loc[i, 'envelope end'] = data.loc[i+1, 'envelope end']\n",
    "            data.loc[i, 'hmm name'], data.loc[i+1, 'hmm name'] = 'TLOV', '_LOV'"
   ]
  },
  {
   "cell_type": "code",
   "execution_count": 81,
   "metadata": {},
   "outputs": [
    {
     "data": {
      "text/plain": [
       "(18, 16)"
      ]
     },
     "execution_count": 81,
     "metadata": {},
     "output_type": "execute_result"
    }
   ],
   "source": [
    "data[data['hmm name'] == 'TLOV'].shape"
   ]
  },
  {
   "cell_type": "code",
   "execution_count": null,
   "metadata": {
    "collapsed": true
   },
   "outputs": [],
   "source": []
  }
 ],
 "metadata": {
  "kernelspec": {
   "display_name": "Python 3",
   "language": "python",
   "name": "python3"
  },
  "language_info": {
   "codemirror_mode": {
    "name": "ipython",
    "version": 3
   },
   "file_extension": ".py",
   "mimetype": "text/x-python",
   "name": "python",
   "nbconvert_exporter": "python",
   "pygments_lexer": "ipython3",
   "version": "3.5.2"
  }
 },
 "nbformat": 4,
 "nbformat_minor": 2
}
